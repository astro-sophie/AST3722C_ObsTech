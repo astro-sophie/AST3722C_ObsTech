{
 "cells": [
  {
   "cell_type": "markdown",
   "metadata": {},
   "source": [
    "<h1 align=\"center\"> Welcome to Introduction to Python for Astronomy </h1>"
   ]
  },
  {
   "cell_type": "markdown",
   "metadata": {},
   "source": [
    "<h2 align=\"center\"> AST3722C - Observational Techniques 1 </h2>"
   ]
  },
  {
   "cell_type": "markdown",
   "metadata": {},
   "source": [
    "<h3 align=\"center\"> Professor: Dr. Jamie Tayar </h3>\n",
    "<h3 align=\"center\"> TA: Francisco Mendez </h3>"
   ]
  },
  {
   "cell_type": "markdown",
   "metadata": {},
   "source": [
    "<h2> Text Data Types </h2>\n",
    "\n",
    "Also known as strings (str), they allow the user to display text into their code. The easiest way to display text when running your code is by using a \"print\" statement.\n",
    "In order to define your string, you need to place your text within either single quotes ('') or double quotes (\"\")."
   ]
  },
  {
   "cell_type": "code",
   "execution_count": 43,
   "metadata": {},
   "outputs": [
    {
     "name": "stdout",
     "output_type": "stream",
     "text": [
      "Hello, world!\n"
     ]
    }
   ],
   "source": [
    "# Display the text \"Hello, world!\"\n",
    "print('Hello, world!')"
   ]
  },
  {
   "cell_type": "markdown",
   "metadata": {},
   "source": [
    "<h2> Numeric Data Types </h2>\n",
    "Python numbers can be divided into 3 diffeent types: integers, floats, and complex. We are only going to focus on the first 2.\n",
    "Integers (int) are considered as any whole number (no decimal point"
   ]
  },
  {
   "cell_type": "code",
   "execution_count": 3,
   "metadata": {},
   "outputs": [
    {
     "name": "stdout",
     "output_type": "stream",
     "text": [
      "These are integers: 1 -10 50\n"
     ]
    }
   ],
   "source": [
    "# Display 3 different integers\n",
    "print('These are integers:', 1, -10, 50)"
   ]
  },
  {
   "cell_type": "markdown",
   "metadata": {},
   "source": [
    "On the other hand, floats (float) are decimal numbers, usually with a large amount of significant figures if not specified otherwise."
   ]
  },
  {
   "cell_type": "code",
   "execution_count": 4,
   "metadata": {},
   "outputs": [
    {
     "name": "stdout",
     "output_type": "stream",
     "text": [
      "These are floats: 1.0 3.14159 -8.986987697976476\n"
     ]
    }
   ],
   "source": [
    "# Display 3 differet floats\n",
    "print('These are floats:', 1., 3.14159, -8.98698769797647607864)"
   ]
  },
  {
   "cell_type": "markdown",
   "metadata": {},
   "source": [
    "You can also convert different data types to another. For instance, let's convert an integer to a float by usting Python's built in function `float()`"
   ]
  },
  {
   "cell_type": "code",
   "execution_count": 5,
   "metadata": {},
   "outputs": [
    {
     "data": {
      "text/plain": [
       "10.0"
      ]
     },
     "execution_count": 5,
     "metadata": {},
     "output_type": "execute_result"
    }
   ],
   "source": [
    "# Convert an integer to a float\n",
    "float(10)"
   ]
  },
  {
   "cell_type": "markdown",
   "metadata": {},
   "source": [
    "Now let's do the opposite. We are going to convert a float to an integer by using python's build in function `int()`"
   ]
  },
  {
   "cell_type": "code",
   "execution_count": 6,
   "metadata": {},
   "outputs": [
    {
     "data": {
      "text/plain": [
       "10"
      ]
     },
     "execution_count": 6,
     "metadata": {},
     "output_type": "execute_result"
    }
   ],
   "source": [
    "# Convert a float to an integer\n",
    "int(10.5)"
   ]
  },
  {
   "cell_type": "markdown",
   "metadata": {},
   "source": [
    "Notice how `int()` rounds up our float number to the nearest whoe number. In this case, if the nearest 10th is grater than 5, it will round up the number to the next whole number.\n",
    "\n",
    "In most cases you are going to be using floats more than integers. You just have to worry about rounding up to the proper number of signifficant figures"
   ]
  },
  {
   "cell_type": "markdown",
   "metadata": {},
   "source": [
    "<h2> Variables </h2>\n",
    "Variables are a great way to label your data types if you are planning on using them later on. you can also set a varible to label data structures, which are discussed later on. Let's start by defining some basic variables"
   ]
  },
  {
   "cell_type": "code",
   "execution_count": 7,
   "metadata": {},
   "outputs": [
    {
     "name": "stdout",
     "output_type": "stream",
     "text": [
      "This is an integer: 1\n",
      "This is a float: 2.0\n",
      "This is a string: c\n"
     ]
    }
   ],
   "source": [
    "# Deffine a variable for each of the data types we know\n",
    "a = 1\n",
    "b = 2.\n",
    "c = 'c'\n",
    "\n",
    "print('This is an integer:', a)\n",
    "print('This is a float:', b)\n",
    "print('This is a string:', c)"
   ]
  },
  {
   "cell_type": "markdown",
   "metadata": {},
   "source": [
    "It is also very common to modify variables, particularly when you are manipulating data. Let's try to set variable a = b and see what happens"
   ]
  },
  {
   "cell_type": "code",
   "execution_count": 8,
   "metadata": {},
   "outputs": [
    {
     "data": {
      "text/plain": [
       "2.0"
      ]
     },
     "execution_count": 8,
     "metadata": {},
     "output_type": "execute_result"
    }
   ],
   "source": [
    "# Modify variable a\n",
    "a = b\n",
    "\n",
    "a # Here, I'm also displaying a without using a print statement"
   ]
  },
  {
   "cell_type": "markdown",
   "metadata": {},
   "source": [
    "Notice that now a is not the integer 1, but rather the float 2.0.\n",
    "\n",
    "Next, let's see if two variables are equal to each other"
   ]
  },
  {
   "cell_type": "code",
   "execution_count": 9,
   "metadata": {},
   "outputs": [
    {
     "data": {
      "text/plain": [
       "False"
      ]
     },
     "execution_count": 9,
     "metadata": {},
     "output_type": "execute_result"
    }
   ],
   "source": [
    "# Define two variables\n",
    "var1 = 5\n",
    "var2 = 10\n",
    "\n",
    "# Are these variables equal to each other?\n",
    "var1 == var2"
   ]
  },
  {
   "cell_type": "markdown",
   "metadata": {},
   "source": [
    "Obviously, these two variables are not equal to each other, that is why the code return another data type called a boolian `False`.\n",
    "\n",
    "If we want the code tu return `true`, we would have to set these two variables equal to each other"
   ]
  },
  {
   "cell_type": "code",
   "execution_count": 10,
   "metadata": {},
   "outputs": [
    {
     "data": {
      "text/plain": [
       "True"
      ]
     },
     "execution_count": 10,
     "metadata": {},
     "output_type": "execute_result"
    }
   ],
   "source": [
    "var1 = var2\n",
    "\n",
    "# Are these variables equal to each other?\n",
    "var1 == var2"
   ]
  },
  {
   "cell_type": "markdown",
   "metadata": {},
   "source": [
    "**Note:**\n",
    "\n",
    "Be careful how you label your variables. Ideally you want to label your variablesto match what they represent.\n",
    "Here are some other rules about variables:\n",
    "\n",
    "1. Variables cannot begin with a number or special character\n",
    "2. you cannot use spaces in variables"
   ]
  },
  {
   "cell_type": "markdown",
   "metadata": {},
   "source": [
    "<h2> Basic Math </h2>\n",
    "Python can also be used as a calculator to perform from the most basic mathematical operations like addition and subtraction, to the most complex ones, like solving integrals. We are going to explore the basic ones for now"
   ]
  },
  {
   "cell_type": "code",
   "execution_count": 11,
   "metadata": {},
   "outputs": [
    {
     "name": "stdout",
     "output_type": "stream",
     "text": [
      "Addition: 9.0\n",
      "Subtraction: -1.0\n",
      "Multiplication: 20.0\n",
      "Division: 0.8\n",
      "Exponential: 1024.0\n"
     ]
    }
   ],
   "source": [
    "# Define some variables\n",
    "a = 4.\n",
    "b = 5.\n",
    "\n",
    "# Perform addition\n",
    "print('Addition:', a + b)\n",
    "\n",
    "# Perform subtraction\n",
    "print('Subtraction:',a - b)\n",
    "\n",
    "# Perform multiplication\n",
    "print('Multiplication:', a*b)\n",
    "\n",
    "# Perform division\n",
    "print('Division:', a/b)\n",
    "\n",
    "# Perform exponential\n",
    "print('Exponential:', a**b)"
   ]
  },
  {
   "cell_type": "markdown",
   "metadata": {},
   "source": [
    "Notice that the syntax to take an exponent is not the typacal `^` symbol, but rather `**`.\n",
    "\n",
    "**Note:**\n",
    "\n",
    "You cannot perform mathematical operations betwwen a numerical data type and a text data type. The code will give you a `TypeError`.\n",
    "\n",
    "However, you can concatenate two strings together with the `+` sign. This will be helful later to open and save data in different foders in your computer. See and example:"
   ]
  },
  {
   "cell_type": "code",
   "execution_count": 12,
   "metadata": {},
   "outputs": [
    {
     "data": {
      "text/plain": [
       "'HelloWorld'"
      ]
     },
     "execution_count": 12,
     "metadata": {},
     "output_type": "execute_result"
    }
   ],
   "source": [
    "'Hello' + 'World'"
   ]
  },
  {
   "cell_type": "markdown",
   "metadata": {},
   "source": [
    "<h2> Data Stuructures </h2>\n",
    "They are useful to store different data types, particularly numerical data types. The ones you are going to encounter the most are lists and arrays. Even though they serve the same purpose, they are different, but we will worry about that later. for now let's create a list"
   ]
  },
  {
   "cell_type": "code",
   "execution_count": 13,
   "metadata": {},
   "outputs": [
    {
     "data": {
      "text/plain": [
       "[1, 2.0, 3.0, '4', '5']"
      ]
     },
     "execution_count": 13,
     "metadata": {},
     "output_type": "execute_result"
    }
   ],
   "source": [
    "# Create a list\n",
    "my_list = [1, 2., 3., '4', '5']\n",
    "\n",
    "my_list"
   ]
  },
  {
   "cell_type": "markdown",
   "metadata": {},
   "source": [
    "A list, as you can see is just a set of selected items separated by commas. And, they can be different data types.\n",
    "\n",
    "We can also create a list of only integers by using python's built in functions called `list` and `range()`"
   ]
  },
  {
   "cell_type": "code",
   "execution_count": 14,
   "metadata": {},
   "outputs": [
    {
     "data": {
      "text/plain": [
       "[0, 1, 2, 3, 4, 5, 6, 7, 8, 9]"
      ]
     },
     "execution_count": 14,
     "metadata": {},
     "output_type": "execute_result"
    }
   ],
   "source": [
    "# Create a list of integers from 1 - 10\n",
    "int_list = list(range(10))\n",
    "\n",
    "int_list"
   ]
  },
  {
   "cell_type": "markdown",
   "metadata": {},
   "source": [
    "Notice that our list does not actually go from 1 - 10. Why?\n",
    "\n",
    "The way that python numbers work is that the first number is always going to be 0, and this applies when creating a list of numbers, or indexing/slicing a list. That is why our list of integers starts at 0 and ends at 9. If we want a list of numbers that starts at 1 and ends at 10, we need to specify that in our `range()` function, where the ending number is 1 plus the number we want. So, the range function will look like `range(start_num, end_num)`"
   ]
  },
  {
   "cell_type": "code",
   "execution_count": 15,
   "metadata": {},
   "outputs": [
    {
     "data": {
      "text/plain": [
       "[1, 2, 3, 4, 5, 6, 7, 8, 9, 10]"
      ]
     },
     "execution_count": 15,
     "metadata": {},
     "output_type": "execute_result"
    }
   ],
   "source": [
    "int_list = list(range(1, 11))\n",
    "\n",
    "int_list"
   ]
  },
  {
   "cell_type": "markdown",
   "metadata": {},
   "source": [
    "Now let's say that I want to access a particular item in my list. In order to do that we have to index through the list using brackets `list[index]`."
   ]
  },
  {
   "cell_type": "code",
   "execution_count": 16,
   "metadata": {},
   "outputs": [
    {
     "name": "stdout",
     "output_type": "stream",
     "text": [
      "The first element of my list is: 1\n",
      "The last element of my list is: 10\n",
      "The fourth element of my list is: 4\n",
      "The second to last element of my list is: 9\n"
     ]
    }
   ],
   "source": [
    "print('The first element of my list is:', int_list[0])\n",
    "print('The last element of my list is:', int_list[-1])\n",
    "print('The fourth element of my list is:', int_list[3])\n",
    "print('The second to last element of my list is:', int_list[-2])"
   ]
  },
  {
   "cell_type": "markdown",
   "metadata": {},
   "source": [
    "Finally, let's talk about arrays. Like mentioned before, they are just like lists, but with an important difference between them. \n",
    "\n",
    "First, let's create an array. In order to do that, we are going to import a python module named Numpy"
   ]
  },
  {
   "cell_type": "code",
   "execution_count": 17,
   "metadata": {},
   "outputs": [],
   "source": [
    "import numpy as np"
   ]
  },
  {
   "cell_type": "markdown",
   "metadata": {},
   "source": [
    "Here, I imported the module numpy with the command `import <module name>` as a given name with the command `as`.\n",
    "\n",
    "Let's define our array now using numpy's function `array`"
   ]
  },
  {
   "cell_type": "code",
   "execution_count": 18,
   "metadata": {},
   "outputs": [
    {
     "data": {
      "text/plain": [
       "array([ 1,  2,  3,  4,  5,  6,  7,  8,  9, 10])"
      ]
     },
     "execution_count": 18,
     "metadata": {},
     "output_type": "execute_result"
    }
   ],
   "source": [
    "# Define an array\n",
    "my_array = np.array(range(1, 11))\n",
    "\n",
    "my_array"
   ]
  },
  {
   "cell_type": "markdown",
   "metadata": {},
   "source": [
    "So, what's the difference between lists and arrays? The main difference is that with arrays you can do math operations, whereas with lists, you cannot. Let's see an example where we square alll the elements in an array"
   ]
  },
  {
   "cell_type": "code",
   "execution_count": 19,
   "metadata": {},
   "outputs": [
    {
     "name": "stdout",
     "output_type": "stream",
     "text": [
      "This is the original array: [ 1  2  3  4  5  6  7  8  9 10]\n",
      "This is the original array squared: [  1.   4.   9.  16.  25.  36.  49.  64.  81. 100.]\n"
     ]
    }
   ],
   "source": [
    "print('This is the original array:', my_array)\n",
    "print('This is the original array squared:', my_array**2.)"
   ]
  },
  {
   "cell_type": "markdown",
   "metadata": {},
   "source": [
    "Another difference is that arrays can be reshaped. Let's look at what is the shape of my array by using numpy's function `shape`"
   ]
  },
  {
   "cell_type": "code",
   "execution_count": 20,
   "metadata": {},
   "outputs": [
    {
     "data": {
      "text/plain": [
       "(10,)"
      ]
     },
     "execution_count": 20,
     "metadata": {},
     "output_type": "execute_result"
    }
   ],
   "source": [
    "my_array.shape"
   ]
  },
  {
   "cell_type": "markdown",
   "metadata": {},
   "source": [
    "The way that shape (and Python) works is that it will output a tuple (another Python object) where the first element represents the number of rows and the second is the number of columns. Since our array is 1D, it will only output the number of columns.\n",
    "\n",
    "Let's re-shape our array using numpy's function `reshape`. The format of this function is `reshape(nrows, ncolumns)`"
   ]
  },
  {
   "cell_type": "code",
   "execution_count": 21,
   "metadata": {},
   "outputs": [
    {
     "data": {
      "text/plain": [
       "array([[ 1,  2,  3,  4,  5],\n",
       "       [ 6,  7,  8,  9, 10]])"
      ]
     },
     "execution_count": 21,
     "metadata": {},
     "output_type": "execute_result"
    }
   ],
   "source": [
    "# Re-shape the array into 5 columns and 2 rows and set a different variable for it\n",
    "reshaped_arr = my_array.reshape(2, 5)\n",
    "\n",
    "reshaped_arr\n"
   ]
  },
  {
   "cell_type": "code",
   "execution_count": 22,
   "metadata": {},
   "outputs": [
    {
     "data": {
      "text/plain": [
       "(2, 5)"
      ]
     },
     "execution_count": 22,
     "metadata": {},
     "output_type": "execute_result"
    }
   ],
   "source": [
    "# The shape of the array is\n",
    "reshaped_arr.shape"
   ]
  },
  {
   "cell_type": "markdown",
   "metadata": {},
   "source": [
    "We have reshaped our 1D array into a 2D array. These are going to be very common in this class. Particularly because that's how images are displayed"
   ]
  },
  {
   "cell_type": "markdown",
   "metadata": {},
   "source": [
    "<h2> Loops </h2>\n",
    "Loops are great tools if you want to iterate over different elements one by one without having to write the same code for each one of them. One of the loops we are going to use a lot is called a `for loop`. For instance, let's say that you want to print all the elements of a list individually. You can make that work using several print statements, but the most efficient way is to use a for loop"
   ]
  },
  {
   "cell_type": "code",
   "execution_count": 23,
   "metadata": {},
   "outputs": [
    {
     "name": "stdout",
     "output_type": "stream",
     "text": [
      "1\n",
      "2\n",
      "3\n",
      "4\n",
      "5\n",
      "6\n",
      "7\n",
      "8\n",
      "9\n",
      "10\n"
     ]
    }
   ],
   "source": [
    "# Print all the elements of my_array using a for loop\n",
    "for i in my_array:\n",
    "    print(i)"
   ]
  },
  {
   "cell_type": "markdown",
   "metadata": {},
   "source": [
    "The other type of loops that you can encounter are `while` loops. These are a little dangerous as you could get stuck into an infinate loop and are a little harder to debug. you require a conditional (`if statement`) to break them. Let's see an example by printing all the numbers from 1 to 10"
   ]
  },
  {
   "cell_type": "code",
   "execution_count": 24,
   "metadata": {},
   "outputs": [
    {
     "name": "stdout",
     "output_type": "stream",
     "text": [
      "1\n",
      "2\n",
      "3\n",
      "4\n",
      "5\n",
      "6\n",
      "7\n",
      "8\n",
      "9\n",
      "10\n"
     ]
    }
   ],
   "source": [
    "# Print the numbers from 1 - 10\n",
    "i = 0\n",
    "\n",
    "while i < 10:\n",
    "    i += 1\n",
    "    print(i)"
   ]
  },
  {
   "cell_type": "markdown",
   "metadata": {},
   "source": [
    "Or, I could set a condition to make the code stop earlier"
   ]
  },
  {
   "cell_type": "code",
   "execution_count": 25,
   "metadata": {},
   "outputs": [
    {
     "name": "stdout",
     "output_type": "stream",
     "text": [
      "1\n",
      "2\n",
      "3\n",
      "4\n",
      "5\n"
     ]
    }
   ],
   "source": [
    "# Stop loop when i = 5\n",
    "i = 0\n",
    "\n",
    "while i < 100:\n",
    "    i += 1\n",
    "    print(i)\n",
    "    \n",
    "    if i == 5:\n",
    "        break\n",
    "    "
   ]
  },
  {
   "cell_type": "markdown",
   "metadata": {},
   "source": [
    "<h2> Conditionals (if/else) </h2>\n",
    "Like you saw in the previous example, conditionals can be used to either filter data or break diffeent loops. An initial condition is given by an `if` statement. A secondary condition can be given by either another if statement or by using `elif`. Finally, a contradictory condition to the original one can be given using the `else` statement.\n",
    "\n",
    "For example, we are going to combine a for loop with different conditionals to figure out if the elements of an array are even or odd"
   ]
  },
  {
   "cell_type": "code",
   "execution_count": 26,
   "metadata": {},
   "outputs": [
    {
     "name": "stdout",
     "output_type": "stream",
     "text": [
      "1 is odd\n",
      "2 is even\n",
      "3 is odd\n",
      "4 is even\n",
      "5 is odd\n",
      "6 is even\n",
      "7 is odd\n",
      "8 is even\n",
      "9 is odd\n",
      "10 is even\n"
     ]
    }
   ],
   "source": [
    "for i in my_array:\n",
    "    # Set up the condition to print all the even numbers\n",
    "    if (i % 2) == 0:\n",
    "        print(i, 'is even')\n",
    "        \n",
    "    # Set up the condition to print all the odd numbers\n",
    "    else:\n",
    "        print(i, 'is odd')"
   ]
  },
  {
   "cell_type": "markdown",
   "metadata": {},
   "source": [
    "<h2> Graphing </h2>\n",
    "Most of the time, you are going to be working with large data sets. At this point, it is not worth it to try to anderstand your data by just looking at numbers, they won't make sense at all. Ideally, you want to plot your data to see exactly what it looks like. That's how you can make a better analysis of your data.\n",
    "\n",
    "Just like Numpy, Python has another module to handle plotting/graphing your data called Matplotlib. Let's look at an example where I plot my original array on th x-axis and the square and cube of such array in the y-axis"
   ]
  },
  {
   "cell_type": "code",
   "execution_count": 27,
   "metadata": {},
   "outputs": [
    {
     "data": {
      "image/png": "[encoded data removed]",
      "text/plain": [
       "<Figure size 432x288 with 1 Axes>"
      ]
     },
     "metadata": {
      "needs_background": "light"
     },
     "output_type": "display_data"
    }
   ],
   "source": [
    "import matplotlib.pyplot as plt\n",
    "%matplotlib inline\n",
    "\n",
    "# Plot the square and cube of an array\n",
    "#plt.title('This is a Title')\n",
    "#plt.xlabel('X Axis')\n",
    "#plt.ylabel('Y Axis')\n",
    "plt.plot(my_array, my_array**2, 'k-')\n",
    "plt.plot(my_array, my_array**3, 'r-')\n",
    "plt.show()"
   ]
  },
  {
   "cell_type": "markdown",
   "metadata": {},
   "source": [
    "<h2> Manipulating Files and Directories </h2>\n",
    "In real life, you are not going to be creating your own data. You actually are going to open up your REAL data from files that you save on your flash drive or in your computer.So, knowing how to tell your computer to load up a file that you have stored is important.\n",
    "\n",
    "We are going to look at an example of how to open a basic text file, acess the data in it, plot it, manipulate it, and then save it to a different directory that we are going to create"
   ]
  },
  {
   "cell_type": "code",
   "execution_count": 28,
   "metadata": {},
   "outputs": [],
   "source": [
    "# Define the directory where my data is stored\n",
    "data_dir = './'"
   ]
  },
  {
   "cell_type": "markdown",
   "metadata": {},
   "source": [
    "The path to a directory is defined as a string, that is why you see the quotation marks around it. Since our data is being stored in the same directory (folder) where the code is we can define the current directory as '.'. The '/' at the end symbolyses the end of the path of the directory.\n",
    "\n",
    "Now, let's see what files do you have stored in that particular directory. In order to do that, we can use the module called `os` and it's built in function called `listdir` to look at all the files and directories inside our current directory"
   ]
  },
  {
   "cell_type": "code",
   "execution_count": 29,
   "metadata": {},
   "outputs": [
    {
     "data": {
      "text/plain": [
       "['.ipynb_checkpoints', 'Intro_to_python.ipynb', 'hchi_5s_I001.FIT', 'data.dat']"
      ]
     },
     "execution_count": 29,
     "metadata": {},
     "output_type": "execute_result"
    }
   ],
   "source": [
    "import os\n",
    "\n",
    "# List all the elements in my data directory\n",
    "os.listdir(data_dir)"
   ]
  },
  {
   "cell_type": "markdown",
   "metadata": {},
   "source": [
    "Now that I know which files are in my directory, let's load up the one we care about, which is `data.dat`. You can us numpy to read text files"
   ]
  },
  {
   "cell_type": "code",
   "execution_count": 30,
   "metadata": {},
   "outputs": [],
   "source": [
    "# Open the data file\n",
    "data = np.genfromtxt(data_dir + 'data.dat')"
   ]
  },
  {
   "cell_type": "markdown",
   "metadata": {},
   "source": [
    "This is an old data set from my research as an undergraduate student. These are the results of the magnetic activity of a star during several observations. The data set is ditributed as the following:\n",
    "\n",
    "* First column is the Activity index\n",
    "* Second column is the error of such index\n",
    "* Third column is the observation date in MJD\n",
    "* Fourth column is the SNR of the observation\n",
    "\n",
    "Now that we know this, let's plot our data set. We want to have the observation date on the x-axis and the activity index on the y-axis. And to make it more fun, let's plot our data points with error bars.\n",
    "\n",
    "Before plotting anything, let's extract all the information that we need from the data set. In order to do that, we are going to use a technique call slicing"
   ]
  },
  {
   "cell_type": "code",
   "execution_count": 31,
   "metadata": {},
   "outputs": [
    {
     "data": {
      "image/png": "[encoded data removed]",
      "text/plain": [
       "<Figure size 432x288 with 1 Axes>"
      ]
     },
     "metadata": {
      "needs_background": "light"
     },
     "output_type": "display_data"
    }
   ],
   "source": [
    "# Extract the info from the data set\n",
    "date = data[:,2]\n",
    "index = data[:,0]\n",
    "error = data[:,1]\n",
    "\n",
    "# Plot the Stellar activity with error bars\n",
    "%matplotlib inline\n",
    "\n",
    "plt.title('Stellar Activity')\n",
    "plt.ylabel('Activity Index')\n",
    "plt.xlabel('MJD')\n",
    "plt.errorbar(date, index, yerr=error, fmt='k.', capsize=3)\n",
    "plt.show()"
   ]
  },
  {
   "cell_type": "markdown",
   "metadata": {},
   "source": [
    "Now, let's say that I want to re-save this file into a new one that doesn't hava the SNR column. First, let's group the data we want to save into a table. To do that, we are goung to use Numpy's function `column_stack`. Then, to save our data as a .txt, we can use the function `savetxt`. But, for training purposes, let's save this file into another directory that we can create. To do that, we can use the mudele `os` and it;s built in function `mkdir`"
   ]
  },
  {
   "cell_type": "code",
   "execution_count": 32,
   "metadata": {},
   "outputs": [],
   "source": [
    "# Stack the data we want to save\n",
    "data_out = np.column_stack([date, index, error])\n",
    "\n",
    "# Create the directory to save the data\n",
    "save_dir = './new_dir/'\n",
    "os.mkdir(save_dir)\n",
    "\n",
    "# Save the data\n",
    "np.savetxt(save_dir+'data_out.txt', data_out)\n"
   ]
  },
  {
   "cell_type": "markdown",
   "metadata": {},
   "source": [
    "<h2> Dealing with FITS Files </h2>\n",
    "When reducing astronomical data, the file type that you are going to encounter the most are FITS files. These have two major components: The header, where all the information about your image is stored, and the data itself. \n",
    "\n",
    "Let's take a look how we can open these files and access the information. In order to open these files, we have to use a Python module called `Astropy`"
   ]
  },
  {
   "cell_type": "code",
   "execution_count": 39,
   "metadata": {},
   "outputs": [],
   "source": [
    "from astropy.io import fits\n",
    "\n",
    "# Get the header information from a fits file\n",
    "header = fits.getheader('./hchi_5s_I001.FIT')\n",
    "\n",
    "# Get the data from the fits files\n",
    "data = fits.getdata('./hchi_5s_I001.FIT')"
   ]
  },
  {
   "cell_type": "markdown",
   "metadata": {},
   "source": [
    "Now that we have access to the data, let's plot it. Since this is an image, we cannot to a regular plot like the ones from above. We are going to use another feature from matplotlib called `imshow`"
   ]
  },
  {
   "cell_type": "code",
   "execution_count": 42,
   "metadata": {},
   "outputs": [
    {
     "data": {
      "image/png": "[encoded data removed]",
      "text/plain": [
       "<Figure size 432x288 with 1 Axes>"
      ]
     },
     "metadata": {
      "needs_background": "light"
     },
     "output_type": "display_data"
    }
   ],
   "source": [
    "# Plot the image\n",
    "plt.imshow(data, cmap='gray')\n",
    "plt.show()"
   ]
  },
  {
   "cell_type": "code",
   "execution_count": null,
   "metadata": {},
   "outputs": [],
   "source": []
  }
 ],
 "metadata": {
  "kernelspec": {
   "display_name": "Python 3",
   "language": "python",
   "name": "python3"
  },
  "language_info": {
   "codemirror_mode": {
    "name": "ipython",
    "version": 3
   },
   "file_extension": ".py",
   "mimetype": "text/x-python",
   "name": "python",
   "nbconvert_exporter": "python",
   "pygments_lexer": "ipython3",
   "version": "3.9.2"
  }
 },
 "nbformat": 4,
 "nbformat_minor": 4
}
