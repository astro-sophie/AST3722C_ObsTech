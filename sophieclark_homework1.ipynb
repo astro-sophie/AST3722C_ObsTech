{
 "cells": [
  {
   "cell_type": "markdown",
   "id": "trained-twelve",
   "metadata": {},
   "source": [
    "Sophie Clark\n",
    "AST 3722C\n",
    "Professor Tayar\n",
    "1/13/2022\n",
    "# Homework 1: Set Up & Test Python"
   ]
  },
  {
   "cell_type": "code",
   "execution_count": 17,
   "id": "understanding-announcement",
   "metadata": {
    "scrolled": true
   },
   "outputs": [
    {
     "name": "stdout",
     "output_type": "stream",
     "text": [
      "Requirement already satisfied: astroquery in c:\\python\\python39\\lib\\site-packages (0.4.5)Note: you may need to restart the kernel to use updated packages.\n",
      "Requirement already satisfied: astropy>=4.0 in c:\\python\\python39\\lib\\site-packages (from astroquery) (4.2)\n",
      "Requirement already satisfied: beautifulsoup4>=4.3.2 in c:\\python\\python39\\lib\\site-packages (from astroquery) (4.10.0)\n",
      "Requirement already satisfied: requests>=2.4.3 in c:\\python\\python39\\lib\\site-packages (from astroquery) (2.27.1)\n",
      "Requirement already satisfied: pyvo>=1.1 in c:\\python\\python39\\lib\\site-packages (from astroquery) (1.2)\n",
      "Requirement already satisfied: numpy>=1.16 in c:\\python\\python39\\lib\\site-packages (from astroquery) (1.20.1)\n",
      "Requirement already satisfied: keyring>=4.0 in c:\\python\\python39\\lib\\site-packages (from astroquery) (23.5.0)\n",
      "Requirement already satisfied: html5lib>=0.999 in c:\\python\\python39\\lib\\site-packages (from astroquery) (1.1)\n",
      "Requirement already satisfied: pyerfa in c:\\python\\python39\\lib\\site-packages (from astropy>=4.0->astroquery) (1.7.2)\n",
      "Requirement already satisfied: soupsieve>1.2 in c:\\python\\python39\\lib\\site-packages (from beautifulsoup4>=4.3.2->astroquery) (2.3.1)\n",
      "Requirement already satisfied: six>=1.9 in c:\\python\\python39\\lib\\site-packages (from html5lib>=0.999->astroquery) (1.15.0)\n",
      "\n",
      "Requirement already satisfied: webencodings in c:\\python\\python39\\lib\\site-packages (from html5lib>=0.999->astroquery) (0.5.1)\n",
      "Requirement already satisfied: pywin32-ctypes!=0.1.0,!=0.1.1 in c:\\python\\python39\\lib\\site-packages (from keyring>=4.0->astroquery) (0.2.0)\n",
      "Requirement already satisfied: importlib-metadata>=3.6 in c:\\python\\python39\\lib\\site-packages (from keyring>=4.0->astroquery) (4.10.1)\n",
      "Requirement already satisfied: urllib3<1.27,>=1.21.1 in c:\\python\\python39\\lib\\site-packages (from requests>=2.4.3->astroquery) (1.26.8)\n",
      "Requirement already satisfied: charset-normalizer~=2.0.0 in c:\\python\\python39\\lib\\site-packages (from requests>=2.4.3->astroquery) (2.0.10)\n",
      "Requirement already satisfied: idna<4,>=2.5 in c:\\python\\python39\\lib\\site-packages (from requests>=2.4.3->astroquery) (3.3)\n",
      "Requirement already satisfied: certifi>=2017.4.17 in c:\\python\\python39\\lib\\site-packages (from requests>=2.4.3->astroquery) (2021.10.8)\n",
      "Requirement already satisfied: zipp>=0.5 in c:\\python\\python39\\lib\\site-packages (from importlib-metadata>=3.6->keyring>=4.0->astroquery) (3.7.0)\n",
      "Requirement already satisfied: astroplan in c:\\python\\python39\\lib\\site-packages (0.8)\n",
      "Requirement already satisfied: six in c:\\python\\python39\\lib\\site-packages (from astroplan) (1.15.0)\n",
      "Requirement already satisfied: numpy>=1.17 in c:\\python\\python39\\lib\\site-packages (from astroplan) (1.20.1)\n",
      "Requirement already satisfied: astropy>=4 in c:\\python\\python39\\lib\\site-packages (from astroplan) (4.2)\n",
      "Requirement already satisfied: pytz in c:\\python\\python39\\lib\\site-packages (from astroplan) (2021.1)\n",
      "Requirement already satisfied: pyerfa in c:\\python\\python39\\lib\\site-packages (from astropy>=4->astroplan) (1.7.2)\n",
      "Note: you may need to restart the kernel to use updated packages.\n",
      "Requirement already satisfied: scikit-image in c:\\python\\python39\\lib\\site-packages (0.19.1)\n",
      "Requirement already satisfied: networkx>=2.2 in c:\\python\\python39\\lib\\site-packages (from scikit-image) (2.6.3)\n",
      "Requirement already satisfied: scipy>=1.4.1 in c:\\python\\python39\\lib\\site-packages (from scikit-image) (1.6.2)\n",
      "Requirement already satisfied: PyWavelets>=1.1.1 in c:\\python\\python39\\lib\\site-packages (from scikit-image) (1.2.0)\n",
      "Requirement already satisfied: tifffile>=2019.7.26 in c:\\python\\python39\\lib\\site-packages (from scikit-image) (2021.11.2)\n",
      "Requirement already satisfied: pillow!=7.1.0,!=7.1.1,!=8.3.0,>=6.1.0 in c:\\python\\python39\\lib\\site-packages (from scikit-image) (9.0.0)\n",
      "Requirement already satisfied: packaging>=20.0 in c:\\python\\python39\\lib\\site-packages (from scikit-image) (20.9)\n",
      "Requirement already satisfied: imageio>=2.4.1 in c:\\python\\python39\\lib\\site-packages (from scikit-image) (2.13.5)\n",
      "Requirement already satisfied: numpy>=1.17.0 in c:\\python\\python39\\lib\\site-packages (from scikit-image) (1.20.1)\n",
      "Requirement already satisfied: pyparsing>=2.0.2 in c:\\python\\python39\\lib\\site-packages (from packaging>=20.0->scikit-image) (2.4.7)\n",
      "Note: you may need to restart the kernel to use updated packages.\n",
      "Requirement already satisfied: photutils in c:\\python\\python39\\lib\\site-packages (1.3.0)Note: you may need to restart the kernel to use updated packages.\n",
      "\n",
      "Requirement already satisfied: numpy>=1.17 in c:\\python\\python39\\lib\\site-packages (from photutils) (1.20.1)\n",
      "Requirement already satisfied: astropy>=4.0 in c:\\python\\python39\\lib\\site-packages (from photutils) (4.2)\n",
      "Requirement already satisfied: pyerfa in c:\\python\\python39\\lib\\site-packages (from astropy>=4.0->photutils) (1.7.2)\n",
      "Requirement already satisfied: ipywidgets in c:\\python\\python39\\lib\\site-packages (7.6.3)\n",
      "Requirement already satisfied: traitlets>=4.3.1 in c:\\python\\python39\\lib\\site-packages (from ipywidgets) (5.0.5)\n",
      "Requirement already satisfied: ipython>=4.0.0 in c:\\python\\python39\\lib\\site-packages (from ipywidgets) (7.20.0)\n",
      "Requirement already satisfied: widgetsnbextension~=3.5.0 in c:\\python\\python39\\lib\\site-packages (from ipywidgets) (3.5.1)\n",
      "Requirement already satisfied: jupyterlab-widgets>=1.0.0 in c:\\python\\python39\\lib\\site-packages (from ipywidgets) (1.0.0)\n",
      "Requirement already satisfied: nbformat>=4.2.0 in c:\\python\\python39\\lib\\site-packages (from ipywidgets) (5.1.2)\n",
      "Requirement already satisfied: ipykernel>=4.5.1 in c:\\python\\python39\\lib\\site-packages (from ipywidgets) (5.5.0)\n",
      "Requirement already satisfied: tornado>=4.2 in c:\\python\\python39\\lib\\site-packages (from ipykernel>=4.5.1->ipywidgets) (6.1)\n",
      "Requirement already satisfied: jupyter-client in c:\\python\\python39\\lib\\site-packages (from ipykernel>=4.5.1->ipywidgets) (6.1.11)\n",
      "Requirement already satisfied: decorator in c:\\python\\python39\\lib\\site-packages (from ipython>=4.0.0->ipywidgets) (4.4.2)\n",
      "Requirement already satisfied: backcall in c:\\python\\python39\\lib\\site-packages (from ipython>=4.0.0->ipywidgets) (0.2.0)\n",
      "Requirement already satisfied: pygments in c:\\python\\python39\\lib\\site-packages (from ipython>=4.0.0->ipywidgets) (2.8.0)\n",
      "Requirement already satisfied: setuptools>=18.5 in c:\\python\\python39\\lib\\site-packages (from ipython>=4.0.0->ipywidgets) (49.2.1)\n",
      "Requirement already satisfied: colorama in c:\\python\\python39\\lib\\site-packages (from ipython>=4.0.0->ipywidgets) (0.4.4)\n",
      "Requirement already satisfied: pickleshare in c:\\python\\python39\\lib\\site-packages (from ipython>=4.0.0->ipywidgets) (0.7.5)\n",
      "Requirement already satisfied: prompt-toolkit!=3.0.0,!=3.0.1,<3.1.0,>=2.0.0 in c:\\python\\python39\\lib\\site-packages (from ipython>=4.0.0->ipywidgets) (3.0.16)\n",
      "Requirement already satisfied: jedi>=0.16 in c:\\python\\python39\\lib\\site-packages (from ipython>=4.0.0->ipywidgets) (0.18.0)\n",
      "Requirement already satisfied: jsonschema!=2.5.0,>=2.4 in c:\\python\\python39\\lib\\site-packages (from nbformat>=4.2.0->ipywidgets) (3.2.0)\n",
      "Requirement already satisfied: jupyter-core in c:\\python\\python39\\lib\\site-packages (from nbformat>=4.2.0->ipywidgets) (4.7.1)\n",
      "Requirement already satisfied: ipython-genutils in c:\\python\\python39\\lib\\site-packages (from nbformat>=4.2.0->ipywidgets) (0.2.0)\n",
      "Requirement already satisfied: notebook>=4.4.1 in c:\\python\\python39\\lib\\site-packages (from widgetsnbextension~=3.5.0->ipywidgets) (6.2.0)\n",
      "Requirement already satisfied: parso<0.9.0,>=0.8.0 in c:\\python\\python39\\lib\\site-packages (from jedi>=0.16->ipython>=4.0.0->ipywidgets) (0.8.1)\n",
      "Requirement already satisfied: attrs>=17.4.0 in c:\\python\\python39\\lib\\site-packages (from jsonschema!=2.5.0,>=2.4->nbformat>=4.2.0->ipywidgets) (20.3.0)\n",
      "Requirement already satisfied: six>=1.11.0 in c:\\python\\python39\\lib\\site-packages (from jsonschema!=2.5.0,>=2.4->nbformat>=4.2.0->ipywidgets) (1.15.0)\n",
      "Requirement already satisfied: pyrsistent>=0.14.0 in c:\\python\\python39\\lib\\site-packages (from jsonschema!=2.5.0,>=2.4->nbformat>=4.2.0->ipywidgets) (0.17.3)\n",
      "Requirement already satisfied: argon2-cffi in c:\\python\\python39\\lib\\site-packages (from notebook>=4.4.1->widgetsnbextension~=3.5.0->ipywidgets) (20.1.0)\n",
      "Requirement already satisfied: nbconvert in c:\\python\\python39\\lib\\site-packages (from notebook>=4.4.1->widgetsnbextension~=3.5.0->ipywidgets) (6.0.7)\n",
      "Requirement already satisfied: Send2Trash>=1.5.0 in c:\\python\\python39\\lib\\site-packages (from notebook>=4.4.1->widgetsnbextension~=3.5.0->ipywidgets) (1.5.0)\n",
      "Requirement already satisfied: jinja2 in c:\\python\\python39\\lib\\site-packages (from notebook>=4.4.1->widgetsnbextension~=3.5.0->ipywidgets) (2.11.3)\n",
      "Requirement already satisfied: terminado>=0.8.3 in c:\\python\\python39\\lib\\site-packages (from notebook>=4.4.1->widgetsnbextension~=3.5.0->ipywidgets) (0.9.2)\n",
      "Requirement already satisfied: pyzmq>=17 in c:\\python\\python39\\lib\\site-packages (from notebook>=4.4.1->widgetsnbextension~=3.5.0->ipywidgets) (22.0.3)\n",
      "Requirement already satisfied: prometheus-client in c:\\python\\python39\\lib\\site-packages (from notebook>=4.4.1->widgetsnbextension~=3.5.0->ipywidgets) (0.9.0)\n",
      "Requirement already satisfied: python-dateutil>=2.1 in c:\\python\\python39\\lib\\site-packages (from jupyter-client->ipykernel>=4.5.1->ipywidgets) (2.8.1)\n",
      "Requirement already satisfied: pywin32>=1.0 in c:\\python\\python39\\lib\\site-packages (from jupyter-core->nbformat>=4.2.0->ipywidgets) (300)\n",
      "Requirement already satisfied: wcwidth in c:\\python\\python39\\lib\\site-packages (from prompt-toolkit!=3.0.0,!=3.0.1,<3.1.0,>=2.0.0->ipython>=4.0.0->ipywidgets) (0.2.5)\n",
      "Requirement already satisfied: pywinpty>=0.5 in c:\\python\\python39\\lib\\site-packages (from terminado>=0.8.3->notebook>=4.4.1->widgetsnbextension~=3.5.0->ipywidgets) (0.5.7)\n",
      "Requirement already satisfied: cffi>=1.0.0 in c:\\python\\python39\\lib\\site-packages (from argon2-cffi->notebook>=4.4.1->widgetsnbextension~=3.5.0->ipywidgets) (1.14.5)\n",
      "Requirement already satisfied: MarkupSafe>=0.23 in c:\\python\\python39\\lib\\site-packages (from jinja2->notebook>=4.4.1->widgetsnbextension~=3.5.0->ipywidgets) (1.1.1)\n",
      "Requirement already satisfied: mistune<2,>=0.8.1 in c:\\python\\python39\\lib\\site-packages (from nbconvert->notebook>=4.4.1->widgetsnbextension~=3.5.0->ipywidgets) (0.8.4)\n",
      "Requirement already satisfied: entrypoints>=0.2.2 in c:\\python\\python39\\lib\\site-packages (from nbconvert->notebook>=4.4.1->widgetsnbextension~=3.5.0->ipywidgets) (0.3)\n",
      "Requirement already satisfied: nbclient<0.6.0,>=0.5.0 in c:\\python\\python39\\lib\\site-packages (from nbconvert->notebook>=4.4.1->widgetsnbextension~=3.5.0->ipywidgets) (0.5.2)\n",
      "Requirement already satisfied: bleach in c:\\python\\python39\\lib\\site-packages (from nbconvert->notebook>=4.4.1->widgetsnbextension~=3.5.0->ipywidgets) (3.3.0)\n",
      "Requirement already satisfied: pandocfilters>=1.4.1 in c:\\python\\python39\\lib\\site-packages (from nbconvert->notebook>=4.4.1->widgetsnbextension~=3.5.0->ipywidgets) (1.4.3)\n",
      "Requirement already satisfied: testpath in c:\\python\\python39\\lib\\site-packages (from nbconvert->notebook>=4.4.1->widgetsnbextension~=3.5.0->ipywidgets) (0.4.4)\n",
      "Requirement already satisfied: jupyterlab-pygments in c:\\python\\python39\\lib\\site-packages (from nbconvert->notebook>=4.4.1->widgetsnbextension~=3.5.0->ipywidgets) (0.1.2)\n",
      "Requirement already satisfied: defusedxml in c:\\python\\python39\\lib\\site-packages (from nbconvert->notebook>=4.4.1->widgetsnbextension~=3.5.0->ipywidgets) (0.6.0)\n",
      "Requirement already satisfied: pycparser in c:\\python\\python39\\lib\\site-packages (from cffi>=1.0.0->argon2-cffi->notebook>=4.4.1->widgetsnbextension~=3.5.0->ipywidgets) (2.20)\n",
      "Requirement already satisfied: async-generator in c:\\python\\python39\\lib\\site-packages (from nbclient<0.6.0,>=0.5.0->nbconvert->notebook>=4.4.1->widgetsnbextension~=3.5.0->ipywidgets) (1.10)\n",
      "Requirement already satisfied: nest-asyncio in c:\\python\\python39\\lib\\site-packages (from nbclient<0.6.0,>=0.5.0->nbconvert->notebook>=4.4.1->widgetsnbextension~=3.5.0->ipywidgets) (1.5.1)\n",
      "Requirement already satisfied: webencodings in c:\\python\\python39\\lib\\site-packages (from bleach->nbconvert->notebook>=4.4.1->widgetsnbextension~=3.5.0->ipywidgets) (0.5.1)\n",
      "Requirement already satisfied: packaging in c:\\python\\python39\\lib\\site-packages (from bleach->nbconvert->notebook>=4.4.1->widgetsnbextension~=3.5.0->ipywidgets) (20.9)\n",
      "Requirement already satisfied: pyparsing>=2.0.2 in c:\\python\\python39\\lib\\site-packages (from packaging->bleach->nbconvert->notebook>=4.4.1->widgetsnbextension~=3.5.0->ipywidgets) (2.4.7)\n",
      "Note: you may need to restart the kernel to use updated packages.\n"
     ]
    },
    {
     "name": "stdout",
     "output_type": "stream",
     "text": [
      "Requirement already satisfied: matplotlib in c:\\python\\python39\\lib\\site-packages (3.3.4)\n",
      "Requirement already satisfied: numpy>=1.15 in c:\\python\\python39\\lib\\site-packages (from matplotlib) (1.20.1)\n",
      "Requirement already satisfied: kiwisolver>=1.0.1 in c:\\python\\python39\\lib\\site-packages (from matplotlib) (1.3.1)\n",
      "Requirement already satisfied: python-dateutil>=2.1 in c:\\python\\python39\\lib\\site-packages (from matplotlib) (2.8.1)\n",
      "Requirement already satisfied: cycler>=0.10 in c:\\python\\python39\\lib\\site-packages (from matplotlib) (0.10.0)\n",
      "Requirement already satisfied: pillow>=6.2.0 in c:\\python\\python39\\lib\\site-packages (from matplotlib) (9.0.0)\n",
      "Requirement already satisfied: pyparsing!=2.0.4,!=2.1.2,!=2.1.6,>=2.0.3 in c:\\python\\python39\\lib\\site-packages (from matplotlib) (2.4.7)\n",
      "Requirement already satisfied: six in c:\\python\\python39\\lib\\site-packages (from cycler>=0.10->matplotlib) (1.15.0)\n",
      "Note: you may need to restart the kernel to use updated packages.\n"
     ]
    }
   ],
   "source": [
    "%pip install --pre astroquery\n",
    "%pip install astroplan\n",
    "%pip install scikit-image\n",
    "%pip install photutils\n",
    "%pip install ipywidgets\n",
    "%pip install matplotlib"
   ]
  },
  {
   "cell_type": "code",
   "execution_count": 18,
   "id": "accepting-hostel",
   "metadata": {},
   "outputs": [],
   "source": [
    "#Simple Tests"
   ]
  },
  {
   "cell_type": "code",
   "execution_count": 19,
   "id": "taken-objective",
   "metadata": {},
   "outputs": [
    {
     "name": "stdout",
     "output_type": "stream",
     "text": [
      "3\n"
     ]
    }
   ],
   "source": [
    "#1\n",
    "print(1 + 2)"
   ]
  },
  {
   "cell_type": "code",
   "execution_count": 20,
   "id": "catholic-integral",
   "metadata": {},
   "outputs": [
    {
     "name": "stdout",
     "output_type": "stream",
     "text": [
      "243\n"
     ]
    }
   ],
   "source": [
    "#2\n",
    "print(3**5)"
   ]
  },
  {
   "cell_type": "code",
   "execution_count": 21,
   "id": "chicken-newman",
   "metadata": {},
   "outputs": [
    {
     "name": "stdout",
     "output_type": "stream",
     "text": [
      "[ 1  8 27 64]\n"
     ]
    }
   ],
   "source": [
    "#3\n",
    "import numpy as np\n",
    "cube_array = np.array(range(1, 5))\n",
    "print(cube_array**3)"
   ]
  },
  {
   "cell_type": "code",
   "execution_count": 22,
   "id": "typical-chemical",
   "metadata": {},
   "outputs": [
    {
     "data": {
      "text/plain": [
       "[<matplotlib.lines.Line2D at 0x228f3204940>]"
      ]
     },
     "execution_count": 22,
     "metadata": {},
     "output_type": "execute_result"
    },
    {
     "data": {
      "image/png": "[encoded data removed]",
      "text/plain": [
       "<Figure size 432x288 with 1 Axes>"
      ]
     },
     "metadata": {
      "needs_background": "light"
     },
     "output_type": "display_data"
    }
   ],
   "source": [
    "#4\n",
    "%matplotlib inline\n",
    "import matplotlib.pyplot as plt\n",
    "plt.plot([0, 1])"
   ]
  },
  {
   "cell_type": "code",
   "execution_count": 23,
   "id": "treated-ideal",
   "metadata": {},
   "outputs": [
    {
     "data": {
      "text/plain": [
       "[<matplotlib.lines.Line2D at 0x228f52f5f10>]"
      ]
     },
     "execution_count": 23,
     "metadata": {},
     "output_type": "execute_result"
    },
    {
     "data": {
      "image/png": "[encoded data removed]",
      "text/plain": [
       "<Figure size 432x288 with 1 Axes>"
      ]
     },
     "metadata": {
      "needs_background": "light"
     },
     "output_type": "display_data"
    }
   ],
   "source": [
    "#5\n",
    "cube_array = np.array(range(1, 5))\n",
    "plt.plot(cube_array, cube_array**3)"
   ]
  },
  {
   "cell_type": "markdown",
   "id": "impressive-bracket",
   "metadata": {},
   "source": [
    "#6\n",
    "# Markdown Cell\n",
    "This text is __bold__.\n",
    "This text is _italicized_."
   ]
  },
  {
   "cell_type": "code",
   "execution_count": 24,
   "id": "traditional-witch",
   "metadata": {},
   "outputs": [
    {
     "name": "stdout",
     "output_type": "stream",
     "text": [
      "4.2 0.8 0.4.5\n"
     ]
    }
   ],
   "source": [
    "#7\n",
    "import astropy, astroplan, skimage, photutils, astroquery\n",
    "print(astropy.__version__, astroplan.__version__, astroquery.__version__)"
   ]
  }
 ],
 "metadata": {
  "kernelspec": {
   "display_name": "Python 3",
   "language": "python",
   "name": "python3"
  },
  "language_info": {
   "codemirror_mode": {
    "name": "ipython",
    "version": 3
   },
   "file_extension": ".py",
   "mimetype": "text/x-python",
   "name": "python",
   "nbconvert_exporter": "python",
   "pygments_lexer": "ipython3",
   "version": "3.9.2"
  }
 },
 "nbformat": 4,
 "nbformat_minor": 5
}
