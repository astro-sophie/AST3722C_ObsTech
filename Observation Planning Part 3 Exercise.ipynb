{
 "cells": [
  {
   "cell_type": "markdown",
   "metadata": {},
   "source": [
    "# Observation Planning Part 3\n",
    "\n",
    "\n",
    "1. Where is my target?\n",
    "2. When can I observe my target?\n",
    "3. How do I know when I've found my target (make a finder chart)?\n",
    "4. How long do I need to observe?\n",
    "5. __How will I calibrate my data?__\n",
    "\n",
    "\n",
    "## Sophie Clark"
   ]
  },
  {
   "cell_type": "markdown",
   "metadata": {},
   "source": [
    "# Index\n",
    "\n",
    "* [Q1](#Q1): What factors affect our ability to collect light?\n",
    "* [Calibration: Photometric Standards](#Calibration:-Photometric-Standards)\n",
    "  * [Closest Calibrator](#Find-closest-calibrator)\n",
    "  * [Finder Chart for calibrator](#Finder-Chart-for-Calibrator)\n",
    "  * [Exposure Time for calibrator](#Exposure-time-for-calibrator)"
   ]
  },
  {
   "cell_type": "markdown",
   "metadata": {},
   "source": [
    "## How will I calibrate my data?"
   ]
  },
  {
   "cell_type": "markdown",
   "metadata": {},
   "source": [
    "To make a photometric measurement, we need to know how efficient our instrument really is.  In theory, every photon collected in our telescope goes to the CCD and is converted to electrons, but in practice several factors prevent this.  \n",
    "\n",
    "# Q1\n",
    "\n",
    "What are the factors that limit our ability to collect the light?  i.e., what prevents us from counting every photon?  Consider instrumental and atmospheric effects."
   ]
  },
  {
   "cell_type": "markdown",
   "metadata": {},
   "source": [
    "There are a variety of factors that affect our ability to collect light. The instrument's dark current and bias can already prevent us from collecting the desired image, in addition to the atmospheric effects. Light pollution, airmass, refraction, atmospheric emission, airglow, extinction, zodiacal light, and scattering can all hinder our ability to receive a decent image. "
   ]
  },
  {
   "cell_type": "markdown",
   "metadata": {},
   "source": [
    "## Calibration: Photometric Standards\n",
    "\n",
    "To calibrate our image, we can use reference stars with known brightness to infer how much light is lost on the way to our image."
   ]
  },
  {
   "cell_type": "markdown",
   "metadata": {},
   "source": [
    "**Landolt photometric standard stars** are the best standards to use because they've been selected to be non-variable and have been carefully calibrated.  "
   ]
  },
  {
   "cell_type": "markdown",
   "metadata": {},
   "source": [
    "However, the AAVSO (American Association of Variable Star Observers) has provided some really nice tools for obtaining standard star locations:\n",
    "\n",
    "https://www.aavso.org/apps/vsd/stdfields"
   ]
  },
  {
   "cell_type": "markdown",
   "metadata": {},
   "source": [
    "We can also retrieve catalogs from Vizier, the Centre de Données astronomiques de Strasbourg services for catalogs.\n",
    "\n",
    "For simplicity, we'll adopt this latter approach."
   ]
  },
  {
   "cell_type": "code",
   "execution_count": 204,
   "metadata": {},
   "outputs": [],
   "source": [
    "from astroquery.vizier import Vizier"
   ]
  },
  {
   "cell_type": "markdown",
   "metadata": {},
   "source": [
    "You can use the `Vizier.get_catalogs` method in astroquery to grab the data from a catalog whose precise name you already know"
   ]
  },
  {
   "cell_type": "code",
   "execution_count": 205,
   "metadata": {},
   "outputs": [],
   "source": [
    "Vizier.ROW_LIMIT = 10000\n",
    "landolt_catalog = Vizier.get_catalogs('J/AJ/146/131/standards')"
   ]
  },
  {
   "cell_type": "markdown",
   "metadata": {},
   "source": [
    "Vizier actually returns a list of tables:"
   ]
  },
  {
   "cell_type": "code",
   "execution_count": 206,
   "metadata": {},
   "outputs": [
    {
     "data": {
      "text/plain": [
       "TableList with 1 tables:\n",
       "\t'0:J/AJ/146/131/standards' with 16 column(s) and 349 row(s) "
      ]
     },
     "execution_count": 206,
     "metadata": {},
     "output_type": "execute_result"
    }
   ],
   "source": [
    "landolt_catalog"
   ]
  },
  {
   "cell_type": "markdown",
   "metadata": {},
   "source": [
    "But we want to look at only the first of these:"
   ]
  },
  {
   "cell_type": "code",
   "execution_count": 207,
   "metadata": {
    "scrolled": false
   },
   "outputs": [
    {
     "data": {
      "text/html": [
       "<i>Table length=349</i>\n",
       "<table id=\"table1896674579840-739579\" class=\"table-striped table-bordered table-condensed\">\n",
       "<thead><tr><th>idx</th><th>Name</th><th>N</th><th>__Vmag_</th><th>__B-V_</th><th>__U-B_</th><th>__V-R_</th><th>__R-I_</th><th>__V-I_</th><th>No</th><th>Nn</th><th>RAJ2000</th><th>DEJ2000</th><th>_2MASS</th><th>pmRA</th><th>pmDE</th><th>SimbadName</th></tr></thead>\n",
       "<thead><tr><th></th><th></th><th></th><th>mag</th><th>mag</th><th>mag</th><th>mag</th><th>mag</th><th>mag</th><th></th><th></th><th>&quot;h:m:s&quot;</th><th>&quot;d:m:s&quot;</th><th></th><th>mas / yr</th><th>mas / yr</th><th></th></tr></thead>\n",
       "<tr><td>0</td><td>GD 2B</td><td></td><td>13.279</td><td>0.588</td><td>-0.001</td><td>0.350</td><td>0.349</td><td>0.697</td><td>19</td><td>10</td><td>00 07 25.484</td><td>+33 19 00.17</td><td>J00072547+3319002</td><td>-9.6</td><td>-21.6</td><td>2MASS J00072547+3319002</td></tr>\n",
       "<tr><td>1</td><td>GD 2A</td><td></td><td>14.853</td><td>0.912</td><td>0.684</td><td>0.530</td><td>0.462</td><td>1.002</td><td>17</td><td>8</td><td>00 07 26.174</td><td>+33 18 19.18</td><td>J00072616+3318191</td><td>-17.3</td><td>-9.7</td><td>2MASS J00072616+3318191</td></tr>\n",
       "<tr><td>2</td><td>GD 2</td><td>N</td><td>13.802</td><td>-0.295</td><td>-1.192</td><td>-0.142</td><td>-0.171</td><td>-0.313</td><td>26</td><td>13</td><td>00 07 32.261</td><td>+33 17 27.62</td><td>J00073225+3317275</td><td>-78.1</td><td>-66.7</td><td>2MASS J00073225+3317275</td></tr>\n",
       "<tr><td>3</td><td>GD 2C</td><td></td><td>13.314</td><td>0.619</td><td>0.081</td><td>0.360</td><td>0.357</td><td>0.718</td><td>17</td><td>8</td><td>00 07 32.355</td><td>+33 20 14.69</td><td>J00073235+3320147</td><td>-4.5</td><td>1.8</td><td>2MASS J00073235+3320147</td></tr>\n",
       "<tr><td>4</td><td>GD 2E</td><td></td><td>15.188</td><td>0.575</td><td>0.076</td><td>0.339</td><td>0.323</td><td>0.652</td><td>7</td><td>4</td><td>00 07 36.675</td><td>+33 17 41.73</td><td>J00073667+3317418</td><td>6.1</td><td>-0.2</td><td>2MASS J00073667+3317418</td></tr>\n",
       "<tr><td>5</td><td>GD 2D</td><td></td><td>14.255</td><td>0.605</td><td>0.007</td><td>0.355</td><td>0.370</td><td>0.729</td><td>9</td><td>5</td><td>00 07 41.634</td><td>+33 17 57.33</td><td>J00074163+3317573</td><td>-7.5</td><td>-5.9</td><td>2MASS J00074163+3317573</td></tr>\n",
       "<tr><td>6</td><td>GD 410</td><td>N</td><td>12.845</td><td>0.725</td><td>0.086</td><td>0.441</td><td>0.438</td><td>0.879</td><td>1</td><td>1</td><td>00 35 24.704</td><td>+60 58 11.27</td><td>J00352470+6058113</td><td>109.1</td><td>42.1</td><td>2MASS J00352470+6058113</td></tr>\n",
       "<tr><td>7</td><td>GD 8C</td><td></td><td>13.299</td><td>0.636</td><td>0.140</td><td>0.371</td><td>0.358</td><td>0.724</td><td>14</td><td>7</td><td>00 39 37.145</td><td>+31 37 03.40</td><td>J00393714+3137034</td><td>-5.9</td><td>-11.5</td><td>2MASS J00393714+3137034</td></tr>\n",
       "<tr><td>8</td><td>GD 8A</td><td></td><td>14.593</td><td>0.695</td><td>0.199</td><td>0.400</td><td>0.378</td><td>0.780</td><td>17</td><td>9</td><td>00 39 40.965</td><td>+31 32 44.53</td><td>J00394096+3132445</td><td>-3.6</td><td>-10.7</td><td>2MASS J00394096+3132445</td></tr>\n",
       "<tr><td>9</td><td>GD 8B</td><td></td><td>13.653</td><td>0.803</td><td>0.454</td><td>0.446</td><td>0.395</td><td>0.837</td><td>17</td><td>8</td><td>00 39 44.863</td><td>+31 36 36.48</td><td>J00394486+3136364</td><td>8.2</td><td>-13.3</td><td>2MASS J00394486+3136364</td></tr>\n",
       "<tr><td>10</td><td>GD 8</td><td>N</td><td>14.699</td><td>-0.275</td><td>-1.169</td><td>-0.145</td><td>-0.197</td><td>-0.348</td><td>17</td><td>9</td><td>00 39 52.163</td><td>+31 32 29.19</td><td>J00395215+3132292</td><td>70.6</td><td>-56.6</td><td>2MASS J00395215+3132292</td></tr>\n",
       "<tr><td>11</td><td>SA 20-245</td><td>N</td><td>8.951</td><td>0.866</td><td>0.575</td><td>0.476</td><td>0.421</td><td>0.894</td><td>9</td><td>4</td><td>00 44 21.182</td><td>+45 55 12.77</td><td>J00442119+4555126</td><td>-44.8</td><td>28.4</td><td>2MASS J00442119+4555126</td></tr>\n",
       "<tr><td>12</td><td>SA 20-130</td><td></td><td>11.032</td><td>1.052</td><td>0.845</td><td>0.553</td><td>0.514</td><td>1.069</td><td>11</td><td>6</td><td>00 44 44.437</td><td>+45 49 50.97</td><td>J00444443+4549509</td><td>1.9</td><td>-5.1</td><td>2MASS J00444443+4549509</td></tr>\n",
       "<tr><td>13</td><td>SA 20-133</td><td></td><td>10.824</td><td>0.457</td><td>0.138</td><td>0.268</td><td>0.260</td><td>0.528</td><td>10</td><td>6</td><td>00 44 49.522</td><td>+45 44 57.85</td><td>J00444952+4544577</td><td>8.1</td><td>-6.4</td><td>2MASS J00444952+4544577</td></tr>\n",
       "<tr><td>14</td><td>SA 20-139</td><td></td><td>11.272</td><td>1.076</td><td>0.893</td><td>0.567</td><td>0.522</td><td>1.091</td><td>10</td><td>5</td><td>00 45 13.834</td><td>+45 47 48.08</td><td>J00451382+4547481</td><td>7.8</td><td>-9.7</td><td>2MASS J00451382+4547481</td></tr>\n",
       "<tr><td>15</td><td>SA 20-39</td><td>N</td><td>9.353</td><td>0.472</td><td>0.092</td><td>0.277</td><td>0.280</td><td>0.555</td><td>10</td><td>5</td><td>00 45 34.099</td><td>+45 36 48.21</td><td>J00453410+4536482</td><td>-11.8</td><td>-6.3</td><td>2MASS J00453410+4536482</td></tr>\n",
       "<tr><td>16</td><td>SA 20-291</td><td></td><td>10.454</td><td>0.794</td><td>0.429</td><td>0.425</td><td>0.388</td><td>0.812</td><td>8</td><td>5</td><td>00 45 37.914</td><td>+45 56 54.86</td><td>J00453791+4556548</td><td>66.6</td><td>8.4</td><td>2MASS J00453791+4556548</td></tr>\n",
       "<tr><td>17</td><td>SA 20-43</td><td>N</td><td>10.412</td><td>0.764</td><td>0.301</td><td>0.430</td><td>0.409</td><td>0.838</td><td>6</td><td>3</td><td>00 45 42.450</td><td>+45 35 15.39</td><td>J00454244+4535153</td><td>8.5</td><td>-7.4</td><td>2MASS J00454244+4535153</td></tr>\n",
       "<tr><td>18</td><td>SA 20-297</td><td>N</td><td>8.907</td><td>-0.054</td><td>-0.417</td><td>-0.015</td><td>-0.020</td><td>-0.032</td><td>6</td><td>3</td><td>00 45 51.821</td><td>+45 53 44.79</td><td>J00455182+4553447</td><td>-2.1</td><td>-4.6</td><td>2MASS J00455182+4553447</td></tr>\n",
       "<tr><td>19</td><td>SA 20-420</td><td></td><td>9.520</td><td>1.007</td><td>0.733</td><td>0.534</td><td>0.500</td><td>1.028</td><td>14</td><td>8</td><td>00 45 56.621</td><td>+46 04 33.36</td><td>J00455661+4604332</td><td>4.4</td><td>1.7</td><td>2MASS J00455661+4604332</td></tr>\n",
       "<tr><td>20</td><td>SA 20-163</td><td></td><td>10.458</td><td>1.029</td><td>0.872</td><td>0.554</td><td>0.498</td><td>1.042</td><td>11</td><td>6</td><td>00 45 59.779</td><td>+45 48 13.11</td><td>J00455976+4548130</td><td>72.6</td><td>12.8</td><td>2MASS J00455976+4548130</td></tr>\n",
       "<tr><td>21</td><td>SA 20-431</td><td></td><td>9.951</td><td>1.091</td><td>0.974</td><td>0.571</td><td>0.521</td><td>1.088</td><td>12</td><td>7</td><td>00 46 21.507</td><td>+46 06 30.24</td><td>J00462151+4606302</td><td>-2.9</td><td>-5.1</td><td>2MASS J00462151+4606302</td></tr>\n",
       "<tr><td>22</td><td>SA 20-435</td><td></td><td>11.307</td><td>0.664</td><td>0.199</td><td>0.377</td><td>0.354</td><td>0.732</td><td>12</td><td>7</td><td>00 46 25.267</td><td>+46 02 50.54</td><td>J00462527+4602505</td><td>-1.1</td><td>-16.4</td><td>2MASS J00462527+4602505</td></tr>\n",
       "<tr><td>23</td><td>SA 20-182</td><td></td><td>12.732</td><td>1.023</td><td>0.763</td><td>0.548</td><td>0.517</td><td>1.066</td><td>11</td><td>6</td><td>00 46 31.259</td><td>+45 50 25.68</td><td>J00463125+4550256</td><td>-5.4</td><td>-1.1</td><td>2MASS J00463125+4550256</td></tr>\n",
       "<tr><td>24</td><td>SA 20-186</td><td></td><td>11.109</td><td>0.418</td><td>0.115</td><td>0.259</td><td>0.275</td><td>0.531</td><td>14</td><td>8</td><td>00 46 34.507</td><td>+45 50 50.56</td><td>J00463450+4550505</td><td>8.2</td><td>2.0</td><td>2MASS J00463450+4550505</td></tr>\n",
       "<tr><td>25</td><td>SA 20-446</td><td>N</td><td>10.005</td><td>0.246</td><td>0.161</td><td>0.127</td><td>0.129</td><td>0.259</td><td>14</td><td>7</td><td>00 46 48.808</td><td>+46 10 50.01</td><td>J00464880+4610499</td><td>-0.5</td><td>-7.1</td><td>2MASS J00464880+4610499</td></tr>\n",
       "<tr><td>26</td><td>SA 20-338</td><td></td><td>12.475</td><td>0.515</td><td>0.023</td><td>0.303</td><td>0.301</td><td>0.608</td><td>10</td><td>5</td><td>00 47 08.418</td><td>+45 54 16.58</td><td>J00470842+4554165</td><td>7.0</td><td>-1.4</td><td>2MASS J00470842+4554165</td></tr>\n",
       "<tr><td>27</td><td>SA 20-208</td><td></td><td>12.628</td><td>0.606</td><td>0.010</td><td>0.359</td><td>0.361</td><td>0.722</td><td>9</td><td>4</td><td>00 47 10.514</td><td>+45 52 33.54</td><td>J00471051+4552335</td><td>-11.6</td><td>14.5</td><td>2MASS J00471051+4552335</td></tr>\n",
       "<tr><td>28</td><td>SA 20-340</td><td></td><td>10.127</td><td>0.968</td><td>0.637</td><td>0.514</td><td>0.480</td><td>0.995</td><td>10</td><td>5</td><td>00 47 11.482</td><td>+45 53 22.77</td><td>J00471146+4553226</td><td>8.7</td><td>-12.0</td><td>2MASS J00471146+4553226</td></tr>\n",
       "<tr><td>29</td><td>SA 20-456</td><td>N</td><td>9.543</td><td>0.090</td><td>0.067</td><td>0.040</td><td>0.041</td><td>0.080</td><td>14</td><td>7</td><td>00 47 12.443</td><td>+46 10 57.01</td><td>J00471244+4610570</td><td>-6.6</td><td>-4.9</td><td>2MASS J00471244+4610570</td></tr>\n",
       "<tr><td>30</td><td>SA 20-342</td><td></td><td>14.650</td><td>0.923</td><td>0.556</td><td>0.516</td><td>0.460</td><td>0.976</td><td>15</td><td>7</td><td>00 47 15.064</td><td>+45 54 09.59</td><td>J00471506+4554095</td><td>-1.5</td><td>-6.1</td><td>2MASS J00471506+4554095</td></tr>\n",
       "<tr><td>31</td><td>SA 20-343</td><td></td><td>14.124</td><td>0.730</td><td>0.289</td><td>0.412</td><td>0.384</td><td>0.803</td><td>12</td><td>6</td><td>00 47 15.351</td><td>+45 55 13.18</td><td>J00471535+4555131</td><td>-8.8</td><td>-5.0</td><td>2MASS J00471535+4555131</td></tr>\n",
       "<tr><td>32</td><td>SA 20-345</td><td></td><td>14.406</td><td>0.755</td><td>0.286</td><td>0.412</td><td>0.382</td><td>0.797</td><td>17</td><td>8</td><td>00 47 19.094</td><td>+45 53 29.19</td><td>J00471909+4553292</td><td>7.2</td><td>-14.2</td><td>2MASS J00471909+4553292</td></tr>\n",
       "<tr><td>33</td><td>SA 20-346</td><td></td><td>14.875</td><td>0.530</td><td>-0.036</td><td>0.340</td><td>0.317</td><td>0.648</td><td>21</td><td>9</td><td>00 47 21.152</td><td>+45 53 42.01</td><td>J00472114+4553421</td><td>-1.9</td><td>-6.4</td><td>2MASS J00472114+4553421</td></tr>\n",
       "<tr><td>34</td><td>GD 273</td><td>N</td><td>15.694</td><td>0.084</td><td>-0.665</td><td>-0.069</td><td>-0.084</td><td>-0.152</td><td>2</td><td>1</td><td>01 06 20.426</td><td>+56 04 56.53</td><td>J01062040+5604563</td><td>108.3</td><td>-37.8</td><td>2MASS J01062040+5604563</td></tr>\n",
       "<tr><td>35</td><td>GD 10</td><td>N</td><td>15.456</td><td>0.198</td><td>-0.621</td><td>0.054</td><td>0.127</td><td>0.155</td><td>10</td><td>4</td><td>01 06 53.995</td><td>+39 30 56.92</td><td>J01065396+3930568</td><td>171.0</td><td>16.0</td><td>2MASS J01065396+3930568</td></tr>\n",
       "<tr><td>36</td><td>GD 10A</td><td></td><td>13.694</td><td>0.824</td><td>0.453</td><td>0.461</td><td>0.422</td><td>0.880</td><td>7</td><td>4</td><td>01 06 58.606</td><td>+39 30 53.12</td><td>J01065860+3930531</td><td>18.9</td><td>-8.3</td><td>2MASS J01065860+3930531</td></tr>\n",
       "<tr><td>37</td><td>GD 10B</td><td></td><td>14.194</td><td>0.572</td><td>0.013</td><td>0.332</td><td>0.334</td><td>0.668</td><td>8</td><td>4</td><td>01 07 00.369</td><td>+39 31 35.07</td><td>J01070037+3931350</td><td>-6.0</td><td>-2.1</td><td>2MASS J01070037+3931350</td></tr>\n",
       "<tr><td>38</td><td>GD 10C</td><td></td><td>14.388</td><td>0.522</td><td>-0.037</td><td>0.307</td><td>0.328</td><td>0.632</td><td>6</td><td>3</td><td>01 07 05.379</td><td>+39 31 28.37</td><td>J01070537+3931283</td><td>2.2</td><td>-6.5</td><td>2MASS J01070537+3931283</td></tr>\n",
       "<tr><td>39</td><td>GD 11</td><td>N</td><td>15.235</td><td>-0.223</td><td>-1.058</td><td>-0.075</td><td>-0.164</td><td>-0.238</td><td>1</td><td>1</td><td>01 09 23.224</td><td>+37 32 45.78</td><td>J01092318+3732458</td><td>157.0</td><td>-39.0</td><td>2MASS J01092318+3732458</td></tr>\n",
       "<tr><td>40</td><td>GD 275</td><td>N</td><td>15.683</td><td>0.144</td><td>-0.526</td><td>0.029</td><td>-0.058</td><td>-0.027</td><td>1</td><td>1</td><td>01 18 54.162</td><td>+52 27 13.59</td><td>J01185423+5227137</td><td>-162.0</td><td>-30.0</td><td>2MASS J01185423+5227137</td></tr>\n",
       "<tr><td>41</td><td>GD 275A</td><td></td><td>15.019</td><td>1.483</td><td>1.363</td><td>0.821</td><td>0.776</td><td>1.596</td><td>1</td><td>1</td><td>01 18 54.297</td><td>+52 27 49.99</td><td>J01185430+5227499</td><td>4.5</td><td>3.7</td><td>2MASS J01185430+5227499</td></tr>\n",
       "<tr><td>42</td><td>GD 418</td><td>N</td><td>14.951</td><td>0.785</td><td>0.080</td><td>0.510</td><td>0.503</td><td>1.013</td><td>1</td><td>1</td><td>01 23 24.123</td><td>+64 54 17.02</td><td>J01232403+6454172</td><td>128.0</td><td>-60.0</td><td>2MASS J01232403+6454172</td></tr>\n",
       "<tr><td>43</td><td>GD 276</td><td>N</td><td>16.501</td><td>0.170</td><td>-0.633</td><td>0.070</td><td>0.044</td><td>0.113</td><td>2</td><td>1</td><td>01 23 50.663</td><td>+47 47 14.62</td><td>J01235066+4747146</td><td>78.0</td><td>22.0</td><td>2MASS J01235066+4747146</td></tr>\n",
       "<tr><td>44</td><td>GD 277</td><td>N</td><td>13.536</td><td>-0.105</td><td>-0.906</td><td>-0.104</td><td>-0.107</td><td>-0.213</td><td>14</td><td>6</td><td>01 29 23.992</td><td>+51 08 46.99</td><td>J01292398+5108471</td><td>33.9</td><td>-102.8</td><td>2MASS J01292398+5108471</td></tr>\n",
       "<tr><td>45</td><td>GD 277A</td><td></td><td>13.811</td><td>1.258</td><td>0.980</td><td>0.707</td><td>0.671</td><td>1.383</td><td>13</td><td>6</td><td>01 29 28.971</td><td>+51 09 19.49</td><td>J01292897+5109194</td><td>-2.7</td><td>-2.1</td><td>2MASS J01292897+5109194</td></tr>\n",
       "<tr><td>46</td><td>GD 277B</td><td></td><td>14.524</td><td>0.659</td><td>0.276</td><td>0.427</td><td>0.427</td><td>0.857</td><td>14</td><td>6</td><td>01 29 29.917</td><td>+51 08 02.46</td><td>J01292992+5108025</td><td>-6.4</td><td>-5.4</td><td>2MASS J01292992+5108025</td></tr>\n",
       "<tr><td>47</td><td>GD 13A</td><td></td><td>15.001</td><td>0.751</td><td>0.308</td><td>0.439</td><td>0.386</td><td>0.826</td><td>1</td><td>1</td><td>01 29 40.762</td><td>+42 27 54.91</td><td>J01294076+4227548</td><td>4.1</td><td>-5.1</td><td>2MASS J01294076+4227548</td></tr>\n",
       "<tr><td>48</td><td>GD 13</td><td>N</td><td>14.885</td><td>-0.089</td><td>-0.914</td><td>-0.001</td><td>0.247</td><td>0.236</td><td>1</td><td>1</td><td>01 29 42.654</td><td>+42 28 18.01</td><td>J01294264+4228180</td><td>92.4</td><td>0.9</td><td>2MASS J01294264+4228180</td></tr>\n",
       "<tr><td>49</td><td>GD 278</td><td>N</td><td>14.899</td><td>0.186</td><td>-0.240</td><td>0.072</td><td>0.035</td><td>0.099</td><td>4</td><td>3</td><td>01 30 58.075</td><td>+53 21 39.40</td><td>J01305806+5321397</td><td>66.0</td><td>-84.0</td><td>2MASS J01305806+5321397</td></tr>\n",
       "<tr><td>50</td><td>GD 278A</td><td></td><td>14.851</td><td>1.447</td><td>1.724</td><td>0.807</td><td>0.753</td><td>1.561</td><td>5</td><td>3</td><td>01 30 58.464</td><td>+53 22 17.91</td><td>J01305806+5321397</td><td>2.7</td><td>4.0</td><td>UCAC4 717-012428</td></tr>\n",
       "<tr><td>51</td><td>GD 278B</td><td></td><td>14.205</td><td>0.693</td><td>0.190</td><td>0.449</td><td>0.467</td><td>0.920</td><td>4</td><td>2</td><td>01 31 06.659</td><td>+53 20 17.12</td><td>J01310666+5320170</td><td>4.0</td><td>-11.1</td><td>2MASS J01310666+5320170</td></tr>\n",
       "<tr><td>52</td><td>GD 421A</td><td></td><td>14.579</td><td>2.597</td><td>2.140</td><td>1.544</td><td>1.391</td><td>2.930</td><td>2</td><td>1</td><td>01 50 28.859</td><td>+67 44 10.59</td><td>J01502885+6744105</td><td>-3.8</td><td>-0.8</td><td>2MASS J01502885+6744105</td></tr>\n",
       "<tr><td>53</td><td>GD 421C</td><td></td><td>12.158</td><td>2.375</td><td>2.636</td><td>1.349</td><td>1.232</td><td>2.576</td><td>2</td><td>1</td><td>01 50 34.378</td><td>+67 41 53.09</td><td>J01503435+6741530</td><td>-1.3</td><td>-8.9</td><td>2MASS J01503435+6741530</td></tr>\n",
       "<tr><td>54</td><td>GD 421B</td><td></td><td>14.407</td><td>1.197</td><td>0.812</td><td>0.654</td><td>0.603</td><td>1.256</td><td>2</td><td>1</td><td>01 50 35.942</td><td>+67 43 57.79</td><td>J01503591+6743577</td><td>-7.5</td><td>-30.6</td><td>2MASS J01503591+6743577</td></tr>\n",
       "<tr><td>55</td><td>GD 421</td><td>N</td><td>14.414</td><td>-0.213</td><td>-1.068</td><td>-0.095</td><td>-0.062</td><td>-0.158</td><td>4</td><td>2</td><td>01 51 10.260</td><td>+67 39 32.25</td><td>J01511028+6739312</td><td>146.0</td><td>-2.0</td><td>2MASS J01511028+6739312</td></tr>\n",
       "<tr><td>56</td><td>GD 421D</td><td></td><td>12.455</td><td>1.128</td><td>0.712</td><td>0.678</td><td>0.669</td><td>1.345</td><td>2</td><td>1</td><td>01 51 31.415</td><td>+67 42 39.05</td><td>J01513141+6742389</td><td>11.4</td><td>-13.6</td><td>2MASS J01513141+6742389</td></tr>\n",
       "<tr><td>57</td><td>GD 279F</td><td></td><td>13.946</td><td>0.568</td><td>0.095</td><td>0.343</td><td>0.338</td><td>0.679</td><td>6</td><td>3</td><td>01 51 55.046</td><td>+46 58 52.28</td><td>J01515504+4658522</td><td>-1.9</td><td>-5.8</td><td>2MASS J01515504+4658522</td></tr>\n",
       "<tr><td>58</td><td>GD 279H</td><td>N</td><td>10.389</td><td>1.118</td><td>0.958</td><td>0.605</td><td>0.547</td><td>1.148</td><td>8</td><td>4</td><td>01 51 55.520</td><td>+47 01 37.32</td><td>J01515551+4701373</td><td>-9.1</td><td>-13.5</td><td>2MASS J01515551+4701373</td></tr>\n",
       "<tr><td>59</td><td>GD 279D</td><td></td><td>13.241</td><td>0.558</td><td>0.027</td><td>0.334</td><td>0.332</td><td>0.662</td><td>8</td><td>4</td><td>01 51 59.862</td><td>+47 03 02.63</td><td>J01515985+4703025</td><td>-1.1</td><td>-7.5</td><td>2MASS J01515985+4703025</td></tr>\n",
       "<tr><td>60</td><td>GD 279C</td><td></td><td>13.913</td><td>1.068</td><td>0.780</td><td>0.571</td><td>0.520</td><td>1.102</td><td>10</td><td>5</td><td>01 52 00.142</td><td>+47 01 40.56</td><td>J01520013+4701405</td><td>-25.9</td><td>0.2</td><td>2MASS J01520013+4701405</td></tr>\n",
       "<tr><td>61</td><td>GD 279B</td><td>N</td><td>11.714</td><td>0.267</td><td>0.138</td><td>0.146</td><td>0.165</td><td>0.313</td><td>8</td><td>4</td><td>01 52 02.409</td><td>+47 01 41.48</td><td>J01520240+4701414</td><td>-6.8</td><td>-1.3</td><td>2MASS J01520240+4701414</td></tr>\n",
       "<tr><td>62</td><td>GD 279</td><td>N</td><td>12.457</td><td>0.087</td><td>-0.613</td><td>-0.079</td><td>-0.056</td><td>-0.132</td><td>12</td><td>7</td><td>01 52 02.960</td><td>+47 00 06.64</td><td>J01520295+4700066</td><td>2.2</td><td>121.1</td><td>2MASS J01520295+4700066</td></tr>\n",
       "<tr><td>63</td><td>GD 279A</td><td></td><td>13.050</td><td>0.996</td><td>0.686</td><td>0.554</td><td>0.519</td><td>1.073</td><td>13</td><td>6</td><td>01 52 02.968</td><td>+47 00 34.16</td><td>J01520296+4700340</td><td>-1.1</td><td>-14.8</td><td>2MASS J01520296+4700340</td></tr>\n",
       "<tr><td>64</td><td>GD 279E</td><td></td><td>14.011</td><td>0.736</td><td>0.281</td><td>0.415</td><td>0.395</td><td>0.813</td><td>8</td><td>4</td><td>01 52 03.399</td><td>+47 03 18.06</td><td>J01520339+4703180</td><td>-2.3</td><td>-11.4</td><td>2MASS J01520339+4703180</td></tr>\n",
       "<tr><td>65</td><td>GD 279G</td><td></td><td>14.156</td><td>0.535</td><td>0.029</td><td>0.325</td><td>0.342</td><td>0.671</td><td>8</td><td>4</td><td>01 52 05.094</td><td>+46 58 51.38</td><td>J01520509+4658513</td><td>-13.1</td><td>-6.0</td><td>2MASS J01520509+4658513</td></tr>\n",
       "<tr><td>66</td><td>GD 279I</td><td></td><td>14.443</td><td>0.979</td><td>0.582</td><td>0.545</td><td>0.535</td><td>1.079</td><td>8</td><td>4</td><td>01 52 09.789</td><td>+47 00 03.75</td><td>J01520878+4700037</td><td>6.9</td><td>5.9</td><td>2MASS J01520878+4700037</td></tr>\n",
       "<tr><td>67</td><td>GD 281</td><td>N</td><td>13.955</td><td>0.587</td><td>-0.047</td><td>0.386</td><td>0.368</td><td>0.754</td><td>1</td><td>1</td><td>02 03 12.919</td><td>+54 48 28.68</td><td>J02031292+5448286</td><td>121.2</td><td>-31.8</td><td>2MASS J02031292+5448286</td></tr>\n",
       "<tr><td>68</td><td>GD 283</td><td>N</td><td>13.736</td><td>0.145</td><td>-0.533</td><td>-0.029</td><td>-0.008</td><td>-0.039</td><td>1</td><td>1</td><td>02 35 30.708</td><td>+57 15 24.50</td><td>J02353067+5715247</td><td>193.5</td><td>-30.4</td><td>2MASS J02353067+5715247</td></tr>\n",
       "<tr><td>69</td><td>GD 38</td><td>N</td><td>15.740</td><td>-0.214</td><td>-1.102</td><td>-0.164</td><td>-0.184</td><td>-0.346</td><td>1</td><td>1</td><td>03 02 30.970</td><td>+38 01 00.10</td><td>J03023094+3800595</td><td>99.0</td><td>-39.0</td><td>2MASS J03023094+3800595</td></tr>\n",
       "<tr><td>70</td><td>SA 23-195</td><td></td><td>12.125</td><td>0.688</td><td>0.275</td><td>0.421</td><td>0.429</td><td>0.855</td><td>20</td><td>10</td><td>03 43 51.964</td><td>+45 10 02.52</td><td>J03435196+4510025</td><td>-2.0</td><td>-6.0</td><td>2MASS J03435196+4510025</td></tr>\n",
       "<tr><td>71</td><td>SA 23-198</td><td></td><td>11.559</td><td>0.192</td><td>-0.389</td><td>0.133</td><td>0.144</td><td>0.274</td><td>18</td><td>10</td><td>03 43 56.438</td><td>+45 09 41.46</td><td>J03435643+4509414</td><td>-2.6</td><td>-1.9</td><td>2MASS J03435643+4509414</td></tr>\n",
       "<tr><td>72</td><td>SA 23-15</td><td></td><td>10.658</td><td>0.375</td><td>0.167</td><td>0.202</td><td>0.213</td><td>0.415</td><td>12</td><td>7</td><td>03 44 05.128</td><td>+45 06 03.00</td><td>J03440513+4506029</td><td>-5.2</td><td>-5.8</td><td>2MASS J03440513+4506029</td></tr>\n",
       "<tr><td>73</td><td>SA 23-402</td><td></td><td>9.835</td><td>0.172</td><td>-0.455</td><td>0.110</td><td>0.114</td><td>0.226</td><td>17</td><td>9</td><td>03 44 23.010</td><td>+45 23 37.73</td><td>J03442300+4523377</td><td>-1.4</td><td>-1.1</td><td>2MASS J03442300+4523377</td></tr>\n",
       "<tr><td>74</td><td>SA 23-241</td><td></td><td>12.312</td><td>0.768</td><td>0.249</td><td>0.458</td><td>0.448</td><td>0.904</td><td>13</td><td>7</td><td>03 44 36.960</td><td>+45 17 59.22</td><td>J03443695+4517592</td><td>8.7</td><td>-0.8</td><td>2MASS J03443695+4517592</td></tr>\n",
       "<tr><td>75</td><td>SA 23-45</td><td></td><td>9.972</td><td>1.249</td><td>1.160</td><td>0.663</td><td>0.594</td><td>1.250</td><td>13</td><td>7</td><td>03 44 42.135</td><td>+45 04 43.53</td><td>J03444209+4504436</td><td>-4.6</td><td>1.5</td><td>2MASS J03444209+4504436</td></tr>\n",
       "<tr><td>76</td><td>SA 23-246</td><td></td><td>11.700</td><td>0.278</td><td>0.124</td><td>0.154</td><td>0.165</td><td>0.318</td><td>11</td><td>6</td><td>03 44 43.903</td><td>+45 18 01.25</td><td>J03444389+4518012</td><td>-0.7</td><td>-2.4</td><td>2MASS J03444389+4518012</td></tr>\n",
       "<tr><td>77</td><td>SA 23-561</td><td></td><td>10.546</td><td>0.515</td><td>0.391</td><td>0.287</td><td>0.301</td><td>0.589</td><td>9</td><td>5</td><td>03 44 53.412</td><td>+45 30 25.87</td><td>J03445340+4530258</td><td>-2.7</td><td>-2.1</td><td>2MASS J03445340+4530258</td></tr>\n",
       "<tr><td>78</td><td>SA 23-418</td><td></td><td>11.716</td><td>0.700</td><td>0.154</td><td>0.407</td><td>0.385</td><td>0.798</td><td>10</td><td>5</td><td>03 44 56.347</td><td>+45 18 59.93</td><td>J03445634+4518599</td><td>-28.2</td><td>-27.6</td><td>2MASS J03445634+4518599</td></tr>\n",
       "<tr><td>79</td><td>SA 23-57</td><td>N</td><td>10.368</td><td>1.879</td><td>2.213</td><td>1.169</td><td>1.265</td><td>2.443</td><td>16</td><td>8</td><td>03 44 59.361</td><td>+45 03 47.90</td><td>J03445933+4503479</td><td>-3.4</td><td>0.4</td><td>2MASS J03445933+4503479</td></tr>\n",
       "<tr><td>80</td><td>SA 23-264</td><td></td><td>10.335</td><td>1.098</td><td>0.993</td><td>0.591</td><td>0.521</td><td>1.109</td><td>9</td><td>5</td><td>03 45 04.420</td><td>+45 17 48.41</td><td>J03450441+4517485</td><td>-6.2</td><td>-33.3</td><td>2MASS J03450441+4517485</td></tr>\n",
       "<tr><td>81</td><td>SA 23-433</td><td></td><td>14.526</td><td>0.658</td><td>0.380</td><td>0.386</td><td>0.386</td><td>0.775</td><td>6</td><td>3</td><td>03 45 27.133</td><td>+45 28 46.63</td><td>J03452713+4528466</td><td>-6.7</td><td>-3.6</td><td>2MASS J03452713+4528466</td></tr>\n",
       "<tr><td>82</td><td>SA 23-435</td><td></td><td>13.474</td><td>0.755</td><td>0.220</td><td>0.469</td><td>0.476</td><td>0.945</td><td>15</td><td>7</td><td>03 45 31.545</td><td>+45 27 19.89</td><td>J03453154+4527199</td><td>-11.5</td><td>-1.6</td><td>2MASS J03453154+4527199</td></tr>\n",
       "<tr><td>83</td><td>SA 23-436</td><td></td><td>13.876</td><td>1.645</td><td>1.671</td><td>0.915</td><td>0.840</td><td>1.762</td><td>20</td><td>8</td><td>03 45 33.388</td><td>+45 27 12.92</td><td>J03453338+4527129</td><td>-10.7</td><td>2.7</td><td>2MASS J03453338+4527129</td></tr>\n",
       "<tr><td>84</td><td>SA 23-438</td><td></td><td>13.327</td><td>0.886</td><td>0.362</td><td>0.511</td><td>0.514</td><td>1.024</td><td>2</td><td>1</td><td>03 45 35.825</td><td>+45 24 31.45</td><td>J03453582+4524314</td><td>34.0</td><td>-34.8</td><td>2MASS J03453582+4524314</td></tr>\n",
       "<tr><td>85</td><td>SA 23-439</td><td></td><td>14.999</td><td>0.869</td><td>0.340</td><td>0.512</td><td>0.537</td><td>1.049</td><td>2</td><td>1</td><td>03 45 38.594</td><td>+45 25 15.33</td><td>J03453859+4525154</td><td>-3.9</td><td>0.0</td><td>2MASS J03453859+4525154</td></tr>\n",
       "<tr><td>86</td><td>SA 23-440</td><td></td><td>12.030</td><td>0.861</td><td>0.423</td><td>0.493</td><td>0.464</td><td>0.964</td><td>3</td><td>2</td><td>03 45 39.288</td><td>+45 28 12.70</td><td>J03453928+4528127</td><td>-16.6</td><td>-8.8</td><td>2MASS J03453928+4528127</td></tr>\n",
       "<tr><td>87</td><td>SA 23-441</td><td></td><td>14.512</td><td>1.004</td><td>0.511</td><td>0.573</td><td>0.556</td><td>1.132</td><td>7</td><td>3</td><td>03 45 39.328</td><td>+45 25 37.28</td><td>J03453931+4525373</td><td>18.5</td><td>-3.9</td><td>2MASS J03453931+4525373</td></tr>\n",
       "<tr><td>88</td><td>SA 23-443</td><td></td><td>10.691</td><td>0.604</td><td>0.195</td><td>0.368</td><td>0.369</td><td>0.740</td><td>2</td><td>1</td><td>03 45 45.754</td><td>+45 25 33.98</td><td>J03454575+4525340</td><td>8.3</td><td>-1.7</td><td>2MASS J03454575+4525340</td></tr>\n",
       "<tr><td>89</td><td>SA 23-444</td><td></td><td>15.433</td><td>0.932</td><td>0.470</td><td>0.550</td><td>0.514</td><td>1.071</td><td>4</td><td>2</td><td>03 45 48.007</td><td>+45 27 17.36</td><td>J03454800+4527174</td><td>0.6</td><td>-7.4</td><td>2MASS J03454800+4527174</td></tr>\n",
       "<tr><td>90</td><td>SA 23-300</td><td></td><td>9.437</td><td>0.474</td><td>-0.005</td><td>0.293</td><td>0.287</td><td>0.579</td><td>9</td><td>5</td><td>03 45 56.378</td><td>+45 14 43.91</td><td>J03455639+4514438</td><td>-31.4</td><td>-1.2</td><td>2MASS J03455639+4514438</td></tr>\n",
       "<tr><td>91</td><td>GD 61C</td><td></td><td>13.731</td><td>0.548</td><td>0.320</td><td>0.344</td><td>0.357</td><td>0.697</td><td>14</td><td>7</td><td>04 38 27.184</td><td>+41 10 07.68</td><td>J04382718+4110077</td><td>-1.2</td><td>-3.4</td><td>2MASS J04382718+4110077</td></tr>\n",
       "<tr><td>92</td><td>GD 61B</td><td></td><td>14.129</td><td>0.317</td><td>0.139</td><td>0.191</td><td>0.232</td><td>0.431</td><td>14</td><td>7</td><td>04 38 29.122</td><td>+41 11 00.48</td><td>J04382911+4111005</td><td>0.0</td><td>2.1</td><td>2MASS J04382911+4111005</td></tr>\n",
       "<tr><td>93</td><td>GD 61</td><td>N</td><td>14.879</td><td>-0.112</td><td>-0.966</td><td>-0.053</td><td>-0.043</td><td>-0.091</td><td>16</td><td>7</td><td>04 38 39.369</td><td>+41 09 32.37</td><td>J04383938+4109325</td><td>0.5</td><td>-106.6</td><td>2MASS J04383938+4109325</td></tr>\n",
       "<tr><td>94</td><td>GD 61A</td><td></td><td>14.420</td><td>0.415</td><td>0.227</td><td>0.261</td><td>0.327</td><td>0.595</td><td>14</td><td>7</td><td>04 38 41.533</td><td>+41 10 51.24</td><td>J04384153+4110512</td><td>2.2</td><td>8.1</td><td>2MASS J04384153+4110512</td></tr>\n",
       "<tr><td>95</td><td>GD 64D</td><td></td><td>12.799</td><td>0.595</td><td>0.190</td><td>0.370</td><td>0.368</td><td>0.739</td><td>2</td><td>1</td><td>04 57 08.313</td><td>+41 55 12.86</td><td>J04570831+4155129</td><td>2.7</td><td>-6.5</td><td>2MASS J04570831+4155129</td></tr>\n",
       "<tr><td>96</td><td>GD 64B</td><td></td><td>13.923</td><td>0.700</td><td>0.151</td><td>0.443</td><td>0.432</td><td>0.880</td><td>2</td><td>1</td><td>04 57 18.332</td><td>+41 55 28.12</td><td>J04571833+4155281</td><td>-4.1</td><td>-2.0</td><td>2MASS J04571833+4155281</td></tr>\n",
       "<tr><td>97</td><td>GD 64C</td><td></td><td>12.915</td><td>0.625</td><td>0.075</td><td>0.406</td><td>0.406</td><td>0.815</td><td>2</td><td>1</td><td>04 57 21.370</td><td>+41 54 23.70</td><td>J04572137+4154236</td><td>-5.6</td><td>-1.9</td><td>2MASS J04572137+4154236</td></tr>\n",
       "<tr><td>98</td><td>GD 64</td><td>N</td><td>13.976</td><td>0.063</td><td>-0.559</td><td>-0.074</td><td>-0.069</td><td>-0.146</td><td>3</td><td>2</td><td>04 57 22.540</td><td>+41 55 56.45</td><td>J04572254+4155567</td><td>13.2</td><td>-212.3</td><td>2MASS J04572254+4155567</td></tr>\n",
       "<tr><td>99</td><td>GD 64A</td><td></td><td>14.438</td><td>0.658</td><td>0.114</td><td>0.414</td><td>0.416</td><td>0.834</td><td>3</td><td>2</td><td>04 57 25.311</td><td>+41 55 30.57</td><td>J04572531+4155305</td><td>1.6</td><td>-3.9</td><td>2MASS J04572531+4155305</td></tr>\n",
       "<tr><td>100</td><td>GD 64E</td><td></td><td>11.531</td><td>0.239</td><td>0.071</td><td>0.144</td><td>0.171</td><td>0.313</td><td>2</td><td>1</td><td>04 57 26.257</td><td>+41 55 52.18</td><td>J04572625+4155521</td><td>0.6</td><td>-2.4</td><td>2MASS J04572625+4155521</td></tr>\n",
       "<tr><td>101</td><td>GD 64F</td><td></td><td>12.195</td><td>1.819</td><td>2.177</td><td>1.082</td><td>1.036</td><td>2.123</td><td>2</td><td>1</td><td>04 57 28.704</td><td>+41 55 50.45</td><td>J04572868+4155505</td><td>-0.3</td><td>-3.3</td><td>2MASS J04572868+4155505</td></tr>\n",
       "<tr><td>102</td><td>SA 26-219</td><td></td><td>10.632</td><td>0.509</td><td>0.004</td><td>0.323</td><td>0.326</td><td>0.651</td><td>15</td><td>7</td><td>06 42 23.097</td><td>+44 47 54.40</td><td>J06422308+4447544</td><td>-3.3</td><td>5.3</td><td>2MASS J06422308+4447544</td></tr>\n",
       "<tr><td>103</td><td>SA 26-27</td><td></td><td>10.860</td><td>0.611</td><td>0.113</td><td>0.375</td><td>0.355</td><td>0.732</td><td>10</td><td>5</td><td>06 42 39.409</td><td>+44 31 47.34</td><td>J06423940+4431474</td><td>-2.3</td><td>-5.6</td><td>2MASS J06423940+4431474</td></tr>\n",
       "<tr><td>104</td><td>SA 26-231</td><td></td><td>10.732</td><td>1.117</td><td>0.920</td><td>0.599</td><td>0.549</td><td>1.144</td><td>14</td><td>7</td><td>06 42 51.320</td><td>+44 51 18.46</td><td>J06425131+4451184</td><td>-8.5</td><td>-4.8</td><td>2MASS J06425131+4451184</td></tr>\n",
       "<tr><td>105</td><td>SA 26-135</td><td>N</td><td>9.117</td><td>1.110</td><td>0.918</td><td>0.583</td><td>0.530</td><td>1.113</td><td>7</td><td>4</td><td>06 42 58.715</td><td>+44 38 52.53</td><td>J06425871+4438525</td><td>-2.8</td><td>-2.9</td><td>2MASS J06425871+4438525</td></tr>\n",
       "<tr><td>106</td><td>SA 26-234</td><td>N</td><td>9.371</td><td>0.583</td><td>0.150</td><td>0.339</td><td>0.317</td><td>0.655</td><td>12</td><td>6</td><td>06 43 07.334</td><td>+44 50 32.75</td><td>J06430733+4450326</td><td>3.8</td><td>-16.9</td><td>2MASS J06430733+4450326</td></tr>\n",
       "<tr><td>107</td><td>SA 26-139</td><td></td><td>11.335</td><td>0.838</td><td>0.542</td><td>0.468</td><td>0.404</td><td>0.875</td><td>13</td><td>7</td><td>06 43 09.275</td><td>+44 40 03.79</td><td>J06430927+4440038</td><td>-14.2</td><td>-0.6</td><td>2MASS J06430927+4440038</td></tr>\n",
       "<tr><td>108</td><td>SA 26-150</td><td>N</td><td>9.506</td><td>1.010</td><td>0.747</td><td>0.539</td><td>0.494</td><td>1.040</td><td>10</td><td>5</td><td>06 43 37.042</td><td>+44 43 20.73</td><td>J06433704+4443208</td><td>0.9</td><td>-4.9</td><td>2MASS J06433704+4443208</td></tr>\n",
       "<tr><td>109</td><td>SA 26-58</td><td>N</td><td>8.507</td><td>0.535</td><td>0.047</td><td>0.315</td><td>0.297</td><td>0.612</td><td>4</td><td>2</td><td>06 43 38.231</td><td>+44 25 11.15</td><td>J06433822+4425111</td><td>55.5</td><td>-55.9</td><td>2MASS J06433822+4425111</td></tr>\n",
       "<tr><td>110</td><td>SA 26-60</td><td>N</td><td>9.542</td><td>0.125</td><td>0.175</td><td>0.088</td><td>0.069</td><td>0.157</td><td>8</td><td>4</td><td>06 43 41.731</td><td>+44 30 45.40</td><td>J06434172+4430454</td><td>1.7</td><td>-4.3</td><td>2MASS J06434172+4430454</td></tr>\n",
       "<tr><td>111</td><td>SA 26-262</td><td></td><td>13.100</td><td>0.741</td><td>0.253</td><td>0.430</td><td>0.412</td><td>0.842</td><td>6</td><td>3</td><td>06 44 05.750</td><td>+44 47 22.64</td><td>J06440575+4447226</td><td>3.5</td><td>-22.5</td><td>2MASS J06440575+4447226</td></tr>\n",
       "<tr><td>112</td><td>SA 26-264</td><td></td><td>15.092</td><td>0.631</td><td>0.097</td><td>0.376</td><td>0.347</td><td>0.715</td><td>12</td><td>6</td><td>06 44 14.139</td><td>+44 46 42.13</td><td>J06441414+4446421</td><td>-21.7</td><td>-4.8</td><td>2MASS J06441414+4446421</td></tr>\n",
       "<tr><td>113</td><td>SA 26-265</td><td></td><td>14.459</td><td>0.602</td><td>-0.066</td><td>0.384</td><td>0.401</td><td>0.792</td><td>25</td><td>12</td><td>06 44 14.929</td><td>+44 47 41.53</td><td>J06441493+4447416</td><td>38.1</td><td>-58.7</td><td>2MASS J06441493+4447416</td></tr>\n",
       "<tr><td>114</td><td>SA 26-268</td><td></td><td>15.366</td><td>1.029</td><td>0.819</td><td>0.615</td><td>0.533</td><td>1.138</td><td>10</td><td>5</td><td>06 44 19.474</td><td>+44 47 35.10</td><td>J06441948+4447351</td><td>0.0</td><td>-11.7</td><td>2MASS J06441948+4447351</td></tr>\n",
       "<tr><td>115</td><td>SA 26-269</td><td></td><td>14.855</td><td>0.535</td><td>0.062</td><td>0.303</td><td>0.371</td><td>0.672</td><td>3</td><td>2</td><td>06 44 21.694</td><td>+44 47 43.74</td><td>J06442170+4447438</td><td>-2.1</td><td>-5.6</td><td>2MASS J06442170+4447438</td></tr>\n",
       "<tr><td>116</td><td>SA 26-272</td><td></td><td>14.399</td><td>0.919</td><td>0.582</td><td>0.510</td><td>0.465</td><td>1.000</td><td>3</td><td>2</td><td>06 44 24.818</td><td>+44 46 17.78</td><td>J06442481+4446179</td><td>4.3</td><td>-30.6</td><td>2MASS J06442481+4446179</td></tr>\n",
       "<tr><td>117</td><td>SA 26-273</td><td></td><td>15.338</td><td>0.722</td><td>0.204</td><td>0.442</td><td>0.356</td><td>0.776</td><td>3</td><td>2</td><td>06 44 25.825</td><td>+44 48 21.60</td><td>J06442582+4448216</td><td>-11.9</td><td>8.1</td><td>2MASS J06442582+4448216</td></tr>\n",
       "<tr><td>118</td><td>SA 26-172</td><td>N</td><td>9.580</td><td>0.264</td><td>0.123</td><td>0.144</td><td>0.147</td><td>0.289</td><td>12</td><td>6</td><td>06 44 31.718</td><td>+44 34 05.88</td><td>J06443171+4434059</td><td>-1.2</td><td>-20.4</td><td>2MASS J06443171+4434059</td></tr>\n",
       "<tr><td>119</td><td>SA 26-278</td><td></td><td>15.360</td><td>0.765</td><td>0.167</td><td>0.517</td><td>0.437</td><td>0.950</td><td>1</td><td>1</td><td>06 44 32.844</td><td>+44 47 18.28</td><td>J06443284+4447184</td><td>-8.6</td><td>-0.1</td><td>2MASS J06443284+4447184</td></tr>\n",
       "<tr><td>120</td><td>SA 26-279</td><td></td><td>14.634</td><td>0.661</td><td>0.080</td><td>0.401</td><td>0.362</td><td>0.764</td><td>1</td><td>1</td><td>06 44 38.232</td><td>+44 46 44.95</td><td>J06443823+4446450</td><td>1.2</td><td>-3.1</td><td>2MASS J06443823+4446450</td></tr>\n",
       "<tr><td>121</td><td>SA 26-280</td><td></td><td>11.089</td><td>1.082</td><td>0.844</td><td>0.579</td><td>0.537</td><td>1.125</td><td>15</td><td>8</td><td>06 44 39.784</td><td>+44 48 25.64</td><td>J06443977+4448257</td><td>1.4</td><td>-9.0</td><td>2MASS J06443977+4448257</td></tr>\n",
       "<tr><td>122</td><td>SA 26-93</td><td>N</td><td>11.071</td><td>1.700</td><td>1.772</td><td>1.378</td><td>1.629</td><td>3.001</td><td>20</td><td>11</td><td>06 45 13.215</td><td>+44 30 56.56</td><td>J06451322+4430562</td><td>-4.5</td><td>-0.8</td><td>2MASS J06451322+4430562</td></tr>\n",
       "<tr><td>123</td><td>SA 26-95</td><td></td><td>11.988</td><td>0.546</td><td>0.016</td><td>0.326</td><td>0.321</td><td>0.644</td><td>24</td><td>12</td><td>06 45 16.159</td><td>+44 32 04.67</td><td>J06451616+4432045</td><td>-5.3</td><td>0.6</td><td>2MASS J06451616+4432045</td></tr>\n",
       "<tr><td>124</td><td>SA 26-96</td><td></td><td>10.750</td><td>0.548</td><td>0.010</td><td>0.332</td><td>0.331</td><td>0.664</td><td>2</td><td>1</td><td>06 45 17.185</td><td>+44 27 43.18</td><td>J06451718+4427431</td><td>-13.0</td><td>1.3</td><td>2MASS J06451718+4427431</td></tr>\n",
       "<tr><td>125</td><td>GD 91</td><td>N</td><td>15.069</td><td>0.182</td><td>-0.520</td><td>0.037</td><td>0.060</td><td>0.094</td><td>5</td><td>3</td><td>08 30 09.451</td><td>+45 20 30.39</td><td>J08300946+4520303</td><td>-95.2</td><td>-103.3</td><td>2MASS J08300946+4520303</td></tr>\n",
       "<tr><td>126</td><td>GD 91B</td><td></td><td>13.626</td><td>0.969</td><td>0.838</td><td>0.543</td><td>0.454</td><td>0.993</td><td>5</td><td>3</td><td>08 30 10.294</td><td>+45 19 10.14</td><td>J08301031+4519099</td><td>-21.4</td><td>-12.2</td><td>2MASS J08301031+4519099</td></tr>\n",
       "<tr><td>127</td><td>GD 91A</td><td></td><td>12.437</td><td>1.018</td><td>0.767</td><td>0.532</td><td>0.504</td><td>1.037</td><td>5</td><td>3</td><td>08 30 16.361</td><td>+45 19 50.28</td><td>J08301637+4519501</td><td>-1.0</td><td>-3.6</td><td>2MASS J08301637+4519501</td></tr>\n",
       "<tr><td>128</td><td>PG 0837+401B</td><td>N</td><td>13.702</td><td>0.710</td><td>0.163</td><td>0.424</td><td>0.402</td><td>0.820</td><td>7</td><td>4</td><td>08 40 58.400</td><td>+39 56 27.82</td><td>J08405839+3956278</td><td>5.0</td><td>-8.1</td><td>2MASS J08405839+3956278</td></tr>\n",
       "<tr><td>129</td><td>PG 0837+401C</td><td></td><td>12.181</td><td>0.556</td><td>0.021</td><td>0.338</td><td>0.346</td><td>0.685</td><td>7</td><td>4</td><td>08 41 00.157</td><td>+39 55 54.49</td><td>J08410015+3955545</td><td>3.2</td><td>-14.5</td><td>2MASS J08410015+3955545</td></tr>\n",
       "<tr><td>130</td><td>PG 0837+401</td><td>N</td><td>15.506</td><td>-0.245</td><td>-0.986</td><td>-0.136</td><td>-0.262</td><td>-0.396</td><td>11</td><td>5</td><td>08 41 01.307</td><td>+39 56 18.13</td><td>J08410129+3956181</td><td>9.0</td><td>-2.1</td><td>2MASS J08410129+3956181</td></tr>\n",
       "<tr><td>131</td><td>PG 0837+401A</td><td></td><td>14.752</td><td>0.922</td><td>0.747</td><td>0.536</td><td>0.472</td><td>1.016</td><td>11</td><td>5</td><td>08 41 04.495</td><td>+39 57 05.65</td><td>J08410449+3957056</td><td>-20.0</td><td>-25.7</td><td>2MASS J08410449+3957056</td></tr>\n",
       "<tr><td>132</td><td>KUV 345-30A</td><td></td><td>14.619</td><td>0.627</td><td>0.072</td><td>0.365</td><td>0.366</td><td>0.730</td><td>5</td><td>2</td><td>08 43 09.810</td><td>+39 46 15.09</td><td>J08430981+3946151</td><td>8.3</td><td>-11.0</td><td>2MASS J08430981+3946151</td></tr>\n",
       "<tr><td>133</td><td>KUV 345-30</td><td>N</td><td>14.324</td><td>-0.279</td><td>-1.127</td><td>-0.121</td><td>-0.141</td><td>-0.263</td><td>4</td><td>2</td><td>08 43 12.709</td><td>+39 44 49.73</td><td>J08431271+3944498</td><td>-3.5</td><td>-10.7</td><td>2MASS J08431271+3944498</td></tr>\n",
       "<tr><td>134</td><td>PG 0846+558B</td><td></td><td>14.799</td><td>0.745</td><td>0.142</td><td>0.424</td><td>0.416</td><td>0.842</td><td>1</td><td>1</td><td>08 49 41.020</td><td>+55 36 08.52</td><td>J08494100+5536085</td><td>-14.0</td><td>-14.5</td><td>2MASS J08494100+5536085</td></tr>\n",
       "<tr><td>135</td><td>PG 0846+558A</td><td></td><td>14.691</td><td>0.842</td><td>0.396</td><td>0.467</td><td>0.455</td><td>0.923</td><td>1</td><td>1</td><td>08 49 42.276</td><td>+55 34 45.17</td><td>J08494226+5534452</td><td>-16.5</td><td>-30.7</td><td>2MASS J08494226+5534452</td></tr>\n",
       "<tr><td>136</td><td>PG 0846+558</td><td>N</td><td>16.435</td><td>-0.207</td><td>-1.043</td><td>-0.073</td><td>0.051</td><td>-0.026</td><td>1</td><td>1</td><td>08 49 51.084</td><td>+55 35 14.94</td><td></td><td>12.0</td><td>-16.0</td><td>PG 0846+557</td></tr>\n",
       "<tr><td>137</td><td>GD 98B</td><td></td><td>14.001</td><td>0.630</td><td>0.115</td><td>0.359</td><td>0.346</td><td>0.708</td><td>16</td><td>8</td><td>08 57 09.788</td><td>+40 18 35.13</td><td>J08570978+4018351</td><td>13.0</td><td>-11.1</td><td>2MASS J08570978+4018351</td></tr>\n",
       "<tr><td>138</td><td>GD 98A</td><td></td><td>13.461</td><td>0.920</td><td>0.619</td><td>0.508</td><td>0.472</td><td>0.979</td><td>24</td><td>12</td><td>08 57 17.818</td><td>+40 17 53.92</td><td>J08571781+4017539</td><td>-2.3</td><td>-7.9</td><td>2MASS J08571781+4017539</td></tr>\n",
       "<tr><td>139</td><td>GD 98</td><td>N</td><td>14.823</td><td>-0.126</td><td>-0.931</td><td>-0.112</td><td>-0.116</td><td>-0.233</td><td>26</td><td>12</td><td>08 57 30.443</td><td>+40 16 12.62</td><td>J08573043+4016130</td><td>23.0</td><td>-198.0</td><td>2MASS J08573043+4016130</td></tr>\n",
       "<tr><td>140</td><td>GD 299</td><td>N</td><td>12.093</td><td>-0.269</td><td>-1.158</td><td>-0.085</td><td>-0.078</td><td>-0.168</td><td>12</td><td>6</td><td>09 38 20.351</td><td>+55 05 50.08</td><td>J09382033+5505500</td><td>2.0</td><td>-69.7</td><td>2MASS J09382033+5505500</td></tr>\n",
       "<tr><td>141</td><td>SA 29-153</td><td>N</td><td>8.790</td><td>1.111</td><td>1.089</td><td>0.570</td><td>0.505</td><td>1.071</td><td>10</td><td>5</td><td>09 41 34.127</td><td>+44 12 25.37</td><td>J09413413+4412253</td><td>-19.4</td><td>-27.9</td><td>2MASS J09413413+4412253</td></tr>\n",
       "<tr><td>142</td><td>SA 29-157</td><td></td><td>11.291</td><td>0.812</td><td>0.450</td><td>0.449</td><td>0.427</td><td>0.874</td><td>18</td><td>9</td><td>09 42 01.262</td><td>+44 11 46.38</td><td>J09420127+4411464</td><td>1.2</td><td>-15.6</td><td>2MASS J09420127+4411464</td></tr>\n",
       "<tr><td>143</td><td>SA 29-350</td><td></td><td>10.295</td><td>0.478</td><td>-0.006</td><td>0.285</td><td>0.275</td><td>0.563</td><td>19</td><td>9</td><td>09 42 08.386</td><td>+44 32 57.10</td><td>J09420840+4432570</td><td>-37.5</td><td>-9.4</td><td>2MASS J09420840+4432570</td></tr>\n",
       "<tr><td>144</td><td>SA 29-22</td><td></td><td>10.474</td><td>0.565</td><td>0.108</td><td>0.324</td><td>0.299</td><td>0.630</td><td>16</td><td>8</td><td>09 42 49.281</td><td>+43 49 35.75</td><td>J09424930+4349356</td><td>-9.8</td><td>-18.0</td><td>2MASS J09424930+4349356</td></tr>\n",
       "<tr><td>145</td><td>SA 29-24</td><td>N</td><td>9.590</td><td>0.549</td><td>0.015</td><td>0.323</td><td>0.318</td><td>0.645</td><td>14</td><td>7</td><td>09 42 58.482</td><td>+43 50 04.87</td><td>J09425847+4350050</td><td>-1.5</td><td>-40.1</td><td>2MASS J09425847+4350050</td></tr>\n",
       "<tr><td>146</td><td>SA 29-303</td><td>N</td><td>8.292</td><td>0.602</td><td>0.174</td><td>0.344</td><td>0.329</td><td>0.674</td><td>4</td><td>4</td><td>09 44 53.037</td><td>+44 25 07.54</td><td>J09445303+4425076</td><td>7.5</td><td>-8.3</td><td>2MASS J09445303+4425076</td></tr>\n",
       "<tr><td>147</td><td>SA 29-322</td><td>N</td><td>9.766</td><td>0.488</td><td>0.030</td><td>0.285</td><td>0.262</td><td>0.560</td><td>14</td><td>7</td><td>09 46 31.722</td><td>+44 22 32.87</td><td>J09463173+4422328</td><td>-33.0</td><td>-45.4</td><td>2MASS J09463173+4422328</td></tr>\n",
       "<tr><td>148</td><td>SA 29-324</td><td></td><td>11.304</td><td>1.117</td><td>1.075</td><td>0.582</td><td>0.516</td><td>1.097</td><td>21</td><td>11</td><td>09 46 53.607</td><td>+44 25 05.72</td><td>J09465360+4425057</td><td>-2.8</td><td>-2.6</td><td>2MASS J09465360+4425057</td></tr>\n",
       "<tr><td>149</td><td>PG 0943+521A</td><td></td><td>14.497</td><td>0.916</td><td>0.624</td><td>0.573</td><td>0.512</td><td>1.089</td><td>1</td><td>1</td><td>09 47 03.487</td><td>+51 55 09.32</td><td>J09470348+5155093</td><td>-77.5</td><td>-52.5</td><td>2MASS J09470348+5155093</td></tr>\n",
       "<tr><td>150</td><td>SA 29-327</td><td></td><td>12.133</td><td>0.803</td><td>0.384</td><td>0.458</td><td>0.428</td><td>0.893</td><td>23</td><td>12</td><td>09 47 04.537</td><td>+44 22 31.17</td><td>J09470453+4422312</td><td>-25.1</td><td>-21.3</td><td>2MASS J09470453+4422312</td></tr>\n",
       "<tr><td>151</td><td>SA 29-399</td><td></td><td>13.111</td><td>0.638</td><td>0.125</td><td>0.357</td><td>0.351</td><td>0.705</td><td>17</td><td>9</td><td>09 47 05.253</td><td>+44 41 02.64</td><td>J09470524+4441025</td><td>-11.0</td><td>-5.6</td><td>2MASS J09470524+4441025</td></tr>\n",
       "<tr><td>152</td><td>SA 29-400</td><td></td><td>14.019</td><td>0.900</td><td>0.510</td><td>0.503</td><td>0.489</td><td>0.987</td><td>6</td><td>3</td><td>09 47 08.212</td><td>+44 40 07.66</td><td>J09470820+4440075</td><td>-4.7</td><td>-13.7</td><td>2MASS J09470820+4440075</td></tr>\n",
       "<tr><td>153</td><td>PG 0943+521</td><td>N</td><td>15.123</td><td>0.211</td><td>-0.983</td><td>0.214</td><td>0.277</td><td>0.494</td><td>1</td><td>1</td><td>09 47 11.942</td><td>+51 54 08.91</td><td>J09471193+5154089</td><td>32.6</td><td>-5.9</td><td>2MASS J09471193+5154089</td></tr>\n",
       "<tr><td>154</td><td>SA 29-402</td><td></td><td>13.875</td><td>0.863</td><td>0.610</td><td>0.468</td><td>0.403</td><td>0.875</td><td>5</td><td>3</td><td>09 47 16.900</td><td>+44 38 20.30</td><td>J09471689+4438201</td><td>2.8</td><td>-12.2</td><td>2MASS J09471689+4438201</td></tr>\n",
       "<tr><td>155</td><td>SA 29-404</td><td></td><td>13.075</td><td>0.800</td><td>0.501</td><td>0.433</td><td>0.373</td><td>0.811</td><td>1</td><td>1</td><td>09 47 19.809</td><td>+44 40 26.74</td><td>J09471979+4440266</td><td>-7.5</td><td>-23.8</td><td>2MASS J09471979+4440266</td></tr>\n",
       "<tr><td>156</td><td>SA 29-331</td><td></td><td>10.001</td><td>0.943</td><td>0.634</td><td>0.504</td><td>0.475</td><td>0.976</td><td>21</td><td>10</td><td>09 47 19.945</td><td>+44 24 28.55</td><td>J09471994+4424286</td><td>-4.7</td><td>0.3</td><td>2MASS J09471994+4424286</td></tr>\n",
       "<tr><td>157</td><td>SA 29-405</td><td></td><td>15.431</td><td>0.791</td><td>0.412</td><td>0.478</td><td>0.462</td><td>0.942</td><td>1</td><td>1</td><td>09 47 20.158</td><td>+44 41 08.31</td><td>J09472015+4441082</td><td>-0.4</td><td>-31.6</td><td>2MASS J09472015+4441082</td></tr>\n",
       "<tr><td>158</td><td>SA 29-251</td><td>N</td><td>9.445</td><td>0.349</td><td>-0.001</td><td>0.219</td><td>0.220</td><td>0.443</td><td>15</td><td>7</td><td>09 47 21.715</td><td>+44 14 13.96</td><td>J09472171+4414139</td><td>-35.7</td><td>-16.4</td><td>2MASS J09472171+4414139</td></tr>\n",
       "<tr><td>159</td><td>SA 29-406</td><td></td><td>14.127</td><td>1.239</td><td>1.235</td><td>0.765</td><td>0.689</td><td>1.447</td><td>5</td><td>3</td><td>09 47 24.345</td><td>+44 39 43.93</td><td>J09472433+4439438</td><td>-16.2</td><td>-10.4</td><td>2MASS J09472433+4439438</td></tr>\n",
       "<tr><td>160</td><td>SA 29-407</td><td></td><td>14.531</td><td>0.524</td><td>-0.034</td><td>0.325</td><td>0.345</td><td>0.654</td><td>5</td><td>3</td><td>09 47 24.351</td><td>+44 37 56.67</td><td>J09472434+4437565</td><td>0.3</td><td>-4.2</td><td>2MASS J09472434+4437565</td></tr>\n",
       "<tr><td>161</td><td>SA 29-408</td><td></td><td>13.113</td><td>0.484</td><td>-0.056</td><td>0.304</td><td>0.319</td><td>0.624</td><td>3</td><td>2</td><td>09 47 25.926</td><td>+44 41 34.07</td><td>J09472591+4441340</td><td>3.3</td><td>-2.8</td><td>2MASS J09472591+4441340</td></tr>\n",
       "<tr><td>162</td><td>SA 29-409</td><td></td><td>13.684</td><td>0.510</td><td>0.025</td><td>0.306</td><td>0.309</td><td>0.616</td><td>3</td><td>2</td><td>09 47 30.510</td><td>+44 40 00.42</td><td>J09473049+4440003</td><td>-0.2</td><td>-4.0</td><td>2MASS J09473049+4440003</td></tr>\n",
       "<tr><td>163</td><td>GD 300B</td><td></td><td>12.773</td><td>0.662</td><td>0.158</td><td>0.375</td><td>0.367</td><td>0.749</td><td>17</td><td>8</td><td>09 55 01.207</td><td>+51 39 58.80</td><td>J09550120+5139587</td><td>-5.6</td><td>2.7</td><td>2MASS J09550120+5139587</td></tr>\n",
       "<tr><td>164</td><td>GD 300</td><td>N</td><td>12.662</td><td>-0.321</td><td>-1.231</td><td>-0.139</td><td>-0.175</td><td>-0.315</td><td>25</td><td>13</td><td>09 55 19.466</td><td>+51 36 59.03</td><td>J09551945+5136590</td><td>-76.9</td><td>-95.7</td><td>2MASS J09551945+5136590</td></tr>\n",
       "<tr><td>165</td><td>GD 300A</td><td></td><td>12.985</td><td>0.681</td><td>0.181</td><td>0.392</td><td>0.371</td><td>0.763</td><td>19</td><td>9</td><td>09 55 34.484</td><td>+51 36 41.97</td><td>J09553447+5136419</td><td>-15.1</td><td>-8.2</td><td>2MASS J09553447+5136419</td></tr>\n",
       "<tr><td>166</td><td>KUV 348-07</td><td>N</td><td>15.546</td><td>0.065</td><td>-0.901</td><td>0.252</td><td>0.560</td><td>0.826</td><td>5</td><td>2</td><td>09 56 52.394</td><td>+41 15 22.10</td><td>J09565240+4115221</td><td>-20.1</td><td>24.3</td><td>2MASS J09565240+4115221</td></tr>\n",
       "<tr><td>167</td><td>KUV 348-07A</td><td></td><td>13.992</td><td>0.482</td><td>-0.163</td><td>0.322</td><td>0.327</td><td>0.653</td><td>4</td><td>2</td><td>09 56 57.179</td><td>+41 16 49.89</td><td>J09565719+4116499</td><td>-14.2</td><td>10.8</td><td>2MASS J09565719+4116499</td></tr>\n",
       "<tr><td>168</td><td>KUV 348-07B</td><td></td><td>14.545</td><td>0.794</td><td>0.346</td><td>0.459</td><td>0.433</td><td>0.900</td><td>4</td><td>2</td><td>09 56 58.396</td><td>+41 13 03.63</td><td>J09565839+4113037</td><td>13.7</td><td>-7.3</td><td>2MASS J09565839+4113037</td></tr>\n",
       "<tr><td>169</td><td>KUV 348-13B</td><td></td><td>14.697</td><td>0.699</td><td>0.118</td><td>0.408</td><td>0.441</td><td>0.848</td><td>2</td><td>1</td><td>10 03 53.506</td><td>+40 32 01.93</td><td>J10035351+4032020</td><td>-25.2</td><td>-14.7</td><td>2MASS J10035351+4032020</td></tr>\n",
       "<tr><td>170</td><td>KUV 348-13</td><td>N</td><td>13.318</td><td>-0.330</td><td>-1.069</td><td>-0.147</td><td>-0.178</td><td>-0.313</td><td>4</td><td>2</td><td>10 03 54.276</td><td>+40 34 18.10</td><td>J10035428+4034182</td><td>-1.7</td><td>-15.9</td><td>2MASS J10035428+4034182</td></tr>\n",
       "<tr><td>171</td><td>KUV 348-13A</td><td></td><td>12.497</td><td>0.646</td><td>0.159</td><td>0.364</td><td>0.356</td><td>0.720</td><td>2</td><td>1</td><td>10 04 06.316</td><td>+40 35 25.49</td><td>J10040632+4035254</td><td>-3.1</td><td>3.9</td><td>2MASS J10040632+4035254</td></tr>\n",
       "<tr><td>172</td><td>KUV 348-14A</td><td></td><td>13.651</td><td>0.515</td><td>-0.045</td><td>0.306</td><td>0.309</td><td>0.615</td><td>3</td><td>1</td><td>10 05 06.918</td><td>+38 47 14.14</td><td>J10050693+3847143</td><td>-3.1</td><td>-4.8</td><td>2MASS J10050693+3847143</td></tr>\n",
       "<tr><td>173</td><td>KUV 348-14</td><td>N</td><td>14.336</td><td>-0.046</td><td>-0.223</td><td>-0.024</td><td>-0.032</td><td>-0.050</td><td>5</td><td>2</td><td>10 05 09.884</td><td>+38 46 15.14</td><td>J10050988+3846151</td><td>-5.2</td><td>-5.4</td><td>2MASS J10050988+3846151</td></tr>\n",
       "<tr><td>174</td><td>KUV 348-14B</td><td></td><td>14.425</td><td>0.621</td><td>0.075</td><td>0.355</td><td>0.366</td><td>0.721</td><td>2</td><td>1</td><td>10 05 17.296</td><td>+38 47 35.05</td><td>J10051730+3847352</td><td>-14.7</td><td>-19.0</td><td>2MASS J10051730+3847352</td></tr>\n",
       "<tr><td>175</td><td>KUV 348-14C</td><td></td><td>15.141</td><td>0.658</td><td>0.118</td><td>0.346</td><td>0.367</td><td>0.712</td><td>2</td><td>1</td><td>10 05 18.521</td><td>+38 48 11.44</td><td>J10051852+3848115</td><td>-1.5</td><td>-13.3</td><td>2MASS J10051852+3848115</td></tr>\n",
       "<tr><td>176</td><td>GD 111A</td><td></td><td>14.291</td><td>0.723</td><td>0.241</td><td>0.409</td><td>0.381</td><td>0.792</td><td>1</td><td>1</td><td>10 05 45.210</td><td>+42 46 49.44</td><td>J10054520+4246494</td><td>-20.4</td><td>7.9</td><td>2MASS J10054520+4246494</td></tr>\n",
       "<tr><td>177</td><td>GD 111</td><td>N</td><td>16.155</td><td>-0.099</td><td>-0.864</td><td>-0.029</td><td>-0.220</td><td>-0.241</td><td>2</td><td>1</td><td>10 05 48.965</td><td>+42 48 03.14</td><td>J10054904+4248036</td><td>-142.0</td><td>-56.0</td><td>2MASS J10054904+4248036</td></tr>\n",
       "<tr><td>178</td><td>GD 111B</td><td></td><td>13.149</td><td>0.761</td><td>0.289</td><td>0.420</td><td>0.417</td><td>0.838</td><td>1</td><td>1</td><td>10 06 02.757</td><td>+42 45 43.10</td><td>J10060274+4245430</td><td>34.0</td><td>-1.9</td><td>2MASS J10060274+4245430</td></tr>\n",
       "<tr><td>179</td><td>GD 310</td><td>N</td><td>15.009</td><td>-0.178</td><td>-1.002</td><td>-0.116</td><td>-0.139</td><td>-0.250</td><td>16</td><td>8</td><td>11 29 10.923</td><td>+38 08 51.64</td><td>J11291092+3808515</td><td>-98.1</td><td>-6.8</td><td>2MASS J11291092+3808515</td></tr>\n",
       "<tr><td>180</td><td>PG 1126+469B</td><td></td><td>12.727</td><td>0.584</td><td>0.048</td><td>0.328</td><td>0.336</td><td>0.668</td><td>1</td><td>1</td><td>11 29 14.264</td><td>+46 34 22.59</td><td>J11291427+4634226</td><td>-25.0</td><td>-52.9</td><td>2MASS J11291427+4634226</td></tr>\n",
       "<tr><td>181</td><td>GD 310C</td><td></td><td>13.911</td><td>0.892</td><td>0.668</td><td>0.496</td><td>0.426</td><td>0.924</td><td>15</td><td>8</td><td>11 29 25.990</td><td>+38 06 12.01</td><td>J11292598+3806120</td><td>18.7</td><td>-5.5</td><td>2MASS J11292598+3806120</td></tr>\n",
       "<tr><td>182</td><td>PG 1126+469</td><td>N</td><td>14.574</td><td>-0.136</td><td>-0.686</td><td>-0.073</td><td>-0.081</td><td>-0.147</td><td>1</td><td>1</td><td>11 29 28.671</td><td>+46 35 31.75</td><td>J11292866+4635317</td><td>-11.0</td><td>2.7</td><td>2MASS J11292866+4635317</td></tr>\n",
       "<tr><td>183</td><td>GD 310A</td><td></td><td>14.057</td><td>0.540</td><td>-0.073</td><td>0.341</td><td>0.356</td><td>0.698</td><td>15</td><td>8</td><td>11 29 29.898</td><td>+38 09 14.09</td><td>J11292989+3809141</td><td>-9.8</td><td>-14.5</td><td>2MASS J11292989+3809141</td></tr>\n",
       "<tr><td>184</td><td>GD 310B</td><td></td><td>14.200</td><td>0.978</td><td>0.832</td><td>0.595</td><td>0.541</td><td>1.137</td><td>16</td><td>8</td><td>11 29 35.454</td><td>+38 08 12.60</td><td>J11293545+3808126</td><td>-5.3</td><td>-6.7</td><td>2MASS J11293545+3808126</td></tr>\n",
       "<tr><td>185</td><td>PG 1126+469A</td><td></td><td>12.770</td><td>0.639</td><td>0.149</td><td>0.365</td><td>0.350</td><td>0.720</td><td>1</td><td>1</td><td>11 29 36.579</td><td>+46 35 44.99</td><td>J11293657+4635448</td><td>5.6</td><td>-19.3</td><td>2MASS J11293657+4635448</td></tr>\n",
       "<tr><td>186</td><td>KUV 352-09</td><td>N</td><td>12.967</td><td>-0.146</td><td>-0.646</td><td>-0.065</td><td>-0.075</td><td>-0.154</td><td>7</td><td>3</td><td>11 36 24.386</td><td>+39 29 33.88</td><td>J11362438+3929338</td><td>-3.1</td><td>-6.2</td><td>2MASS J11362438+3929338</td></tr>\n",
       "<tr><td>187</td><td>GD 314E</td><td></td><td>15.014</td><td>0.803</td><td>0.406</td><td>0.477</td><td>0.436</td><td>0.918</td><td>7</td><td>3</td><td>12 03 47.219</td><td>+60 32 08.59</td><td>J12034723+6032087</td><td>-1.6</td><td>4.9</td><td>2MASS J12034723+6032087</td></tr>\n",
       "<tr><td>188</td><td>GD 314C</td><td></td><td>13.707</td><td>0.529</td><td>-0.028</td><td>0.328</td><td>0.334</td><td>0.659</td><td>8</td><td>4</td><td>12 04 01.598</td><td>+60 37 48.53</td><td>J12040160+6037486</td><td>2.4</td><td>0.3</td><td>2MASS J12040160+6037486</td></tr>\n",
       "<tr><td>189</td><td>GD 314D</td><td></td><td>14.538</td><td>1.339</td><td>1.202</td><td>0.822</td><td>0.740</td><td>1.575</td><td>7</td><td>3</td><td>12 04 02.198</td><td>+60 34 57.98</td><td>J12040220+6034580</td><td>-10.7</td><td>5.2</td><td>2MASS J12040220+6034580</td></tr>\n",
       "<tr><td>190</td><td>GD 314</td><td>N</td><td>13.568</td><td>-0.344</td><td>-1.250</td><td>-0.149</td><td>-0.179</td><td>-0.328</td><td>14</td><td>7</td><td>12 04 38.536</td><td>+60 32 08.08</td><td>J12043856+6032082</td><td>-53.6</td><td>-28.3</td><td>2MASS J12043856+6032082</td></tr>\n",
       "<tr><td>191</td><td>GD 314A</td><td></td><td>12.435</td><td>0.854</td><td>0.441</td><td>0.479</td><td>0.462</td><td>0.942</td><td>13</td><td>7</td><td>12 05 04.878</td><td>+60 35 11.92</td><td>J12050489+6035119</td><td>-9.3</td><td>-13.9</td><td>2MASS J12050489+6035119</td></tr>\n",
       "<tr><td>192</td><td>GD 314B</td><td></td><td>10.831</td><td>0.927</td><td>0.659</td><td>0.510</td><td>0.468</td><td>0.980</td><td>13</td><td>7</td><td>12 05 18.007</td><td>+60 36 47.89</td><td>J12051802+6036479</td><td>-35.7</td><td>6.8</td><td>2MASS J12051802+6036479</td></tr>\n",
       "<tr><td>193</td><td>PG 1210+533B</td><td></td><td>11.500</td><td>0.648</td><td>0.144</td><td>0.372</td><td>0.349</td><td>0.723</td><td>3</td><td>2</td><td>12 13 18.722</td><td>+53 02 53.73</td><td>J12131872+5302538</td><td>-22.9</td><td>-8.1</td><td>2MASS J12131872+5302538</td></tr>\n",
       "<tr><td>194</td><td>PG 1210+533A</td><td></td><td>14.461</td><td>0.614</td><td>0.051</td><td>0.356</td><td>0.359</td><td>0.717</td><td>3</td><td>2</td><td>12 13 24.431</td><td>+53 02 27.15</td><td>J12132443+5302272</td><td>-7.1</td><td>2.8</td><td>2MASS J12132443+5302272</td></tr>\n",
       "<tr><td>195</td><td>PG 1210+533</td><td>N</td><td>14.135</td><td>-0.311</td><td>-1.205</td><td>-0.146</td><td>-0.196</td><td>-0.337</td><td>5</td><td>2</td><td>12 13 24.643</td><td>+53 03 57.27</td><td>J12132464+5303573</td><td>7.9</td><td>-41.5</td><td>2MASS J12132464+5303573</td></tr>\n",
       "<tr><td>196</td><td>SA 32-270</td><td></td><td>12.516</td><td>0.717</td><td>0.234</td><td>0.403</td><td>0.395</td><td>0.797</td><td>6</td><td>3</td><td>12 55 07.557</td><td>+44 23 14.09</td><td>J12550753+4423141</td><td>-12.5</td><td>6.0</td><td>2MASS J12550753+4423141</td></tr>\n",
       "<tr><td>197</td><td>SA 32-271</td><td></td><td>11.209</td><td>0.639</td><td>0.121</td><td>0.370</td><td>0.353</td><td>0.722</td><td>12</td><td>6</td><td>12 55 08.586</td><td>+44 23 13.45</td><td>J12550857+4423134</td><td>-97.9</td><td>1.9</td><td>2MASS J12550857+4423134</td></tr>\n",
       "<tr><td>198</td><td>SA 32-272</td><td>N</td><td>8.961</td><td>0.488</td><td>-0.106</td><td>0.304</td><td>0.308</td><td>0.613</td><td>11</td><td>6</td><td>12 55 10.338</td><td>+44 17 28.83</td><td>J12551032+4417289</td><td>64.4</td><td>-70.9</td><td>2MASS J12551032+4417289</td></tr>\n",
       "<tr><td>199</td><td>SA 32-330</td><td>N</td><td>10.068</td><td>0.665</td><td>0.190</td><td>0.378</td><td>0.342</td><td>0.721</td><td>11</td><td>6</td><td>12 55 26.396</td><td>+44 33 35.57</td><td>J12552638+4433353</td><td>-38.0</td><td>1.2</td><td>2MASS J12552638+4433353</td></tr>\n",
       "<tr><td>200</td><td>SA 32-377</td><td>N</td><td>10.630</td><td>0.641</td><td>0.101</td><td>0.372</td><td>0.358</td><td>0.735</td><td>11</td><td>6</td><td>12 55 45.397</td><td>+44 40 38.60</td><td>J12554539+4440386</td><td>-19.1</td><td>6.7</td><td>2MASS J12554539+4440386</td></tr>\n",
       "<tr><td>201</td><td>SA 32-379</td><td></td><td>11.174</td><td>1.039</td><td>0.874</td><td>0.547</td><td>0.495</td><td>1.041</td><td>17</td><td>9</td><td>12 55 50.119</td><td>+44 42 22.67</td><td>J12555011+4442226</td><td>-0.6</td><td>-2.0</td><td>2MASS J12555011+4442226</td></tr>\n",
       "<tr><td>202</td><td>SA 32-282</td><td>N</td><td>10.152</td><td>0.480</td><td>0.030</td><td>0.283</td><td>0.280</td><td>0.571</td><td>11</td><td>6</td><td>12 56 02.614</td><td>+44 26 49.25</td><td>J12560261+4426493</td><td>-12.6</td><td>-22.4</td><td>2MASS J12560261+4426493</td></tr>\n",
       "<tr><td>203</td><td>SA 32-212</td><td>N</td><td>9.317</td><td>1.159</td><td>1.131</td><td>0.609</td><td>0.546</td><td>1.156</td><td>15</td><td>8</td><td>12 56 03.313</td><td>+44 15 28.14</td><td>J12560329+4415280</td><td>-3.3</td><td>-9.8</td><td>2MASS J12560329+4415280</td></tr>\n",
       "<tr><td>204</td><td>SA 32-166</td><td></td><td>16.316</td><td>0.522</td><td>-0.165</td><td>0.409</td><td>0.337</td><td>0.895</td><td>5</td><td>3</td><td>12 56 08.942</td><td>+44 00 55.03</td><td>J12560892+4400547</td><td>-8.6</td><td>2.1</td><td>2MASS J12560892+4400547</td></tr>\n",
       "<tr><td>205</td><td>SA 32-167</td><td></td><td>13.510</td><td>0.398</td><td>-0.032</td><td>0.241</td><td>0.241</td><td>0.477</td><td>10</td><td>5</td><td>12 56 11.417</td><td>+44 00 32.42</td><td>J12561139+4400323</td><td>-9.8</td><td>0.8</td><td>2MASS J12561139+4400323</td></tr>\n",
       "<tr><td>206</td><td>SA 32-105</td><td></td><td>13.372</td><td>0.632</td><td>0.138</td><td>0.364</td><td>0.341</td><td>0.706</td><td>13</td><td>6</td><td>12 56 29.185</td><td>+43 54 07.17</td><td>J12562918+4354071</td><td>-16.3</td><td>10.7</td><td>2MASS J12562918+4354071</td></tr>\n",
       "<tr><td>207</td><td>SA 32-106</td><td></td><td>13.266</td><td>0.685</td><td>0.135</td><td>0.399</td><td>0.394</td><td>0.795</td><td>13</td><td>6</td><td>12 56 32.000</td><td>+43 56 45.10</td><td>J12563200+4356450</td><td>-45.4</td><td>-1.3</td><td>2MASS J12563200+4356450</td></tr>\n",
       "<tr><td>208</td><td>SA 32-107</td><td></td><td>13.673</td><td>0.747</td><td>0.312</td><td>0.421</td><td>0.399</td><td>0.821</td><td>13</td><td>6</td><td>12 56 34.300</td><td>+43 54 33.99</td><td>J12563429+4354339</td><td>7.0</td><td>-5.0</td><td>2MASS J12563429+4354339</td></tr>\n",
       "<tr><td>209</td><td>SA 32-220</td><td></td><td>13.094</td><td>0.646</td><td>0.098</td><td>0.380</td><td>0.363</td><td>0.744</td><td>7</td><td>4</td><td>12 56 34.353</td><td>+44 15 02.31</td><td>J12563434+4415024</td><td>0.4</td><td>15.2</td><td>2MASS J12563434+4415024</td></tr>\n",
       "<tr><td>210</td><td>SA 32-172</td><td></td><td>14.469</td><td>0.642</td><td>0.063</td><td>0.368</td><td>0.371</td><td>0.737</td><td>4</td><td>2</td><td>12 56 35.217</td><td>+44 02 25.52</td><td>J12563522+4402254</td><td>-20.5</td><td>11.2</td><td>2MASS J12563522+4402254</td></tr>\n",
       "<tr><td>211</td><td>SA 32-221</td><td></td><td>11.429</td><td>0.682</td><td>0.235</td><td>0.378</td><td>0.345</td><td>0.728</td><td>16</td><td>9</td><td>12 56 36.794</td><td>+44 14 59.60</td><td>J12563679+4414597</td><td>-47.6</td><td>-16.2</td><td>2MASS J12563679+4414597</td></tr>\n",
       "<tr><td>212</td><td>SA 32-109</td><td></td><td>11.891</td><td>0.536</td><td>-0.043</td><td>0.325</td><td>0.329</td><td>0.650</td><td>22</td><td>11</td><td>12 56 40.337</td><td>+43 56 33.74</td><td>J12564033+4356336</td><td>-15.4</td><td>23.2</td><td>2MASS J12564033+4356336</td></tr>\n",
       "<tr><td>213</td><td>SA 32-174</td><td></td><td>12.433</td><td>0.721</td><td>0.169</td><td>0.431</td><td>0.415</td><td>0.843</td><td>10</td><td>5</td><td>12 56 55.284</td><td>+44 05 00.64</td><td>J12565530+4405006</td><td>-86.4</td><td>-31.9</td><td>2MASS J12565530+4405006</td></tr>\n",
       "<tr><td>214</td><td>SA 32-175</td><td></td><td>13.544</td><td>1.063</td><td>0.977</td><td>0.652</td><td>0.546</td><td>1.197</td><td>12</td><td>6</td><td>12 57 00.485</td><td>+44 05 02.78</td><td>J12570049+4405029</td><td>25.6</td><td>-83.5</td><td>2MASS J12570049+4405029</td></tr>\n",
       "<tr><td>215</td><td>GD 153</td><td>N</td><td>13.349</td><td>-0.289</td><td>-1.177</td><td>-0.139</td><td>-0.180</td><td>-0.320</td><td>4</td><td>2</td><td>12 57 02.325</td><td>+22 01 52.66</td><td>J12570233+2201526</td><td>-28.0</td><td>-194.0</td><td>2MASS J12570233+2201526</td></tr>\n",
       "<tr><td>216</td><td>SA 32-176</td><td>N</td><td>10.212</td><td>1.071</td><td>0.984</td><td>0.561</td><td>0.501</td><td>1.071</td><td>24</td><td>13</td><td>12 57 03.215</td><td>+44 00 33.80</td><td>J12570321+4400338</td><td>3.0</td><td>11.4</td><td>2MASS J12570321+4400338</td></tr>\n",
       "<tr><td>217</td><td>SA 32-177</td><td></td><td>11.377</td><td>0.601</td><td>0.015</td><td>0.358</td><td>0.346</td><td>0.706</td><td>25</td><td>13</td><td>12 57 17.140</td><td>+44 01 00.49</td><td>J12571716+4401004</td><td>-39.2</td><td>2.1</td><td>2MASS J12571716+4401004</td></tr>\n",
       "<tr><td>218</td><td>SA 32-178</td><td></td><td>11.313</td><td>0.805</td><td>0.463</td><td>0.457</td><td>0.421</td><td>0.874</td><td>25</td><td>13</td><td>12 57 25.633</td><td>+44 02 02.82</td><td>J12572563+4402028</td><td>59.4</td><td>-39.0</td><td>2MASS J12572563+4402028</td></tr>\n",
       "<tr><td>219</td><td>SA 32-113</td><td>N</td><td>10.834</td><td>0.906</td><td>0.639</td><td>0.531</td><td>0.461</td><td>0.998</td><td>20</td><td>11</td><td>12 57 25.835</td><td>+43 56 32.95</td><td>J12572585+4356330</td><td>-69.3</td><td>52.4</td><td>2MASS J12572585+4356330</td></tr>\n",
       "<tr><td>220</td><td>SA 32-62</td><td>N</td><td>9.788</td><td>1.086</td><td>0.938</td><td>0.550</td><td>0.514</td><td>1.068</td><td>1</td><td>1</td><td>12 58 30.288</td><td>+43 43 19.21</td><td>J12583028+4343192</td><td>-13.3</td><td>-15.0</td><td>2MASS J12583028+4343192</td></tr>\n",
       "<tr><td>221</td><td>SA 32-64</td><td></td><td>11.831</td><td>0.603</td><td>0.017</td><td>0.334</td><td>0.344</td><td>0.680</td><td>3</td><td>1</td><td>12 58 36.649</td><td>+43 43 35.26</td><td>J12583664+4343352</td><td>-41.5</td><td>16.4</td><td>2MASS J12583664+4343352</td></tr>\n",
       "<tr><td>222</td><td>PG 1314+442A</td><td></td><td>15.383</td><td>0.707</td><td>0.162</td><td>0.410</td><td>0.409</td><td>0.818</td><td>5</td><td>3</td><td>13 16 31.974</td><td>+43 58 14.74</td><td>J13163196+4358147</td><td>-13.7</td><td>-18.1</td><td>2MASS J13163196+4358147</td></tr>\n",
       "<tr><td>223</td><td>PG 1314+442</td><td>N</td><td>15.243</td><td>-0.135</td><td>-0.993</td><td>0.021</td><td>0.034</td><td>0.053</td><td>5</td><td>3</td><td>13 16 33.109</td><td>+43 59 05.46</td><td>J13163310+4359054</td><td>-7.5</td><td>-2.5</td><td>2MASS J13163310+4359054</td></tr>\n",
       "<tr><td>224</td><td>GD 325</td><td>N</td><td>13.968</td><td>0.032</td><td>-0.953</td><td>0.234</td><td>0.776</td><td>1.005</td><td>9</td><td>4</td><td>13 36 01.794</td><td>+48 28 46.15</td><td>J13360209+4828472</td><td>-114.0</td><td>-38.0</td><td>2MASS J13360209+4828472</td></tr>\n",
       "<tr><td>225</td><td>GD 325A</td><td></td><td>14.094</td><td>0.858</td><td>0.510</td><td>0.502</td><td>0.467</td><td>0.965</td><td>9</td><td>4</td><td>13 36 08.189</td><td>+48 28 57.62</td><td>J13360817+4828577</td><td>-3.2</td><td>-4.4</td><td>2MASS J13360817+4828577</td></tr>\n",
       "<tr><td>226</td><td>GD 325B</td><td></td><td>11.972</td><td>0.675</td><td>0.164</td><td>0.404</td><td>0.385</td><td>0.784</td><td>8</td><td>4</td><td>13 36 27.776</td><td>+48 29 30.70</td><td>J13362777+4829307</td><td>20.8</td><td>-17.0</td><td>2MASS J13362777+4829307</td></tr>\n",
       "<tr><td>227</td><td>GD 325C</td><td></td><td>12.977</td><td>0.469</td><td>-0.012</td><td>0.299</td><td>0.297</td><td>0.587</td><td>8</td><td>4</td><td>13 36 31.813</td><td>+48 30 17.74</td><td>J13363181+4830177</td><td>-14.0</td><td>-6.6</td><td>2MASS J13363181+4830177</td></tr>\n",
       "<tr><td>228</td><td>PG 1343+578</td><td>N</td><td>13.809</td><td>0.014</td><td>-0.590</td><td>0.065</td><td>0.059</td><td>0.123</td><td>1</td><td>1</td><td>13 45 01.414</td><td>+57 30 12.84</td><td>J13450142+5730128</td><td>-0.9</td><td>-8.0</td><td>2MASS J13450142+5730128</td></tr>\n",
       "<tr><td>229</td><td>PG 1343+578A</td><td></td><td>13.878</td><td>0.591</td><td>0.081</td><td>0.356</td><td>0.339</td><td>0.696</td><td>1</td><td>1</td><td>13 45 04.743</td><td>+57 32 11.27</td><td>J13450474+5732112</td><td>-4.6</td><td>0.1</td><td>2MASS J13450474+5732112</td></tr>\n",
       "<tr><td>230</td><td>GD 336B</td><td></td><td>12.985</td><td>0.646</td><td>0.155</td><td>0.368</td><td>0.348</td><td>0.716</td><td>15</td><td>8</td><td>14 31 46.324</td><td>+37 07 46.67</td><td>J14314632+3707467</td><td>13.4</td><td>11.2</td><td>2MASS J14314632+3707467</td></tr>\n",
       "<tr><td>231</td><td>GD 336A</td><td></td><td>13.424</td><td>0.359</td><td>-0.054</td><td>0.217</td><td>0.218</td><td>0.436</td><td>15</td><td>8</td><td>14 31 50.878</td><td>+37 05 17.40</td><td>J14315088+3705175</td><td>-0.8</td><td>6.2</td><td>2MASS J14315088+3705175</td></tr>\n",
       "<tr><td>232</td><td>GD 336</td><td>N</td><td>15.283</td><td>-0.270</td><td>-1.149</td><td>-0.147</td><td>-0.215</td><td>-0.366</td><td>15</td><td>7</td><td>14 31 56.628</td><td>+37 06 30.07</td><td>J14315666+3706299</td><td>-105.3</td><td>24.4</td><td>2MASS J14315666+3706299</td></tr>\n",
       "<tr><td>233</td><td>GD 336C</td><td></td><td>13.627</td><td>0.562</td><td>0.006</td><td>0.328</td><td>0.325</td><td>0.655</td><td>15</td><td>8</td><td>14 32 03.469</td><td>+37 04 19.95</td><td>J14320347+3704199</td><td>-0.2</td><td>-0.7</td><td>2MASS J14320347+3704199</td></tr>\n",
       "<tr><td>234</td><td>PG 1430+427C</td><td></td><td>11.421</td><td>0.454</td><td>-0.109</td><td>0.281</td><td>0.281</td><td>0.561</td><td>9</td><td>5</td><td>14 32 20.592</td><td>+42 30 24.07</td><td>J14322059+4230240</td><td>-32.1</td><td>32.7</td><td>2MASS J14322059+4230240</td></tr>\n",
       "<tr><td>235</td><td>PG 1430+427</td><td>N</td><td>14.218</td><td>-0.148</td><td>-0.669</td><td>-0.058</td><td>-0.067</td><td>-0.130</td><td>12</td><td>6</td><td>14 32 33.889</td><td>+42 30 19.07</td><td>J14323389+4230192</td><td>-3.1</td><td>-15.7</td><td>2MASS J14323389+4230192</td></tr>\n",
       "<tr><td>236</td><td>PG 1430+427A</td><td></td><td>11.907</td><td>0.759</td><td>0.402</td><td>0.419</td><td>0.378</td><td>0.794</td><td>9</td><td>5</td><td>14 32 39.438</td><td>+42 30 40.02</td><td>J14323944+4230401</td><td>-11.6</td><td>1.4</td><td>2MASS J14323944+4230401</td></tr>\n",
       "<tr><td>237</td><td>PG 1430+427B</td><td></td><td>12.039</td><td>0.900</td><td>0.664</td><td>0.483</td><td>0.428</td><td>0.910</td><td>7</td><td>4</td><td>14 32 46.756</td><td>+42 32 19.21</td><td>J14324676+4232193</td><td>-16.6</td><td>13.3</td><td>2MASS J14324676+4232193</td></tr>\n",
       "<tr><td>238</td><td>SA 35-316</td><td>N</td><td>9.953</td><td>0.462</td><td>0.061</td><td>0.282</td><td>0.279</td><td>0.559</td><td>16</td><td>8</td><td>15 49 41.176</td><td>+44 35 23.77</td><td>J15494119+4435238</td><td>4.7</td><td>-10.3</td><td>2MASS J15494119+4435238</td></tr>\n",
       "<tr><td>239</td><td>SA 35-243</td><td></td><td>12.011</td><td>0.542</td><td>-0.016</td><td>0.319</td><td>0.319</td><td>0.648</td><td>8</td><td>4</td><td>15 49 49.168</td><td>+44 27 53.56</td><td>J15494913+4427535</td><td>-8.1</td><td>16.8</td><td>2MASS J15494913+4427535</td></tr>\n",
       "<tr><td>240</td><td>SA 35-245</td><td>N</td><td>7.686</td><td>0.111</td><td>0.101</td><td>0.055</td><td>0.046</td><td>0.097</td><td>2</td><td>1</td><td>15 49 49.958</td><td>+44 31 19.49</td><td>J15494996+4431197</td><td>-13.9</td><td>2.3</td><td>2MASS J15494996+4431197</td></tr>\n",
       "<tr><td>241</td><td>SA 35-318</td><td></td><td>11.807</td><td>0.180</td><td>0.124</td><td>0.129</td><td>0.159</td><td>0.286</td><td>19</td><td>10</td><td>15 50 01.814</td><td>+44 33 04.74</td><td>J15500181+4433048</td><td>-2.9</td><td>-39.1</td><td>2MASS J15500181+4433048</td></tr>\n",
       "<tr><td>242</td><td>SA 35-491</td><td></td><td>11.539</td><td>0.915</td><td>0.663</td><td>0.509</td><td>0.457</td><td>0.964</td><td>13</td><td>7</td><td>15 50 33.186</td><td>+44 58 06.22</td><td>J15503319+4458062</td><td>-11.8</td><td>-11.1</td><td>2MASS J15503319+4458062</td></tr>\n",
       "<tr><td>243</td><td>SA 35-492</td><td>N</td><td>9.829</td><td>0.556</td><td>0.013</td><td>0.332</td><td>0.329</td><td>0.658</td><td>10</td><td>5</td><td>15 50 38.980</td><td>+45 00 37.36</td><td>J15503898+4500374</td><td>-21.7</td><td>47.2</td><td>2MASS J15503898+4500374</td></tr>\n",
       "<tr><td>244</td><td>SA 35-338</td><td>N</td><td>9.605</td><td>0.371</td><td>-0.015</td><td>0.221</td><td>0.225</td><td>0.456</td><td>12</td><td>6</td><td>15 51 50.503</td><td>+44 41 51.75</td><td>J15515050+4441517</td><td>-10.5</td><td>2.3</td><td>2MASS J15515050+4441517</td></tr>\n",
       "<tr><td>245</td><td>SA 35-339</td><td></td><td>12.775</td><td>0.554</td><td>0.028</td><td>0.336</td><td>0.329</td><td>0.662</td><td>4</td><td>2</td><td>15 51 54.385</td><td>+44 32 29.14</td><td>J15515438+4432292</td><td>15.1</td><td>-26.9</td><td>2MASS J15515438+4432292</td></tr>\n",
       "<tr><td>246</td><td>SA 35-341</td><td></td><td>12.565</td><td>0.559</td><td>0.007</td><td>0.337</td><td>0.330</td><td>0.670</td><td>18</td><td>9</td><td>15 51 56.722</td><td>+44 33 24.64</td><td>J15515672+4433247</td><td>14.2</td><td>-28.2</td><td>2MASS J15515672+4433247</td></tr>\n",
       "<tr><td>247</td><td>SA 35-343</td><td></td><td>10.870</td><td>0.433</td><td>-0.063</td><td>0.271</td><td>0.254</td><td>0.529</td><td>11</td><td>6</td><td>15 51 57.200</td><td>+44 35 26.22</td><td>J15515720+4435263</td><td>-2.9</td><td>6.5</td><td>2MASS J15515720+4435263</td></tr>\n",
       "<tr><td>248</td><td>SA 35-261</td><td></td><td>12.126</td><td>1.508</td><td>1.898</td><td>0.860</td><td>0.884</td><td>1.740</td><td>25</td><td>11</td><td>15 52 04.173</td><td>+44 24 58.31</td><td>J15520416+4424585</td><td>-5.2</td><td>-1.2</td><td>2MASS J15520416+4424585</td></tr>\n",
       "<tr><td>249</td><td>SA 35-262</td><td></td><td>12.835</td><td>0.499</td><td>-0.032</td><td>0.299</td><td>0.307</td><td>0.609</td><td>19</td><td>10</td><td>15 52 05.049</td><td>+44 26 00.66</td><td>J15520505+4426009</td><td>11.7</td><td>10.1</td><td>2MASS J15520505+4426009</td></tr>\n",
       "<tr><td>250</td><td>SA 35-263</td><td></td><td>13.552</td><td>0.833</td><td>0.503</td><td>0.464</td><td>0.423</td><td>0.894</td><td>8</td><td>4</td><td>15 52 05.068</td><td>+44 30 01.39</td><td>J15520506+4430016</td><td>9.6</td><td>10.6</td><td>2MASS J15520506+4430016</td></tr>\n",
       "<tr><td>251</td><td>SA 35-264</td><td></td><td>13.775</td><td>0.828</td><td>0.499</td><td>0.457</td><td>0.401</td><td>0.857</td><td>6</td><td>3</td><td>15 52 12.896</td><td>+44 28 30.81</td><td>J15521288+4428308</td><td>-6.4</td><td>4.9</td><td>2MASS J15521288+4428308</td></tr>\n",
       "<tr><td>252</td><td>SA 35-265</td><td></td><td>16.039</td><td>0.517</td><td>-0.091</td><td>0.363</td><td>0.341</td><td>0.677</td><td>8</td><td>4</td><td>15 52 13.784</td><td>+44 28 55.85</td><td>J15521379+4428558</td><td>5.3</td><td>-10.7</td><td>2MASS J15521379+4428558</td></tr>\n",
       "<tr><td>253</td><td>SA 35-266</td><td></td><td>12.913</td><td>1.056</td><td>0.979</td><td>0.569</td><td>0.506</td><td>1.075</td><td>10</td><td>5</td><td>15 52 23.534</td><td>+44 30 23.32</td><td>J15522352+4430233</td><td>1.4</td><td>-6.3</td><td>2MASS J15522352+4430233</td></tr>\n",
       "<tr><td>254</td><td>SA 35-267</td><td></td><td>16.093</td><td>0.596</td><td>-0.008</td><td>0.354</td><td>0.345</td><td>0.698</td><td>8</td><td>4</td><td>15 52 24.277</td><td>+44 26 00.06</td><td>J15522426+4425599</td><td>1.5</td><td>-14.8</td><td>2MASS J15522426+4425599</td></tr>\n",
       "<tr><td>255</td><td>SA 35-518</td><td>N</td><td>9.258</td><td>0.156</td><td>0.107</td><td>0.062</td><td>0.086</td><td>0.157</td><td>5</td><td>3</td><td>15 53 28.862</td><td>+44 57 30.75</td><td>J15532885+4457308</td><td>-2.2</td><td>6.1</td><td>2MASS J15532885+4457308</td></tr>\n",
       "<tr><td>256</td><td>SA 35-526</td><td>N</td><td>9.024</td><td>1.055</td><td>1.002</td><td>0.541</td><td>0.496</td><td>1.035</td><td>6</td><td>3</td><td>15 54 19.828</td><td>+44 55 06.78</td><td>J15541982+4455066</td><td>-7.8</td><td>-24.0</td><td>2MASS J15541982+4455066</td></tr>\n",
       "<tr><td>257</td><td>SA 35-535</td><td>N</td><td>9.120</td><td>1.251</td><td>1.413</td><td>0.660</td><td>0.581</td><td>1.241</td><td>4</td><td>3</td><td>15 55 00.665</td><td>+44 59 20.41</td><td>J15550065+4459205</td><td>1.8</td><td>-11.4</td><td>2MASS J15550065+4459205</td></tr>\n",
       "<tr><td>258</td><td>SA 35-539</td><td></td><td>12.920</td><td>0.778</td><td>0.420</td><td>0.450</td><td>0.407</td><td>0.858</td><td>12</td><td>6</td><td>15 55 13.789</td><td>+44 58 15.44</td><td>J15551379+4458153</td><td>-2.7</td><td>-57.2</td><td>2MASS J15551379+4458153</td></tr>\n",
       "<tr><td>259</td><td>KUV 433-03</td><td>N</td><td>14.902</td><td>-0.255</td><td>-1.062</td><td>-0.111</td><td>-0.148</td><td>-0.255</td><td>7</td><td>3</td><td>16 38 26.317</td><td>+35 00 11.86</td><td>J16380482-0035067</td><td>-33.9</td><td>10.2</td><td>2MASS J16380482-0035067</td></tr>\n",
       "<tr><td>260</td><td>KUV 433-03A</td><td></td><td>15.578</td><td>1.223</td><td>1.274</td><td>0.741</td><td>0.613</td><td>1.356</td><td>5</td><td>2</td><td>16 38 27.812</td><td>+34 59 46.59</td><td>J16382781+3459467</td><td>9.5</td><td>-8.2</td><td>2MASS J16382781+3459467</td></tr>\n",
       "<tr><td>261</td><td>GD 358</td><td>N</td><td>13.653</td><td>-0.123</td><td>-1.019</td><td>-0.099</td><td>-0.097</td><td>-0.199</td><td>13</td><td>6</td><td>16 47 18.358</td><td>+32 28 32.93</td><td>J16471839+3228328</td><td>-158.0</td><td>20.0</td><td>2MASS J16471839+3228328</td></tr>\n",
       "<tr><td>262</td><td>GD 358A</td><td></td><td>13.496</td><td>0.943</td><td>0.747</td><td>0.569</td><td>0.485</td><td>1.056</td><td>12</td><td>6</td><td>16 47 22.314</td><td>+32 25 31.30</td><td>J16472231+3225312</td><td>3.6</td><td>-26.5</td><td>2MASS J16472231+3225312</td></tr>\n",
       "<tr><td>263</td><td>GD 358B</td><td></td><td>12.570</td><td>0.677</td><td>0.215</td><td>0.378</td><td>0.361</td><td>0.735</td><td>11</td><td>6</td><td>16 47 23.224</td><td>+32 23 37.16</td><td>J16472322+3223371</td><td>-4.7</td><td>-18.2</td><td>2MASS J16472322+3223371</td></tr>\n",
       "<tr><td>264</td><td>PG 1648+536E</td><td></td><td>15.152</td><td>0.668</td><td>0.172</td><td>0.407</td><td>0.326</td><td>0.736</td><td>2</td><td>1</td><td>16 49 48.175</td><td>+53 31 30.23</td><td>J16494817+5331303</td><td>0.0</td><td>-1.3</td><td>2MASS J16494817+5331303</td></tr>\n",
       "<tr><td>265</td><td>PG 1648+536A</td><td></td><td>14.329</td><td>0.744</td><td>0.299</td><td>0.415</td><td>0.387</td><td>0.799</td><td>13</td><td>6</td><td>16 49 57.450</td><td>+53 30 18.56</td><td>J16495744+5330187</td><td>-4.7</td><td>-3.2</td><td>2MASS J16495744+5330187</td></tr>\n",
       "<tr><td>266</td><td>PG 1648+536</td><td>N</td><td>14.050</td><td>-0.215</td><td>-1.024</td><td>-0.090</td><td>-0.126</td><td>-0.214</td><td>13</td><td>6</td><td>16 49 59.853</td><td>+53 31 31.75</td><td>J16495985+5331318</td><td>0.9</td><td>-15.4</td><td>2MASS J16495985+5331318</td></tr>\n",
       "<tr><td>267</td><td>PG 1648+536B</td><td></td><td>14.047</td><td>0.611</td><td>0.052</td><td>0.377</td><td>0.372</td><td>0.751</td><td>10</td><td>5</td><td>16 50 01.154</td><td>+53 29 14.64</td><td>J16500115+5329148</td><td>1.8</td><td>-14.1</td><td>2MASS J16500115+5329148</td></tr>\n",
       "<tr><td>268</td><td>PG 1648+536C</td><td></td><td>13.520</td><td>0.957</td><td>0.722</td><td>0.549</td><td>0.483</td><td>1.031</td><td>10</td><td>5</td><td>16 50 07.599</td><td>+53 28 49.30</td><td>J16500759+5328494</td><td>-13.4</td><td>-11.3</td><td>2MASS J16500759+5328494</td></tr>\n",
       "<tr><td>269</td><td>PG 1648+536D</td><td>N</td><td>12.246</td><td>0.637</td><td>0.103</td><td>0.372</td><td>0.361</td><td>0.733</td><td>7</td><td>4</td><td>16 50 11.586</td><td>+53 26 59.73</td><td>J16501157+5326597</td><td>-3.2</td><td>18.8</td><td>2MASS J16501157+5326597</td></tr>\n",
       "<tr><td>270</td><td>GD 363C</td><td></td><td>15.504</td><td>0.590</td><td>0.009</td><td>0.346</td><td>0.294</td><td>0.641</td><td>14</td><td>7</td><td>17 38 26.523</td><td>+41 53 20.52</td><td>J17382653+4153204</td><td>2.6</td><td>-3.5</td><td>2MASS J17382653+4153204</td></tr>\n",
       "<tr><td>271</td><td>GD 363B</td><td></td><td>15.058</td><td>1.163</td><td>1.075</td><td>0.730</td><td>0.635</td><td>1.371</td><td>23</td><td>13</td><td>17 38 33.790</td><td>+41 53 30.66</td><td>J17383380+4153306</td><td>11.5</td><td>17.8</td><td>2MASS J17383380+4153306</td></tr>\n",
       "<tr><td>272</td><td>GD 363A</td><td></td><td>12.900</td><td>1.013</td><td>0.834</td><td>0.542</td><td>0.497</td><td>1.040</td><td>21</td><td>12</td><td>17 38 35.039</td><td>+41 53 58.16</td><td>J17383504+4153580</td><td>2.5</td><td>4.1</td><td>2MASS J17383504+4153580</td></tr>\n",
       "<tr><td>273</td><td>GD 363</td><td>N</td><td>15.286</td><td>-0.108</td><td>-0.894</td><td>-0.126</td><td>-0.153</td><td>-0.272</td><td>21</td><td>12</td><td>17 38 35.667</td><td>+41 52 31.69</td><td>J17383567+4152310</td><td>-32.0</td><td>178.0</td><td>2MASS J17383567+4152310</td></tr>\n",
       "<tr><td>274</td><td>GD 363D</td><td></td><td>13.804</td><td>0.586</td><td>-0.011</td><td>0.350</td><td>0.357</td><td>0.705</td><td>11</td><td>6</td><td>17 38 47.885</td><td>+41 54 09.16</td><td>J17384789+4154090</td><td>-8.2</td><td>7.5</td><td>2MASS J17384789+4154090</td></tr>\n",
       "<tr><td>275</td><td>GD 378A</td><td></td><td>13.475</td><td>0.617</td><td>0.140</td><td>0.348</td><td>0.330</td><td>0.682</td><td>16</td><td>8</td><td>18 23 30.902</td><td>+41 04 10.27</td><td>J18233090+4104103</td><td>-10.3</td><td>4.1</td><td>2MASS J18233090+4104103</td></tr>\n",
       "<tr><td>276</td><td>GD 378</td><td>N</td><td>14.288</td><td>-0.080</td><td>-0.962</td><td>-0.036</td><td>-0.043</td><td>-0.091</td><td>17</td><td>8</td><td>18 23 37.012</td><td>+41 04 02.55</td><td>J18233701+4104018</td><td>-2.0</td><td>138.0</td><td>2MASS J18233701+4104018</td></tr>\n",
       "<tr><td>277</td><td>GD 378B</td><td>N</td><td>13.393</td><td>0.690</td><td>0.156</td><td>0.409</td><td>0.402</td><td>0.809</td><td>14</td><td>5</td><td>18 23 45.477</td><td>+41 05 47.88</td><td>J18234547+4105479</td><td>5.3</td><td>3.7</td><td>2MASS J18234547+4105479</td></tr>\n",
       "<tr><td>278</td><td>GD 378C</td><td></td><td>11.771</td><td>0.612</td><td>0.137</td><td>0.355</td><td>0.339</td><td>0.697</td><td>10</td><td>4</td><td>18 23 50.120</td><td>+41 06 43.94</td><td>J18235012+4106440</td><td>-0.3</td><td>-26.2</td><td>2MASS J18235012+4106440</td></tr>\n",
       "<tr><td>279</td><td>SA 38-177</td><td></td><td>10.850</td><td>0.442</td><td>0.015</td><td>0.270</td><td>0.262</td><td>0.533</td><td>12</td><td>7</td><td>18 47 34.575</td><td>+45 10 53.55</td><td>J18473457+4510535</td><td>-2.4</td><td>-5.3</td><td>2MASS J18473457+4510535</td></tr>\n",
       "<tr><td>280</td><td>SA 38-178</td><td></td><td>12.405</td><td>0.724</td><td>0.175</td><td>0.430</td><td>0.416</td><td>0.845</td><td>12</td><td>6</td><td>18 47 35.701</td><td>+45 10 34.03</td><td>J18473570+4510339</td><td>19.5</td><td>6.3</td><td>2MASS J18473570+4510339</td></tr>\n",
       "<tr><td>281</td><td>SA 38-326</td><td>N</td><td>9.947</td><td>0.287</td><td>0.071</td><td>0.171</td><td>0.193</td><td>0.349</td><td>8</td><td>4</td><td>18 47 40.515</td><td>+45 24 39.37</td><td>J18474051+4524393</td><td>6.9</td><td>-0.7</td><td>2MASS J18474051+4524393</td></tr>\n",
       "<tr><td>282</td><td>SA 38-358</td><td>N</td><td>9.854</td><td>1.132</td><td>1.186</td><td>0.583</td><td>0.509</td><td>1.095</td><td>9</td><td>4</td><td>18 48 23.004</td><td>+45 23 22.35</td><td>J18482300+4523223</td><td>-0.4</td><td>6.1</td><td>2MASS J18482300+4523223</td></tr>\n",
       "<tr><td>283</td><td>SA 38-365</td><td></td><td>11.625</td><td>1.205</td><td>1.309</td><td>0.616</td><td>0.546</td><td>1.160</td><td>8</td><td>4</td><td>18 48 32.505</td><td>+45 25 10.85</td><td>J18483249+4525109</td><td>-2.7</td><td>-7.2</td><td>2MASS J18483249+4525109</td></tr>\n",
       "<tr><td>284</td><td>SA 38-375</td><td></td><td>11.556</td><td>0.584</td><td>0.086</td><td>0.326</td><td>0.312</td><td>0.643</td><td>4</td><td>2</td><td>18 48 47.091</td><td>+45 24 19.78</td><td>J18484708+4524198</td><td>-8.5</td><td>-32.7</td><td>2MASS J18484708+4524198</td></tr>\n",
       "<tr><td>285</td><td>SA 38-377</td><td></td><td>10.451</td><td>0.967</td><td>0.778</td><td>0.521</td><td>0.458</td><td>0.976</td><td>4</td><td>2</td><td>18 48 47.755</td><td>+45 20 23.44</td><td>J18484774+4520235</td><td>18.0</td><td>-25.3</td><td>2MASS J18484774+4520235</td></tr>\n",
       "<tr><td>286</td><td>SA 38-382</td><td></td><td>11.351</td><td>0.586</td><td>0.141</td><td>0.329</td><td>0.313</td><td>0.645</td><td>4</td><td>2</td><td>18 48 53.856</td><td>+45 25 29.95</td><td>J18485385+4525299</td><td>-6.3</td><td>-11.9</td><td>2MASS J18485385+4525299</td></tr>\n",
       "<tr><td>287</td><td>SA 38-253</td><td></td><td>10.774</td><td>0.357</td><td>0.025</td><td>0.223</td><td>0.204</td><td>0.428</td><td>9</td><td>4</td><td>18 49 04.397</td><td>+45 14 13.70</td><td>J18490439+4514136</td><td>1.4</td><td>0.3</td><td>2MASS J18490439+4514136</td></tr>\n",
       "<tr><td>288</td><td>SA 38-391</td><td>N</td><td>8.575</td><td>1.266</td><td>1.441</td><td>0.658</td><td>0.577</td><td>1.235</td><td>2</td><td>1</td><td>18 49 07.115</td><td>+45 19 16.77</td><td>J18490711+4519168</td><td>4.8</td><td>-17.6</td><td>2MASS J18490711+4519168</td></tr>\n",
       "<tr><td>289</td><td>SA 38-269</td><td></td><td>11.270</td><td>1.157</td><td>1.200</td><td>0.620</td><td>0.548</td><td>1.168</td><td>9</td><td>4</td><td>18 49 37.723</td><td>+45 14 24.01</td><td>J18493772+4514239</td><td>3.5</td><td>11.1</td><td>2MASS J18493772+4514239</td></tr>\n",
       "<tr><td>290</td><td>SA 38-270</td><td></td><td>10.927</td><td>0.289</td><td>0.085</td><td>0.164</td><td>0.173</td><td>0.320</td><td>10</td><td>5</td><td>18 49 40.787</td><td>+45 09 07.01</td><td>J18494078+4509069</td><td>4.6</td><td>10.0</td><td>2MASS J18494078+4509069</td></tr>\n",
       "<tr><td>291</td><td>SA 38-273</td><td></td><td>10.871</td><td>1.269</td><td>1.285</td><td>0.675</td><td>0.617</td><td>1.298</td><td>9</td><td>4</td><td>18 49 46.591</td><td>+45 13 32.23</td><td>J18494658+4513321</td><td>-3.6</td><td>-6.9</td><td>2MASS J18494658+4513321</td></tr>\n",
       "<tr><td>292</td><td>SA 38-137</td><td></td><td>13.517</td><td>0.736</td><td>0.317</td><td>0.411</td><td>0.370</td><td>0.785</td><td>7</td><td>4</td><td>18 50 24.265</td><td>+45 06 09.47</td><td>J18502426+4506094</td><td>-3.1</td><td>14.3</td><td>2MASS J18502426+4506094</td></tr>\n",
       "<tr><td>293</td><td>SA 38-138</td><td></td><td>14.319</td><td>0.714</td><td>0.270</td><td>0.388</td><td>0.369</td><td>0.762</td><td>9</td><td>5</td><td>18 50 25.534</td><td>+45 06 06.38</td><td>J18502554+4506064</td><td>4.0</td><td>-5.7</td><td>2MASS J18502554+4506064</td></tr>\n",
       "<tr><td>294</td><td>SA 38-297</td><td></td><td>14.395</td><td>0.610</td><td>0.137</td><td>0.346</td><td>0.350</td><td>0.696</td><td>2</td><td>1</td><td>18 50 27.011</td><td>+45 07 55.90</td><td>J18502701+4507559</td><td>-4.8</td><td>-4.2</td><td>2MASS J18502701+4507559</td></tr>\n",
       "<tr><td>295</td><td>SA 38-298</td><td></td><td>15.221</td><td>0.594</td><td>0.116</td><td>0.386</td><td>0.361</td><td>0.749</td><td>1</td><td>1</td><td>18 50 31.101</td><td>+45 09 37.03</td><td>J18503111+4509370</td><td>-7.9</td><td>-10.7</td><td>2MASS J18503111+4509370</td></tr>\n",
       "<tr><td>296</td><td>SA 38-302</td><td></td><td>15.461</td><td>0.932</td><td>0.530</td><td>0.528</td><td>0.430</td><td>0.955</td><td>1</td><td>1</td><td>18 50 33.197</td><td>+45 10 43.05</td><td>J18503321+4510431</td><td>4.4</td><td>7.2</td><td>2MASS J18503321+4510431</td></tr>\n",
       "<tr><td>297</td><td>SA 38-303</td><td></td><td>15.062</td><td>0.618</td><td>0.093</td><td>0.334</td><td>0.413</td><td>0.746</td><td>1</td><td>1</td><td>18 50 34.221</td><td>+45 07 26.48</td><td>J18503422+4507265</td><td>10.8</td><td>7.0</td><td>2MASS J18503422+4507265</td></tr>\n",
       "<tr><td>298</td><td>SA 38-304</td><td></td><td>14.514</td><td>0.595</td><td>0.068</td><td>0.294</td><td>0.364</td><td>0.657</td><td>1</td><td>1</td><td>18 50 36.293</td><td>+45 09 06.83</td><td>J18503629+4509068</td><td>-0.6</td><td>-9.2</td><td>2MASS J18503629+4509068</td></tr>\n",
       "<tr><td>299</td><td>SA 38-149</td><td></td><td>15.186</td><td>0.639</td><td>0.110</td><td>0.339</td><td>0.317</td><td>0.657</td><td>1</td><td>1</td><td>18 50 41.729</td><td>+45 06 37.02</td><td>J18504174+4506370</td><td>-7.8</td><td>-6.9</td><td>2MASS J18504174+4506370</td></tr>\n",
       "<tr><td>300</td><td>SA 38-309</td><td></td><td>12.798</td><td>0.682</td><td>0.195</td><td>0.383</td><td>0.372</td><td>0.753</td><td>7</td><td>4</td><td>18 50 45.291</td><td>+45 07 42.19</td><td>J18504529+4507421</td><td>-0.6</td><td>-4.6</td><td>2MASS J18504529+4507421</td></tr>\n",
       "<tr><td>301</td><td>SA 38-156</td><td></td><td>15.358</td><td>0.579</td><td>-0.069</td><td>0.356</td><td>0.368</td><td>0.712</td><td>12</td><td>7</td><td>18 50 46.158</td><td>+45 05 52.97</td><td>J18504615+4505529</td><td>-5.7</td><td>-7.2</td><td>2MASS J18504615+4505529</td></tr>\n",
       "<tr><td>302</td><td>SA 38-157</td><td></td><td>15.213</td><td>1.036</td><td>0.831</td><td>0.570</td><td>0.523</td><td>1.094</td><td>9</td><td>5</td><td>18 50 46.519</td><td>+45 06 11.51</td><td>J18504652+4506115</td><td>2.0</td><td>3.6</td><td>2MASS J18504652+4506115</td></tr>\n",
       "<tr><td>303</td><td>SA 38-310</td><td></td><td>10.489</td><td>1.259</td><td>1.407</td><td>0.651</td><td>0.555</td><td>1.212</td><td>11</td><td>6</td><td>18 50 48.873</td><td>+45 08 43.50</td><td>J18504886+4508433</td><td>10.1</td><td>5.7</td><td>2MASS J18504886+4508433</td></tr>\n",
       "<tr><td>304</td><td>SA 38-312</td><td></td><td>12.171</td><td>1.290</td><td>1.187</td><td>0.706</td><td>0.666</td><td>1.374</td><td>9</td><td>5</td><td>18 50 50.491</td><td>+45 09 36.42</td><td>J18505049+4509363</td><td>-6.9</td><td>3.2</td><td>2MASS J18505049+4509363</td></tr>\n",
       "<tr><td>305</td><td>GD 391F</td><td></td><td>12.500</td><td>0.544</td><td>0.048</td><td>0.329</td><td>0.331</td><td>0.660</td><td>10</td><td>5</td><td>20 29 37.183</td><td>+39 17 17.58</td><td>J20293718+3917176</td><td>-8.5</td><td>-15.4</td><td>2MASS J20293718+3917176</td></tr>\n",
       "<tr><td>306</td><td>GD 391E</td><td></td><td>12.409</td><td>0.560</td><td>0.043</td><td>0.326</td><td>0.314</td><td>0.642</td><td>14</td><td>7</td><td>20 29 43.642</td><td>+39 17 17.98</td><td>J20294363+3917180</td><td>5.1</td><td>-7.8</td><td>2MASS J20294363+3917180</td></tr>\n",
       "<tr><td>307</td><td>GD 391H</td><td></td><td>14.365</td><td>0.723</td><td>0.183</td><td>0.417</td><td>0.396</td><td>0.814</td><td>8</td><td>4</td><td>20 29 45.496</td><td>+39 18 14.26</td><td>J20294549+3918143</td><td>7.0</td><td>-11.8</td><td>2MASS J20294549+3918143</td></tr>\n",
       "<tr><td>308</td><td>GD 391G</td><td></td><td>13.675</td><td>0.800</td><td>0.314</td><td>0.451</td><td>0.440</td><td>0.893</td><td>8</td><td>4</td><td>20 29 45.987</td><td>+39 16 34.95</td><td>J20294598+3916349</td><td>-6.1</td><td>0.0</td><td>2MASS J20294598+3916349</td></tr>\n",
       "<tr><td>309</td><td>GD 391B</td><td></td><td>12.710</td><td>0.580</td><td>0.200</td><td>0.344</td><td>0.352</td><td>0.696</td><td>16</td><td>9</td><td>20 29 51.196</td><td>+39 14 20.33</td><td>J20295119+3914203</td><td>-6.2</td><td>-7.6</td><td>2MASS J20295119+3914203</td></tr>\n",
       "<tr><td>310</td><td>GD 391D</td><td></td><td>15.012</td><td>0.994</td><td>0.481</td><td>0.570</td><td>0.549</td><td>1.125</td><td>14</td><td>7</td><td>20 29 54.035</td><td>+39 13 43.44</td><td>J20295403+3913434</td><td>7.4</td><td>-6.8</td><td>2MASS J20295403+3913434</td></tr>\n",
       "<tr><td>311</td><td>GD 391A</td><td></td><td>12.315</td><td>0.410</td><td>0.205</td><td>0.236</td><td>0.261</td><td>0.494</td><td>15</td><td>9</td><td>20 29 55.304</td><td>+39 14 13.08</td><td>J20295529+3914130</td><td>3.5</td><td>-0.9</td><td>2MASS J20295529+3914130</td></tr>\n",
       "<tr><td>312</td><td>GD 391</td><td>N</td><td>13.378</td><td>-0.151</td><td>-0.972</td><td>-0.120</td><td>-0.136</td><td>-0.256</td><td>27</td><td>13</td><td>20 29 56.177</td><td>+39 13 32.19</td><td>J20295616+3913320</td><td>149.0</td><td>93.3</td><td>2MASS J20295616+3913320</td></tr>\n",
       "<tr><td>313</td><td>GD 391C</td><td></td><td>11.463</td><td>0.760</td><td>0.608</td><td>0.448</td><td>0.497</td><td>0.937</td><td>12</td><td>6</td><td>20 30 02.922</td><td>+39 15 03.75</td><td>J20300292+3915037</td><td>1.9</td><td>-10.3</td><td>2MASS J20300292+3915037</td></tr>\n",
       "<tr><td>314</td><td>SA 41-620</td><td></td><td>14.176</td><td>0.770</td><td>0.305</td><td>0.468</td><td>0.475</td><td>0.940</td><td>2</td><td>1</td><td>21 53 11.306</td><td>+45 36 21.13</td><td>J21531130+4536210</td><td>-7.6</td><td>-6.2</td><td>2MASS J21531130+4536210</td></tr>\n",
       "<tr><td>315</td><td>SA 41-626</td><td></td><td>14.058</td><td>0.911</td><td>0.687</td><td>0.509</td><td>0.451</td><td>0.954</td><td>2</td><td>1</td><td>21 53 17.263</td><td>+45 37 24.48</td><td>J21531726+4537245</td><td>-8.3</td><td>-5.9</td><td>2MASS J21531726+4537245</td></tr>\n",
       "<tr><td>316</td><td>SA 41-625</td><td></td><td>14.205</td><td>0.876</td><td>0.373</td><td>0.496</td><td>0.509</td><td>1.006</td><td>2</td><td>1</td><td>21 53 17.295</td><td>+45 35 14.74</td><td>J21531730+4535148</td><td>-2.9</td><td>-1.0</td><td>2MASS J21531730+4535148</td></tr>\n",
       "<tr><td>317</td><td>SA 41-630</td><td></td><td>14.986</td><td>1.039</td><td>0.787</td><td>0.593</td><td>0.513</td><td>1.105</td><td>2</td><td>1</td><td>21 53 23.508</td><td>+45 38 17.36</td><td>J21532350+4538173</td><td>10.3</td><td>3.1</td><td>2MASS J21532350+4538173</td></tr>\n",
       "<tr><td>318</td><td>SA 41-631</td><td></td><td>13.390</td><td>0.246</td><td>-0.106</td><td>0.167</td><td>0.196</td><td>0.374</td><td>27</td><td>12</td><td>21 53 24.561</td><td>+45 35 45.09</td><td>J21532456+4535451</td><td>-4.7</td><td>-2.0</td><td>2MASS J21532456+4535451</td></tr>\n",
       "<tr><td>319</td><td>SA 41-634</td><td></td><td>13.164</td><td>0.738</td><td>0.217</td><td>0.448</td><td>0.455</td><td>0.902</td><td>14</td><td>7</td><td>21 53 27.209</td><td>+45 35 40.95</td><td>J21532721+4535410</td><td>-1.7</td><td>-3.1</td><td>2MASS J21532721+4535410</td></tr>\n",
       "<tr><td>320</td><td>SA 41-637</td><td></td><td>14.426</td><td>1.199</td><td>0.800</td><td>0.690</td><td>0.673</td><td>1.360</td><td>20</td><td>10</td><td>21 53 30.416</td><td>+45 36 11.04</td><td>J21533041+4536110</td><td>-1.5</td><td>-0.3</td><td>2MASS J21533041+4536110</td></tr>\n",
       "<tr><td>321</td><td>SA 41-638</td><td></td><td>14.045</td><td>0.736</td><td>0.131</td><td>0.436</td><td>0.461</td><td>0.894</td><td>2</td><td>1</td><td>21 53 32.591</td><td>+45 37 00.50</td><td>J21533258+4537005</td><td>5.6</td><td>-4.4</td><td>2MASS J21533258+4537005</td></tr>\n",
       "<tr><td>322</td><td>SA 41-639</td><td></td><td>14.130</td><td>1.320</td><td>1.045</td><td>0.754</td><td>0.716</td><td>1.472</td><td>17</td><td>8</td><td>21 53 33.743</td><td>+45 34 20.95</td><td>J21533374+4534209</td><td>-0.8</td><td>0.2</td><td>2MASS J21533374+4534209</td></tr>\n",
       "<tr><td>323</td><td>SA 41-654</td><td>N</td><td>10.038</td><td>0.619</td><td>0.207</td><td>0.344</td><td>0.312</td><td>0.658</td><td>13</td><td>6</td><td>21 53 52.663</td><td>+45 33 07.25</td><td>J21535265+4533072</td><td>17.8</td><td>5.0</td><td>2MASS J21535265+4533072</td></tr>\n",
       "<tr><td>324</td><td>SA 41-660</td><td></td><td>12.804</td><td>0.225</td><td>0.081</td><td>0.147</td><td>0.169</td><td>0.319</td><td>25</td><td>11</td><td>21 53 56.878</td><td>+45 32 23.66</td><td>J21535687+4532235</td><td>-7.0</td><td>-4.2</td><td>2MASS J21535687+4532235</td></tr>\n",
       "<tr><td>325</td><td>SA 41-171</td><td></td><td>11.144</td><td>0.315</td><td>0.185</td><td>0.181</td><td>0.206</td><td>0.388</td><td>14</td><td>7</td><td>21 54 04.972</td><td>+45 13 13.57</td><td>J21540496+4513136</td><td>5.0</td><td>-2.6</td><td>2MASS J21540496+4513136</td></tr>\n",
       "<tr><td>326</td><td>SA 41-673</td><td></td><td>14.098</td><td>0.235</td><td>-0.198</td><td>0.155</td><td>0.180</td><td>0.334</td><td>33</td><td>15</td><td>21 54 07.165</td><td>+45 32 38.06</td><td>J21540716+4532380</td><td>2.8</td><td>-2.6</td><td>2MASS J21540716+4532380</td></tr>\n",
       "<tr><td>327</td><td>SA 41-674</td><td></td><td>14.560</td><td>1.051</td><td>0.831</td><td>0.664</td><td>0.595</td><td>1.260</td><td>9</td><td>4</td><td>21 54 07.517</td><td>+45 32 07.05</td><td>J21540751+4532070</td><td>23.1</td><td>-15.0</td><td>2MASS J21540751+4532070</td></tr>\n",
       "<tr><td>328</td><td>SA 41-179</td><td></td><td>11.868</td><td>0.498</td><td>0.177</td><td>0.291</td><td>0.296</td><td>0.586</td><td>9</td><td>4</td><td>21 54 10.448</td><td>+45 16 31.11</td><td>J21541044+4516310</td><td>-1.5</td><td>-8.2</td><td>2MASS J21541044+4516310</td></tr>\n",
       "<tr><td>329</td><td>SA 41-182</td><td></td><td>9.969</td><td>0.307</td><td>0.159</td><td>0.182</td><td>0.197</td><td>0.381</td><td>15</td><td>8</td><td>21 54 12.587</td><td>+45 14 36.50</td><td>J21541258+4514364</td><td>7.2</td><td>-3.4</td><td>2MASS J21541258+4514364</td></tr>\n",
       "<tr><td>330</td><td>SA 41-190</td><td></td><td>10.367</td><td>0.289</td><td>0.074</td><td>0.165</td><td>0.166</td><td>0.332</td><td>17</td><td>8</td><td>21 54 18.195</td><td>+45 15 22.57</td><td>J21541819+4515225</td><td>8.0</td><td>12.2</td><td>2MASS J21541819+4515225</td></tr>\n",
       "<tr><td>331</td><td>SA 41-204</td><td></td><td>10.973</td><td>1.743</td><td>2.064</td><td>1.075</td><td>1.163</td><td>2.242</td><td>17</td><td>8</td><td>21 54 31.607</td><td>+45 13 51.39</td><td>J21543159+4513512</td><td>5.3</td><td>-7.0</td><td>2MASS J21543159+4513512</td></tr>\n",
       "<tr><td>332</td><td>GD 405</td><td>N</td><td>16.751</td><td>-0.166</td><td>-0.811</td><td>-0.517</td><td>--</td><td>--</td><td>2</td><td>1</td><td>23 16 43.875</td><td>+47 27 15.57</td><td>J23164386+4727155</td><td>113.9</td><td>47.3</td><td>2MASS J23164386+4727155</td></tr>\n",
       "<tr><td>333</td><td>GD 405A</td><td></td><td>15.615</td><td>1.063</td><td>1.326</td><td>0.663</td><td>0.579</td><td>1.243</td><td>1</td><td>1</td><td>23 16 44.966</td><td>+47 26 59.90</td><td>J23164495+4726599</td><td>-5.1</td><td>-3.6</td><td>2MASS J23164495+4726599</td></tr>\n",
       "<tr><td>334</td><td>GD 251</td><td>N</td><td>15.745</td><td>-0.182</td><td>-1.003</td><td>-0.068</td><td>-0.171</td><td>-0.236</td><td>2</td><td>1</td><td>23 34 20.865</td><td>+29 18 36.99</td><td>J23342086+2918366</td><td>-68.0</td><td>-122.0</td><td>2MASS J23342086+2918366</td></tr>\n",
       "<tr><td>335</td><td>SA 103-518</td><td></td><td>11.190</td><td>0.645</td><td>0.045</td><td>0.378</td><td>0.371</td><td>0.748</td><td>4</td><td>2</td><td>11 56 30.866</td><td>-00 32 37.58</td><td>J11563087-0032375</td><td>-39.0</td><td>-40.3</td><td>2MASS J11563087-0032375</td></tr>\n",
       "<tr><td>336</td><td>SA 103-626</td><td></td><td>11.820</td><td>0.414</td><td>-0.057</td><td>0.263</td><td>0.274</td><td>0.537</td><td>4</td><td>2</td><td>11 56 46.156</td><td>-00 23 14.70</td><td>J11564615-0023146</td><td>18.1</td><td>-10.2</td><td>2MASS J11564615-0023146</td></tr>\n",
       "<tr><td>337</td><td>SA 103-528</td><td></td><td>11.776</td><td>0.583</td><td>0.014</td><td>0.339</td><td>0.336</td><td>0.674</td><td>4</td><td>2</td><td>11 57 00.826</td><td>-00 26 01.45</td><td>J11570082-0026014</td><td>-11.9</td><td>-13.9</td><td>2MASS J11570082-0026014</td></tr>\n",
       "<tr><td>338</td><td>SA 103-529</td><td></td><td>12.227</td><td>0.985</td><td>0.807</td><td>0.531</td><td>0.473</td><td>1.004</td><td>4</td><td>2</td><td>11 57 01.882</td><td>-00 26 58.96</td><td>J11570188-0026589</td><td>6.7</td><td>-4.0</td><td>2MASS J11570188-0026589</td></tr>\n",
       "<tr><td>339</td><td>SA 103-646</td><td></td><td>12.444</td><td>0.717</td><td>0.219</td><td>0.394</td><td>0.373</td><td>0.766</td><td>4</td><td>2</td><td>11 57 20.329</td><td>-00 21 00.92</td><td>J11572032-0021010</td><td>-1.7</td><td>0.3</td><td>2MASS J11572032-0021010</td></tr>\n",
       "<tr><td>340</td><td>SA 107-970</td><td>N</td><td>10.926</td><td>1.605</td><td>1.799</td><td>1.181</td><td>1.458</td><td>2.638</td><td>7</td><td>7</td><td>15 37 25.829</td><td>+00 18 33.85</td><td>J15372582+0018339</td><td>-2.2</td><td>-1.9</td><td>2MASS J15372582+0018339</td></tr>\n",
       "<tr><td>341</td><td>SA 107-991</td><td></td><td>12.094</td><td>1.083</td><td>0.813</td><td>0.603</td><td>0.563</td><td>1.166</td><td>4</td><td>2</td><td>15 38 06.902</td><td>+00 16 19.31</td><td>J15380690+0016193</td><td>-11.2</td><td>-5.7</td><td>2MASS J15380690+0016193</td></tr>\n",
       "<tr><td>342</td><td>SA 107-847</td><td>N</td><td>10.245</td><td>1.074</td><td>0.830</td><td>0.575</td><td>0.526</td><td>1.102</td><td>4</td><td>2</td><td>15 38 19.398</td><td>+00 08 04.90</td><td>J15381938+0008049</td><td>-13.3</td><td>-6.0</td><td>2MASS J15381938+0008049</td></tr>\n",
       "<tr><td>343</td><td>SA 107-862</td><td></td><td>11.212</td><td>0.549</td><td>0.060</td><td>0.325</td><td>0.315</td><td>0.641</td><td>4</td><td>2</td><td>15 38 55.944</td><td>+00 09 48.13</td><td>J15385594+0009480</td><td>5.8</td><td>-0.5</td><td>2MASS J15385594+0009480</td></tr>\n",
       "<tr><td>344</td><td>SA 107-1014</td><td></td><td>12.117</td><td>0.545</td><td>0.014</td><td>0.334</td><td>0.337</td><td>0.671</td><td>4</td><td>2</td><td>15 38 59.016</td><td>+00 15 30.98</td><td>J15385901+0015310</td><td>-10.2</td><td>-11.8</td><td>2MASS J15385901+0015310</td></tr>\n",
       "<tr><td>345</td><td>SA 107-871</td><td></td><td>12.467</td><td>0.656</td><td>0.120</td><td>0.383</td><td>0.371</td><td>0.755</td><td>4</td><td>2</td><td>15 39 16.189</td><td>+00 08 54.53</td><td>J15391619+0008545</td><td>-14.3</td><td>11.5</td><td>2MASS J15391619+0008545</td></tr>\n",
       "<tr><td>346</td><td>SA 108-870</td><td></td><td>11.856</td><td>1.218</td><td>1.168</td><td>0.679</td><td>0.608</td><td>1.288</td><td>4</td><td>2</td><td>16 37 45.814</td><td>-00 28 23.75</td><td>J15391619+0008545</td><td>-13.4</td><td>2.3</td><td>2MASS J15391619+0008545</td></tr>\n",
       "<tr><td>347</td><td>SA 108-872</td><td></td><td>11.925</td><td>0.840</td><td>0.357</td><td>0.479</td><td>0.445</td><td>0.923</td><td>4</td><td>4</td><td>16 37 49.759</td><td>-00 22 18.99</td><td>J16374581-0028236</td><td>-8.1</td><td>-0.3</td><td>2MASS J16374581-0028236</td></tr>\n",
       "<tr><td>348</td><td>SA 108-570</td><td></td><td>12.122</td><td>0.531</td><td>0.087</td><td>0.321</td><td>0.319</td><td>0.640</td><td>4</td><td>2</td><td>16 38 04.824</td><td>-00 35 06.86</td><td>J16374976-0022189</td><td>-11.0</td><td>-22.8</td><td>2MASS J16374976-0022189</td></tr>\n",
       "</table><style>table.dataTable {clear: both; width: auto !important; margin: 0 !important;}\n",
       ".dataTables_info, .dataTables_length, .dataTables_filter, .dataTables_paginate{\n",
       "display: inline-block; margin-right: 1em; }\n",
       ".paginate_button { margin-right: 5px; }\n",
       "</style>\n",
       "<script>\n",
       "\n",
       "var astropy_sort_num = function(a, b) {\n",
       "    var a_num = parseFloat(a);\n",
       "    var b_num = parseFloat(b);\n",
       "\n",
       "    if (isNaN(a_num) && isNaN(b_num))\n",
       "        return ((a < b) ? -1 : ((a > b) ? 1 : 0));\n",
       "    else if (!isNaN(a_num) && !isNaN(b_num))\n",
       "        return ((a_num < b_num) ? -1 : ((a_num > b_num) ? 1 : 0));\n",
       "    else\n",
       "        return isNaN(a_num) ? -1 : 1;\n",
       "}\n",
       "\n",
       "require.config({paths: {\n",
       "    datatables: 'https://cdn.datatables.net/1.10.12/js/jquery.dataTables.min'\n",
       "}});\n",
       "require([\"datatables\"], function(){\n",
       "    console.log(\"$('#table1896674579840-739579').dataTable()\");\n",
       "    \n",
       "jQuery.extend( jQuery.fn.dataTableExt.oSort, {\n",
       "    \"optionalnum-asc\": astropy_sort_num,\n",
       "    \"optionalnum-desc\": function (a,b) { return -astropy_sort_num(a, b); }\n",
       "});\n",
       "\n",
       "    $('#table1896674579840-739579').dataTable({\n",
       "        order: [],\n",
       "        pageLength: 10,\n",
       "        lengthMenu: [[10, 25, 50, 100, 500, 1000, -1], [10, 25, 50, 100, 500, 1000, 'All']],\n",
       "        pagingType: \"full_numbers\",\n",
       "        columnDefs: [{targets: [0, 3, 4, 5, 6, 7, 8, 9, 10, 14, 15], type: \"optionalnum\"}]\n",
       "    });\n",
       "});\n",
       "</script>\n"
      ],
      "text/plain": [
       "<IPython.core.display.HTML object>"
      ]
     },
     "execution_count": 207,
     "metadata": {},
     "output_type": "execute_result"
    }
   ],
   "source": [
    "landolt_tbl = landolt_catalog[0]\n",
    "landolt_tbl.show_in_notebook(display_length=10) # you can change the display_length to show more or fewer rows"
   ]
  },
  {
   "cell_type": "markdown",
   "metadata": {},
   "source": [
    "The table above contains two columns that specify the RA and Dec coordinates, `RAJ2000` and `DEJ2000`.\n",
    "\n",
    "We'd like to be able to plot these and use them in some calculations below, so we'll turn them into `astropy.coordinates` objects.   Note that we need to do this because most software tools don't know how to read sexagesimal labels as numbers.  Anyway, the conversion process is easy:"
   ]
  },
  {
   "cell_type": "code",
   "execution_count": 208,
   "metadata": {},
   "outputs": [],
   "source": [
    "from astropy import coordinates, units as u\n",
    "import numpy as np"
   ]
  },
  {
   "cell_type": "code",
   "execution_count": 209,
   "metadata": {},
   "outputs": [],
   "source": [
    "landolt_coords = coordinates.SkyCoord(landolt_tbl['RAJ2000'], landolt_tbl['DEJ2000'], unit=(u.h, u.deg))"
   ]
  },
  {
   "cell_type": "markdown",
   "metadata": {},
   "source": [
    "We can visualize the _sky coverage_ of these standard stars in RA and Dec:"
   ]
  },
  {
   "cell_type": "code",
   "execution_count": 210,
   "metadata": {},
   "outputs": [],
   "source": [
    "import pylab as plt\n",
    "plt.style.use('dark_background') # if you're using a light background, you should turn this off"
   ]
  },
  {
   "cell_type": "code",
   "execution_count": 211,
   "metadata": {},
   "outputs": [
    {
     "data": {
      "image/png": "[encoded data removed]",
      "text/plain": [
       "<Figure size 432x288 with 1 Axes>"
      ]
     },
     "metadata": {},
     "output_type": "display_data"
    }
   ],
   "source": [
    "_=plt.plot(landolt_coords.ra, landolt_coords.dec, 'o')\n",
    "_=plt.xlabel(\"RA\")\n",
    "_=plt.ylabel(\"Dec\")\n",
    "_=plt.title(\"Sky locations of Landolt standard stars (North)\")"
   ]
  },
  {
   "cell_type": "markdown",
   "metadata": {},
   "source": [
    "What if we want to figure out where these are in altitute and azimuth (alt/az) relative to us, the observer?  The Sky Plot feature from astroplan is good for that!  Of course, we need to specify the observatory first:"
   ]
  },
  {
   "cell_type": "code",
   "execution_count": 212,
   "metadata": {},
   "outputs": [],
   "source": [
    "from astroplan import Observer\n",
    "from astropy import units as u # shortcut\n",
    "CTO = Observer(location=coordinates.EarthLocation(lat=29.643018, lon=-82.349004*u.deg, height=31*u.m),\n",
    "               timezone='EST',\n",
    "               name='University of Florida Campus Teaching Observatory',\n",
    "              )"
   ]
  },
  {
   "cell_type": "code",
   "execution_count": 213,
   "metadata": {},
   "outputs": [],
   "source": [
    "from astroplan.plots import plot_sky\n",
    "from astropy.time import Time"
   ]
  },
  {
   "cell_type": "code",
   "execution_count": 214,
   "metadata": {},
   "outputs": [
    {
     "data": {
      "image/png": "[encoded data removed]",
      "text/plain": [
       "<Figure size 432x288 with 1 Axes>"
      ]
     },
     "metadata": {},
     "output_type": "display_data"
    }
   ],
   "source": [
    "_=plot_sky(target=landolt_coords, observer=CTO, time=Time('2021-04-11 18:00:00'))\n",
    "_=plot_sky(target=landolt_coords, observer=CTO, time=Time('2021-04-11 20:00:00'))\n",
    "_=plot_sky(target=landolt_coords, observer=CTO, time=Time('2021-04-11 22:00:00'))\n",
    "_=plt.title(\"Sky Plot relative to CTO at 1800, 2000, and 2200 on April 11\")"
   ]
  },
  {
   "cell_type": "markdown",
   "metadata": {},
   "source": [
    "There are a lot of targets that go straight overhead!  There aren't so many in the South, but that's because we picked a standard star catalog that is meant for the north; if we wanted stars further south, we could use [\"II/183A/table2\"](http://vizier.u-strasbg.fr/viz-bin/VizieR-3?-source=II/183A/table2) instead.\n",
    "\n",
    "To find these table IDs, you can just search on Vizier for the name \"Landolt standards\"."
   ]
  },
  {
   "cell_type": "markdown",
   "metadata": {},
   "source": [
    "Let's say we want to observe P Cygni.  How do we find the closest standard(s)?"
   ]
  },
  {
   "cell_type": "markdown",
   "metadata": {},
   "source": [
    "First, we can simply overplot it on our RA/Dec plot"
   ]
  },
  {
   "cell_type": "code",
   "execution_count": 215,
   "metadata": {},
   "outputs": [],
   "source": [
    "pcyg_coord = coordinates.SkyCoord.from_name('P Cygni')"
   ]
  },
  {
   "cell_type": "code",
   "execution_count": 1,
   "metadata": {},
   "outputs": [
    {
     "ename": "NameError",
     "evalue": "name 'plt' is not defined",
     "output_type": "error",
     "traceback": [
      "\u001b[1;31m---------------------------------------------------------------------------\u001b[0m",
      "\u001b[1;31mNameError\u001b[0m                                 Traceback (most recent call last)",
      "\u001b[1;32m<ipython-input-1-5718d17363f8>\u001b[0m in \u001b[0;36m<module>\u001b[1;34m\u001b[0m\n\u001b[1;32m----> 1\u001b[1;33m \u001b[0m_\u001b[0m\u001b[1;33m=\u001b[0m\u001b[0mplt\u001b[0m\u001b[1;33m.\u001b[0m\u001b[0mplot\u001b[0m\u001b[1;33m(\u001b[0m\u001b[0mlandolt_coords\u001b[0m\u001b[1;33m.\u001b[0m\u001b[0mra\u001b[0m\u001b[1;33m,\u001b[0m \u001b[0mlandolt_coords\u001b[0m\u001b[1;33m.\u001b[0m\u001b[0mdec\u001b[0m\u001b[1;33m,\u001b[0m \u001b[1;34m'o'\u001b[0m\u001b[1;33m)\u001b[0m\u001b[1;33m\u001b[0m\u001b[1;33m\u001b[0m\u001b[0m\n\u001b[0m\u001b[0;32m      2\u001b[0m \u001b[0m_\u001b[0m\u001b[1;33m=\u001b[0m\u001b[0mplt\u001b[0m\u001b[1;33m.\u001b[0m\u001b[0mplot\u001b[0m\u001b[1;33m(\u001b[0m\u001b[0mpcyg_coord\u001b[0m\u001b[1;33m.\u001b[0m\u001b[0mra\u001b[0m\u001b[1;33m,\u001b[0m \u001b[0mpcyg_coord\u001b[0m\u001b[1;33m.\u001b[0m\u001b[0mdec\u001b[0m\u001b[1;33m,\u001b[0m \u001b[1;34m's'\u001b[0m\u001b[1;33m)\u001b[0m\u001b[1;33m\u001b[0m\u001b[1;33m\u001b[0m\u001b[0m\n\u001b[0;32m      3\u001b[0m \u001b[0m_\u001b[0m\u001b[1;33m=\u001b[0m\u001b[0mplt\u001b[0m\u001b[1;33m.\u001b[0m\u001b[0mxlabel\u001b[0m\u001b[1;33m(\u001b[0m\u001b[1;34m\"RA\"\u001b[0m\u001b[1;33m)\u001b[0m\u001b[1;33m\u001b[0m\u001b[1;33m\u001b[0m\u001b[0m\n\u001b[0;32m      4\u001b[0m \u001b[0m_\u001b[0m\u001b[1;33m=\u001b[0m\u001b[0mplt\u001b[0m\u001b[1;33m.\u001b[0m\u001b[0mylabel\u001b[0m\u001b[1;33m(\u001b[0m\u001b[1;34m\"Dec\"\u001b[0m\u001b[1;33m)\u001b[0m\u001b[1;33m\u001b[0m\u001b[1;33m\u001b[0m\u001b[0m\n\u001b[0;32m      5\u001b[0m \u001b[0m_\u001b[0m\u001b[1;33m=\u001b[0m\u001b[0mplt\u001b[0m\u001b[1;33m.\u001b[0m\u001b[0mtitle\u001b[0m\u001b[1;33m(\u001b[0m\u001b[1;34m\"Sky locations of Landolt standard stars (North) + P Cyg\"\u001b[0m\u001b[1;33m)\u001b[0m\u001b[1;33m\u001b[0m\u001b[1;33m\u001b[0m\u001b[0m\n",
      "\u001b[1;31mNameError\u001b[0m: name 'plt' is not defined"
     ]
    }
   ],
   "source": [
    "_=plt.plot(landolt_coords.ra, landolt_coords.dec, 'o')\n",
    "_=plt.plot(pcyg_coord.ra, pcyg_coord.dec, 's')\n",
    "_=plt.xlabel(\"RA\")\n",
    "_=plt.ylabel(\"Dec\")\n",
    "_=plt.title(\"Sky locations of Landolt standard stars (North) + P Cyg\")"
   ]
  },
  {
   "cell_type": "markdown",
   "metadata": {},
   "source": [
    "## Find closest calibrator\n",
    "\n",
    "[Index](#Index)"
   ]
  },
  {
   "cell_type": "markdown",
   "metadata": {},
   "source": [
    "How can we figure out which calibrator source from the catalog is the closest one?\n",
    "\n",
    "We can calculate the distance between P Cygni and each of the stars in the Landolt catalog.  That distance is the _angular separation_ on the sphere:\n",
    "$$\\theta = \\cos^{-1} \\left[ \\sin(\\delta_1) \\sin(\\delta_2) + \\cos(\\delta_1) \\cos(\\delta_2) \\cos(\\alpha_1 - \\alpha_2) \\right]$$\n",
    "\n",
    "In practice, you don't want to do this yourself, as there can be numerical issues when calculating these values near the poles (see the article on [Great Circle distances](https://en.wikipedia.org/wiki/Great-circle_distance)).  Thankfully, astropy's coordinates provide a `separation` tool to calculate this for us.\n",
    "\n"
   ]
  },
  {
   "cell_type": "code",
   "execution_count": 217,
   "metadata": {},
   "outputs": [],
   "source": [
    "distances_from_pcyg_to_standards = pcyg_coord.separation(landolt_coords)"
   ]
  },
  {
   "cell_type": "markdown",
   "metadata": {},
   "source": [
    "We can then find which of these is closest by taking the minimum:"
   ]
  },
  {
   "cell_type": "code",
   "execution_count": 218,
   "metadata": {},
   "outputs": [
    {
     "data": {
      "text/latex": [
       "$2^\\circ37{}^\\prime43.7412{}^{\\prime\\prime}$"
      ],
      "text/plain": [
       "<Angle 2.628817 deg>"
      ]
     },
     "execution_count": 218,
     "metadata": {},
     "output_type": "execute_result"
    }
   ],
   "source": [
    "np.min(distances_from_pcyg_to_standards)"
   ]
  },
  {
   "cell_type": "markdown",
   "metadata": {},
   "source": [
    "The closest standard star is about 2 degrees away.  Which star is it, though?  We can use `np.argmin` to obtain the index corresponding to that minimum value."
   ]
  },
  {
   "cell_type": "code",
   "execution_count": 219,
   "metadata": {},
   "outputs": [
    {
     "data": {
      "text/plain": [
       "(305,\n",
       " <SkyCoord (ICRS): (ra, dec) in deg\n",
       "     (307.40492917, 39.28821667)>)"
      ]
     },
     "execution_count": 219,
     "metadata": {},
     "output_type": "execute_result"
    }
   ],
   "source": [
    "index = np.argmin(distances_from_pcyg_to_standards)\n",
    "index, landolt_coords[index]"
   ]
  },
  {
   "cell_type": "markdown",
   "metadata": {},
   "source": [
    "So now we have its location.  Can we find out more about the star, like its name and brightness?\n",
    "\n",
    "Since `landolt_coords` has the same length and order as the `landolt_table` above, yes!  We can use the same index:"
   ]
  },
  {
   "cell_type": "code",
   "execution_count": 220,
   "metadata": {},
   "outputs": [
    {
     "data": {
      "text/html": [
       "<i>Row index=305</i>\n",
       "<table id=\"table1896674579840\">\n",
       "<thead><tr><th>Name</th><th>N</th><th>__Vmag_</th><th>__B-V_</th><th>__U-B_</th><th>__V-R_</th><th>__R-I_</th><th>__V-I_</th><th>No</th><th>Nn</th><th>RAJ2000</th><th>DEJ2000</th><th>_2MASS</th><th>pmRA</th><th>pmDE</th><th>SimbadName</th></tr></thead>\n",
       "<thead><tr><th></th><th></th><th>mag</th><th>mag</th><th>mag</th><th>mag</th><th>mag</th><th>mag</th><th></th><th></th><th>&quot;h:m:s&quot;</th><th>&quot;d:m:s&quot;</th><th></th><th>mas / yr</th><th>mas / yr</th><th></th></tr></thead>\n",
       "<thead><tr><th>str12</th><th>str1</th><th>float32</th><th>float32</th><th>float32</th><th>float32</th><th>float32</th><th>float32</th><th>int16</th><th>int16</th><th>str12</th><th>str12</th><th>str17</th><th>float32</th><th>float32</th><th>str23</th></tr></thead>\n",
       "<tr><td>GD 391F</td><td></td><td>12.500</td><td>0.544</td><td>0.048</td><td>0.329</td><td>0.331</td><td>0.660</td><td>10</td><td>5</td><td>20 29 37.183</td><td>+39 17 17.58</td><td>J20293718+3917176</td><td>-8.5</td><td>-15.4</td><td>2MASS J20293718+3917176</td></tr>\n",
       "</table>"
      ],
      "text/plain": [
       "<Row index=305>\n",
       "  Name   N   __Vmag_  __B-V_  __U-B_  __V-R_  __R-I_  __V-I_   No    Nn    RAJ2000      DEJ2000          _2MASS        pmRA     pmDE          SimbadName      \n",
       "               mag     mag     mag     mag     mag     mag                 \"h:m:s\"      \"d:m:s\"                      mas / yr mas / yr                        \n",
       " str12  str1 float32 float32 float32 float32 float32 float32 int16 int16    str12        str12           str17       float32  float32           str23         \n",
       "------- ---- ------- ------- ------- ------- ------- ------- ----- ----- ------------ ------------ ----------------- -------- -------- -----------------------\n",
       "GD 391F       12.500   0.544   0.048   0.329   0.331   0.660    10     5 20 29 37.183 +39 17 17.58 J20293718+3917176     -8.5    -15.4 2MASS J20293718+3917176"
      ]
     },
     "execution_count": 220,
     "metadata": {},
     "output_type": "execute_result"
    }
   ],
   "source": [
    "landolt_tbl[index]"
   ]
  },
  {
   "cell_type": "markdown",
   "metadata": {},
   "source": [
    "Great!  We've found our standard star, and we know it has a visual magnitude $V_{mag} = 12.5$!"
   ]
  },
  {
   "cell_type": "code",
   "execution_count": 221,
   "metadata": {},
   "outputs": [
    {
     "name": "stdout",
     "output_type": "stream",
     "text": [
      "V Magnitude of standard star:  12.5\n"
     ]
    }
   ],
   "source": [
    "print(\"V Magnitude of standard star: \",landolt_tbl[index]['__Vmag_'])"
   ]
  },
  {
   "cell_type": "markdown",
   "metadata": {},
   "source": [
    "We can also determine its magnitude in the B and R bands using the colors in the table.  Note that the titles of the columns tell you what they contain: except for the V-band, the columns show _colors_, i.e., delta-magnitudes.  The `B-V` column is the `B-V` color.  If you want to obtain the B color, you just do `B-V + V = B`.  "
   ]
  },
  {
   "cell_type": "code",
   "execution_count": 222,
   "metadata": {},
   "outputs": [
    {
     "name": "stdout",
     "output_type": "stream",
     "text": [
      "B Magnitude of standard star:  13.044\n",
      "R Magnitude of standard star:  12.171\n"
     ]
    }
   ],
   "source": [
    "print(\"B Magnitude of standard star: \",landolt_tbl[index]['__Vmag_'] + landolt_tbl[index]['__B-V_'])\n",
    "print(\"R Magnitude of standard star: \",landolt_tbl[index]['__Vmag_'] - landolt_tbl[index]['__V-R_'])"
   ]
  },
  {
   "cell_type": "markdown",
   "metadata": {},
   "source": [
    "Now that we've selected this star, we need to go back through and do the same planning exercises for it as for the targets:\n",
    "\n",
    "1. Where is my calibrator?  (we answered this a few cells ago)\n",
    "2. When can I observe my calibrator? (the same time as my target!)\n",
    "3. How do I know when I've found my calibrator? (make a finder chart)\n",
    "4. How long do I need to observe?\n",
    "\n",
    "## Finder Chart for Calibrator\n",
    "[Index](#Index)\n",
    "\n",
    "Since we've done (1) and (2), let's do (3) and (4):"
   ]
  },
  {
   "cell_type": "markdown",
   "metadata": {},
   "source": [
    "Recall how you made finder charts from Observation Planning Exercise 1:"
   ]
  },
  {
   "cell_type": "code",
   "execution_count": 223,
   "metadata": {},
   "outputs": [
    {
     "data": {
      "image/png": "[encoded data removed]",
      "text/plain": [
       "<Figure size 432x288 with 1 Axes>"
      ]
     },
     "metadata": {},
     "output_type": "display_data"
    }
   ],
   "source": [
    "from astroplan.plots import plot_finder_image\n",
    "ax, hdu = plot_finder_image(landolt_coords[index], survey='DSS', fov_radius=15*u.arcmin, grid=False, reticle=True)"
   ]
  },
  {
   "cell_type": "markdown",
   "metadata": {},
   "source": [
    "On your observing runs, you may have noticed that these finder charts are hard to use, and sometimes it's better to show them more saturated.  You can do that by specifying `style_kwargs`:"
   ]
  },
  {
   "cell_type": "code",
   "execution_count": 224,
   "metadata": {},
   "outputs": [
    {
     "data": {
      "image/png": "[encoded data removed]",
      "text/plain": [
       "<Figure size 432x288 with 1 Axes>"
      ]
     },
     "metadata": {},
     "output_type": "display_data"
    }
   ],
   "source": [
    "ax, hdu = plot_finder_image(landolt_coords[index],\n",
    "                            survey='DSS',\n",
    "                            fov_radius=15*u.arcmin, grid=False, reticle=True,\n",
    "                            style_kwargs={'vmin':18000, 'vmax':18100})"
   ]
  },
  {
   "cell_type": "markdown",
   "metadata": {},
   "source": [
    "You can also change the colorscale if you want something that looks a little more like the night sky:"
   ]
  },
  {
   "cell_type": "code",
   "execution_count": 225,
   "metadata": {},
   "outputs": [
    {
     "data": {
      "image/png": "[encoded data removed]",
      "text/plain": [
       "<Figure size 432x288 with 1 Axes>"
      ]
     },
     "metadata": {},
     "output_type": "display_data"
    }
   ],
   "source": [
    "ax, hdu = plot_finder_image(landolt_coords[index], survey='DSS',\n",
    "                            fov_radius=15*u.arcmin, grid=False,\n",
    "                            reticle=True, style_kwargs={'vmin':18000, 'vmax':18100, 'cmap':'gray'})"
   ]
  },
  {
   "cell_type": "markdown",
   "metadata": {},
   "source": [
    "## Exposure time for calibrator\n",
    "\n",
    "[Index](#Index)"
   ]
  },
  {
   "cell_type": "markdown",
   "metadata": {},
   "source": [
    "How long do we need to observe?  We use the same technique as Observation Planning Exercise 2.\n",
    "\n",
    "The zero points are:\n",
    "* [3600 Jy for V-band](http://svo2.cab.inta-csic.es/theory/fps/index.php?id=Generic/Bessell.V&&mode=browse&gname=Generic&gname2=Bessell#filter)\n",
    "* [4000 Jy for B-band](http://svo2.cab.inta-csic.es/theory/fps/index.php?id=Generic/Bessell.B&&mode=browse&gname=Generic&gname2=Bessell#filter)\n",
    "* [2400 Jy for I-band](http://svo2.cab.inta-csic.es/theory/fps/index.php?id=Generic/Bessell.I&&mode=browse&gname=Generic&gname2=Bessell#filter)"
   ]
  },
  {
   "cell_type": "code",
   "execution_count": 226,
   "metadata": {},
   "outputs": [
    {
     "data": {
      "text/plain": [
       "(12.5, <Quantity 0.036 Jy>)"
      ]
     },
     "execution_count": 226,
     "metadata": {},
     "output_type": "execute_result"
    }
   ],
   "source": [
    "standard_star_vmag = landolt_tbl[index]['__Vmag_']\n",
    "vmag_zeropoint = 3600*u.Jy\n",
    "snu_standard = vmag_zeropoint * (10**(-standard_star_vmag/2.5))\n",
    "standard_star_vmag, snu_standard"
   ]
  },
  {
   "cell_type": "markdown",
   "metadata": {},
   "source": [
    "Using the telescope area and the filter properties, we now determine how much energy we receive from the star (which we calculated in the previous notebook):\n",
    "\n",
    "* The V filter has a central wavelength of 5504 Angstroms\n",
    "* The V filter has a width of \"about\" 1000 Angstroms (for [this filter](http://svo2.cab.inta-csic.es/theory/fps/index.php?id=Generic/Bessell.V&&mode=browse&gname=Generic&gname2=Bessell#filter), the width is 893 Angstroms, but we'll stick with the order-of-magnitude approximation for now)\n",
    "* We are calculating the area of a 14-inch telescope"
   ]
  },
  {
   "cell_type": "code",
   "execution_count": 227,
   "metadata": {},
   "outputs": [
    {
     "data": {
      "text/latex": [
       "$3.5381785 \\times 10^{-8} \\; \\mathrm{\\frac{erg}{s}}$"
      ],
      "text/plain": [
       "<Quantity 3.5381785e-08 erg / s>"
      ]
     },
     "execution_count": 227,
     "metadata": {},
     "output_type": "execute_result"
    }
   ],
   "source": [
    "v_filt_wav = 5504*u.AA\n",
    "v_filt_freq = (v_filt_wav).to(u.Hz, u.spectral())\n",
    "v_filter_width = 1000*u.AA\n",
    "A_CTO = (np.pi*(14/2 * u.imperial.inch)**2).to(u.cm**2)\n",
    "standard_ergs_per_s = snu_standard * A_CTO * v_filt_freq*(v_filter_width/v_filt_wav)\n",
    "standard_ergs_per_s.to(u.erg/u.s)"
   ]
  },
  {
   "cell_type": "code",
   "execution_count": 228,
   "metadata": {},
   "outputs": [],
   "source": [
    "from astropy import constants"
   ]
  },
  {
   "cell_type": "markdown",
   "metadata": {},
   "source": [
    "As before, we want to know the _number of photons_ we will receive per second, so we convert the above energy to a photon rate."
   ]
  },
  {
   "cell_type": "code",
   "execution_count": 229,
   "metadata": {},
   "outputs": [
    {
     "data": {
      "text/latex": [
       "$9803.5063 \\; \\mathrm{\\frac{1}{s}}$"
      ],
      "text/plain": [
       "<Quantity 9803.50629563 1 / s>"
      ]
     },
     "execution_count": 229,
     "metadata": {},
     "output_type": "execute_result"
    }
   ],
   "source": [
    "standard_phot_per_s = (standard_ergs_per_s / (constants.h * v_filt_freq)).decompose()\n",
    "standard_phot_per_s"
   ]
  },
  {
   "cell_type": "markdown",
   "metadata": {},
   "source": [
    "Then, we want to account for the inefficiences in our telescope: the average filter efficiency, the CCD's quantum efficiency, and the loss from atmospheric absorption (noting, of course, that the atmospheric loss is calculated for zenith, so it could be worse than this!)"
   ]
  },
  {
   "cell_type": "code",
   "execution_count": 230,
   "metadata": {},
   "outputs": [
    {
     "data": {
      "text/plain": [
       "0.41999999999999993"
      ]
     },
     "execution_count": 230,
     "metadata": {},
     "output_type": "execute_result"
    }
   ],
   "source": [
    "filter_efficiency = 0.75\n",
    "quantum_efficiency = 0.7\n",
    "atmosphere_loss = 0.2\n",
    "received_fraction = filter_efficiency * quantum_efficiency * (1-atmosphere_loss)\n",
    "received_fraction"
   ]
  },
  {
   "cell_type": "markdown",
   "metadata": {},
   "source": [
    "As before, we need to determine how much our signal will be spread out.  We use the same $\\sigma=2\"$ PSF and $0.5\"$ pixel scale"
   ]
  },
  {
   "cell_type": "code",
   "execution_count": 231,
   "metadata": {},
   "outputs": [
    {
     "data": {
      "text/latex": [
       "$25.132741 \\; \\mathrm{arcsec^{2}}$"
      ],
      "text/plain": [
       "<Quantity 25.13274123 arcsec2>"
      ]
     },
     "execution_count": 231,
     "metadata": {},
     "output_type": "execute_result"
    }
   ],
   "source": [
    "psf_area = 2 * np.pi * (2*u.arcsec)**2\n",
    "psf_area"
   ]
  },
  {
   "cell_type": "code",
   "execution_count": 232,
   "metadata": {},
   "outputs": [
    {
     "data": {
      "text/latex": [
       "$100.53096 \\; \\mathrm{pix^{2}}$"
      ],
      "text/plain": [
       "<Quantity 100.53096491 pix2>"
      ]
     },
     "execution_count": 232,
     "metadata": {},
     "output_type": "execute_result"
    }
   ],
   "source": [
    "pixel_scale = 0.5*u.arcsec/u.pixel\n",
    "psf_area_pixels = psf_area * pixel_scale**-2\n",
    "psf_area_pixels"
   ]
  },
  {
   "cell_type": "code",
   "execution_count": 233,
   "metadata": {},
   "outputs": [
    {
     "data": {
      "text/latex": [
       "$40.957258 \\; \\mathrm{\\frac{1}{s\\,pix^{2}}}$"
      ],
      "text/plain": [
       "<Quantity 40.95725777 1 / (pix2 s)>"
      ]
     },
     "execution_count": 233,
     "metadata": {},
     "output_type": "execute_result"
    }
   ],
   "source": [
    "count_rate_per_pixel = standard_phot_per_s / psf_area_pixels * received_fraction\n",
    "count_rate_per_pixel"
   ]
  },
  {
   "cell_type": "markdown",
   "metadata": {},
   "source": [
    "We want our signal-to-noise ratio to be at least as good as our target, ideally better, since we will be comparing these measurements (taking their difference) and therefore their noise will add in quadrature again.  We can set a target SNR = 100 as before\n"
   ]
  },
  {
   "cell_type": "markdown",
   "metadata": {},
   "source": [
    "Recall that the readnoise on the sum is the square root of the sum of the individual pixel read noise:\n",
    "\n",
    "$$ \\sigma_{RN,sum}^2 = \\Sigma_i \\sigma_{RN,i}^2 = N \\sigma_{RN}^2$$\n",
    "$$ \\sigma_{RN,sum} = \\sqrt{N}  \\cdot \\sigma_{RN}$$"
   ]
  },
  {
   "cell_type": "code",
   "execution_count": 234,
   "metadata": {},
   "outputs": [
    {
     "data": {
      "text/latex": [
       "$100.26513 \\; \\mathrm{adu}$"
      ],
      "text/plain": [
       "<Quantity 100.26513099 adu>"
      ]
     },
     "execution_count": 234,
     "metadata": {},
     "output_type": "execute_result"
    }
   ],
   "source": [
    "readnoise_per_pix = 10*u.adu/u.pix\n",
    "readnoise_sum = psf_area_pixels**0.5 * readnoise_per_pix\n",
    "readnoise_sum"
   ]
  },
  {
   "cell_type": "markdown",
   "metadata": {},
   "source": [
    "Recall the equation (from Observation Planning Part 2) for the target signal as a function of SNR:\n",
    "\n",
    "$$S = SNR^2 \\pm \\frac{\\sqrt{SNR^4 + 4 \\sigma_{RN}^2 SNR^2}}{2}$$"
   ]
  },
  {
   "cell_type": "code",
   "execution_count": 235,
   "metadata": {},
   "outputs": [
    {
     "data": {
      "text/plain": [
       "21204.060197753017"
      ]
     },
     "execution_count": 235,
     "metadata": {},
     "output_type": "execute_result"
    }
   ],
   "source": [
    "SNR = 100\n",
    "target_signal = SNR**2 + (SNR**4 + 4*readnoise_sum.value**2*SNR**2)**0.5 / 2\n",
    "target_signal"
   ]
  },
  {
   "cell_type": "code",
   "execution_count": 236,
   "metadata": {},
   "outputs": [
    {
     "data": {
      "text/latex": [
       "$5.1497756 \\; \\mathrm{s}$"
      ],
      "text/plain": [
       "<Quantity 5.14977561 s>"
      ]
     },
     "execution_count": 236,
     "metadata": {},
     "output_type": "execute_result"
    }
   ],
   "source": [
    "integration_time_including_readnoise = target_signal / standard_phot_per_s / received_fraction\n",
    "integration_time_including_readnoise"
   ]
  },
  {
   "cell_type": "markdown",
   "metadata": {},
   "source": [
    "# Exercise\n",
    "\n",
    "[Index](#Index)"
   ]
  },
  {
   "cell_type": "markdown",
   "metadata": {},
   "source": [
    "Repeat this exercise below for:\n",
    "\n",
    "* (1) the B and R filters.  How long do you need to expose the standard star in each of those filters to get to SNR = 100?\n",
    "* (2) A standard star near your target.  Use one of the targets we observed (e.g., M42 or M1).\n"
   ]
  },
  {
   "cell_type": "markdown",
   "metadata": {},
   "source": [
    "Note that for most of this exercise, you don't need to re-calculate much of the above.  Think about which items you do need to re-calculate.  Answer these questions before you do the exercise.\n",
    "\n",
    "Do you need to recalculate or re-enter:\n",
    "\n",
    "* The star's magnitude? Yes\n",
    "* The star's spectral flux density?  Flux density? Yes, like magnitude this will change for the filter.\n",
    "* The star's count rate? Yes, this will change with the filter\n",
    "* The PSF area? No; this is dependent on the telescope.\n",
    "* The total readnoise? No; this is also dependent on the telescope.\n",
    "* The telescope area? No, we are using the same telescope.\n",
    "* The filter center? Yes, this is filter-dependent.\n",
    "* The filter width? Yes, this is filter-dependent.\n",
    "* The goal SNR? No, the goal is still to reach an SNR of 100.\n",
    "* The target signal for the goal SNR? No; this is dependent on the SNR and readnoise.\n",
    "* The goal integration time? Yes; this is dependent on the filter. \n",
    "* The star location? No (except for finding the different target in part (2))\n",
    "\n",
    "\n",
    "Answer each of the above with a \"Yes\" or \"No\".  The first is answered \"Yes\" for you - we're looking at a different filter for part (1) and a different target for part (2), so you definitely need to have a different value for the magnitude."
   ]
  },
  {
   "cell_type": "markdown",
   "metadata": {},
   "source": [
    "Then, in new cells below here, complete the exercise:"
   ]
  },
  {
   "cell_type": "markdown",
   "metadata": {},
   "source": [
    "### B filter"
   ]
  },
  {
   "cell_type": "code",
   "execution_count": 237,
   "metadata": {},
   "outputs": [
    {
     "data": {
      "text/plain": [
       "(13.044, <Quantity 0.02423595 Jy>)"
      ]
     },
     "execution_count": 237,
     "metadata": {},
     "output_type": "execute_result"
    }
   ],
   "source": [
    "standard_star_bmag = landolt_tbl[index]['__B-V_'] + landolt_tbl[index]['__Vmag_']\n",
    "bmag_zeropoint = 4000*u.Jy\n",
    "snu_standard = bmag_zeropoint * (10**(-standard_star_bmag/2.5))\n",
    "standard_star_bmag, snu_standard"
   ]
  },
  {
   "cell_type": "code",
   "execution_count": 238,
   "metadata": {},
   "outputs": [
    {
     "data": {
      "text/latex": [
       "$3.7272529 \\times 10^{-8} \\; \\mathrm{\\frac{erg}{s}}$"
      ],
      "text/plain": [
       "<Quantity 3.72725288e-08 erg / s>"
      ]
     },
     "execution_count": 238,
     "metadata": {},
     "output_type": "execute_result"
    }
   ],
   "source": [
    "b_filt_wav = 4400*u.AA\n",
    "b_filt_freq = (b_filt_wav).to(u.Hz, u.spectral())\n",
    "b_filter_width = 1000*u.AA\n",
    "A_CTO = (np.pi*(14/2 * u.imperial.inch)**2).to(u.cm**2)\n",
    "standard_ergs_per_s = snu_standard * A_CTO * b_filt_freq*(b_filter_width/b_filt_wav)\n",
    "standard_ergs_per_s.to(u.erg/u.s)"
   ]
  },
  {
   "cell_type": "code",
   "execution_count": 239,
   "metadata": {},
   "outputs": [
    {
     "data": {
      "text/latex": [
       "$8255.9072 \\; \\mathrm{\\frac{1}{s}}$"
      ],
      "text/plain": [
       "<Quantity 8255.90719898 1 / s>"
      ]
     },
     "execution_count": 239,
     "metadata": {},
     "output_type": "execute_result"
    }
   ],
   "source": [
    "standard_phot_per_s = (standard_ergs_per_s / (constants.h * b_filt_freq)).decompose()\n",
    "standard_phot_per_s"
   ]
  },
  {
   "cell_type": "code",
   "execution_count": 240,
   "metadata": {},
   "outputs": [
    {
     "data": {
      "text/latex": [
       "$34.491672 \\; \\mathrm{\\frac{1}{s\\,pix^{2}}}$"
      ],
      "text/plain": [
       "<Quantity 34.49167156 1 / (pix2 s)>"
      ]
     },
     "execution_count": 240,
     "metadata": {},
     "output_type": "execute_result"
    }
   ],
   "source": [
    "count_rate_per_pixel = standard_phot_per_s / psf_area_pixels * received_fraction\n",
    "count_rate_per_pixel"
   ]
  },
  {
   "cell_type": "code",
   "execution_count": 241,
   "metadata": {},
   "outputs": [
    {
     "data": {
      "text/latex": [
       "$6.1151193 \\; \\mathrm{s}$"
      ],
      "text/plain": [
       "<Quantity 6.11511932 s>"
      ]
     },
     "execution_count": 241,
     "metadata": {},
     "output_type": "execute_result"
    }
   ],
   "source": [
    "integration_time_including_readnoise = target_signal / standard_phot_per_s / received_fraction\n",
    "integration_time_including_readnoise"
   ]
  },
  {
   "cell_type": "markdown",
   "metadata": {},
   "source": [
    "### R filter"
   ]
  },
  {
   "cell_type": "code",
   "execution_count": 242,
   "metadata": {},
   "outputs": [
    {
     "data": {
      "text/plain": [
       "(12.171, <Quantity 0.04061827 Jy>)"
      ]
     },
     "execution_count": 242,
     "metadata": {},
     "output_type": "execute_result"
    }
   ],
   "source": [
    "standard_star_rmag = landolt_tbl[index]['__Vmag_'] - landolt_tbl[index]['__V-R_']\n",
    "rmag_zeropoint = 3000*u.Jy\n",
    "snu_standard = rmag_zeropoint * (10**(-standard_star_rmag/2.5))\n",
    "standard_star_rmag, snu_standard"
   ]
  },
  {
   "cell_type": "code",
   "execution_count": 243,
   "metadata": {},
   "outputs": [
    {
     "data": {
      "text/latex": [
       "$4.5798241 \\times 10^{-8} \\; \\mathrm{\\frac{erg}{s}}$"
      ],
      "text/plain": [
       "<Quantity 4.57982414e-08 erg / s>"
      ]
     },
     "execution_count": 243,
     "metadata": {},
     "output_type": "execute_result"
    }
   ],
   "source": [
    "r_filt_wav = 6500*u.AA\n",
    "r_filt_freq = (r_filt_wav).to(u.Hz, u.spectral())\n",
    "r_filter_width = 1600*u.AA\n",
    "A_CTO = (np.pi*(14/2 * u.imperial.inch)**2).to(u.cm**2)\n",
    "standard_ergs_per_s = snu_standard * A_CTO * r_filt_freq*(r_filter_width/r_filt_wav)\n",
    "standard_ergs_per_s.to(u.erg/u.s)"
   ]
  },
  {
   "cell_type": "code",
   "execution_count": 244,
   "metadata": {},
   "outputs": [
    {
     "data": {
      "text/latex": [
       "$14985.99 \\; \\mathrm{\\frac{1}{s}}$"
      ],
      "text/plain": [
       "<Quantity 14985.98958626 1 / s>"
      ]
     },
     "execution_count": 244,
     "metadata": {},
     "output_type": "execute_result"
    }
   ],
   "source": [
    "standard_phot_per_s = (standard_ergs_per_s / (constants.h * r_filt_freq)).decompose()\n",
    "standard_phot_per_s"
   ]
  },
  {
   "cell_type": "code",
   "execution_count": 245,
   "metadata": {},
   "outputs": [
    {
     "data": {
      "text/latex": [
       "$62.608726 \\; \\mathrm{\\frac{1}{s\\,pix^{2}}}$"
      ],
      "text/plain": [
       "<Quantity 62.60872589 1 / (pix2 s)>"
      ]
     },
     "execution_count": 245,
     "metadata": {},
     "output_type": "execute_result"
    }
   ],
   "source": [
    "count_rate_per_pixel = standard_phot_per_s / psf_area_pixels * received_fraction\n",
    "count_rate_per_pixel"
   ]
  },
  {
   "cell_type": "code",
   "execution_count": 246,
   "metadata": {},
   "outputs": [
    {
     "data": {
      "text/latex": [
       "$3.3688705 \\; \\mathrm{s}$"
      ],
      "text/plain": [
       "<Quantity 3.36887046 s>"
      ]
     },
     "execution_count": 246,
     "metadata": {},
     "output_type": "execute_result"
    }
   ],
   "source": [
    "integration_time_including_readnoise = target_signal / standard_phot_per_s / received_fraction\n",
    "integration_time_including_readnoise"
   ]
  },
  {
   "cell_type": "markdown",
   "metadata": {},
   "source": [
    "### A standard star near the target"
   ]
  },
  {
   "cell_type": "code",
   "execution_count": 247,
   "metadata": {},
   "outputs": [
    {
     "data": {
      "text/latex": [
       "$48^\\circ04{}^\\prime55.9022{}^{\\prime\\prime}$"
      ],
      "text/plain": [
       "<Angle 48.08219505 deg>"
      ]
     },
     "execution_count": 247,
     "metadata": {},
     "output_type": "execute_result"
    }
   ],
   "source": [
    "m42_coord = coordinates.SkyCoord.from_name('M42')\n",
    "distances_from_m42_to_standards = m42_coord.separation(landolt_coords)\n",
    "np.min(distances_from_m42_to_standards)"
   ]
  },
  {
   "cell_type": "code",
   "execution_count": 248,
   "metadata": {},
   "outputs": [
    {
     "data": {
      "text/plain": [
       "(97,\n",
       " <SkyCoord (ICRS): (ra, dec) in deg\n",
       "     (74.33904167, 41.90658333)>)"
      ]
     },
     "execution_count": 248,
     "metadata": {},
     "output_type": "execute_result"
    }
   ],
   "source": [
    "index = np.argmin(distances_from_m42_to_standards)\n",
    "index, landolt_coords[index]"
   ]
  },
  {
   "cell_type": "code",
   "execution_count": 249,
   "metadata": {},
   "outputs": [
    {
     "name": "stdout",
     "output_type": "stream",
     "text": [
      "V Magnitude of standard star:  12.915\n",
      "B Magnitude of standard star:  13.54\n",
      "R Magnitude of standard star:  12.509\n"
     ]
    }
   ],
   "source": [
    "print(\"V Magnitude of standard star: \",landolt_tbl[index]['__Vmag_'])\n",
    "print(\"B Magnitude of standard star: \",landolt_tbl[index]['__Vmag_'] + landolt_tbl[index]['__B-V_'])\n",
    "print(\"R Magnitude of standard star: \",landolt_tbl[index]['__Vmag_'] - landolt_tbl[index]['__V-R_'])"
   ]
  },
  {
   "cell_type": "code",
   "execution_count": 250,
   "metadata": {},
   "outputs": [
    {
     "data": {
      "image/png": "[encoded data removed]",
      "text/plain": [
       "<Figure size 432x288 with 1 Axes>"
      ]
     },
     "metadata": {},
     "output_type": "display_data"
    }
   ],
   "source": [
    "ax, hdu = plot_finder_image(landolt_coords[index], survey='DSS',\n",
    "                            fov_radius=15*u.arcmin, grid=False,\n",
    "                            reticle=True, style_kwargs={'vmin':8000, 'vmax':12000, 'cmap':'gray'})"
   ]
  },
  {
   "cell_type": "code",
   "execution_count": 251,
   "metadata": {},
   "outputs": [
    {
     "data": {
      "text/latex": [
       "$7.5472423 \\; \\mathrm{s}$"
      ],
      "text/plain": [
       "<Quantity 7.54724226 s>"
      ]
     },
     "execution_count": 251,
     "metadata": {},
     "output_type": "execute_result"
    }
   ],
   "source": [
    "#Exposure time for V\n",
    "standard_star_vmag = landolt_tbl[index]['__Vmag_']\n",
    "vmag_zeropoint = 3600*u.Jy\n",
    "snu_standard = vmag_zeropoint * (10**(-standard_star_vmag/2.5))\n",
    "\n",
    "v_filt_wav = 5504*u.AA\n",
    "v_filt_freq = (v_filt_wav).to(u.Hz, u.spectral())\n",
    "v_filter_width = 1000*u.AA\n",
    "A_CTO = (np.pi*(14/2 * u.imperial.inch)**2).to(u.cm**2)\n",
    "standard_ergs_per_s = snu_standard * A_CTO * v_filt_freq*(v_filter_width/v_filt_wav)\n",
    "standard_ergs_per_s.to(u.erg/u.s)\n",
    "\n",
    "standard_phot_per_s = (standard_ergs_per_s / (constants.h * v_filt_freq)).decompose()\n",
    "\n",
    "count_rate_per_pixel = standard_phot_per_s / psf_area_pixels * received_fraction\n",
    "\n",
    "integration_time_including_readnoise = target_signal / standard_phot_per_s / received_fraction\n",
    "integration_time_including_readnoise"
   ]
  },
  {
   "cell_type": "code",
   "execution_count": 252,
   "metadata": {},
   "outputs": [
    {
     "data": {
      "text/latex": [
       "$9.6561733 \\; \\mathrm{s}$"
      ],
      "text/plain": [
       "<Quantity 9.6561733 s>"
      ]
     },
     "execution_count": 252,
     "metadata": {},
     "output_type": "execute_result"
    }
   ],
   "source": [
    "#Exposure time for B\n",
    "standard_star_bmag = landolt_tbl[index]['__B-V_'] + landolt_tbl[index]['__Vmag_']\n",
    "bmag_zeropoint = 4000*u.Jy\n",
    "snu_standard = bmag_zeropoint * (10**(-standard_star_bmag/2.5))\n",
    "\n",
    "b_filt_wav = 4400*u.AA\n",
    "b_filt_freq = (b_filt_wav).to(u.Hz, u.spectral())\n",
    "b_filter_width = 1000*u.AA\n",
    "A_CTO = (np.pi*(14/2 * u.imperial.inch)**2).to(u.cm**2)\n",
    "standard_ergs_per_s = snu_standard * A_CTO * b_filt_freq*(b_filter_width/b_filt_wav)\n",
    "standard_ergs_per_s.to(u.erg/u.s)\n",
    "\n",
    "standard_phot_per_s = (standard_ergs_per_s / (constants.h * b_filt_freq)).decompose()\n",
    "\n",
    "count_rate_per_pixel = standard_phot_per_s / psf_area_pixels * received_fraction\n",
    "\n",
    "integration_time_including_readnoise = target_signal / standard_phot_per_s / received_fraction\n",
    "integration_time_including_readnoise"
   ]
  },
  {
   "cell_type": "code",
   "execution_count": 253,
   "metadata": {},
   "outputs": [
    {
     "data": {
      "text/latex": [
       "$4.5992226 \\; \\mathrm{s}$"
      ],
      "text/plain": [
       "<Quantity 4.59922261 s>"
      ]
     },
     "execution_count": 253,
     "metadata": {},
     "output_type": "execute_result"
    }
   ],
   "source": [
    "#Exposure time for R\n",
    "standard_star_rmag = landolt_tbl[index]['__Vmag_'] - landolt_tbl[index]['__V-R_']\n",
    "rmag_zeropoint = 3000*u.Jy\n",
    "snu_standard = rmag_zeropoint * (10**(-standard_star_rmag/2.5))\n",
    "standard_star_rmag, snu_standard\n",
    "\n",
    "r_filt_wav = 6500*u.AA\n",
    "r_filt_freq = (r_filt_wav).to(u.Hz, u.spectral())\n",
    "r_filter_width = 1600*u.AA\n",
    "A_CTO = (np.pi*(14/2 * u.imperial.inch)**2).to(u.cm**2)\n",
    "standard_ergs_per_s = snu_standard * A_CTO * r_filt_freq*(r_filter_width/r_filt_wav)\n",
    "standard_ergs_per_s.to(u.erg/u.s)\n",
    "\n",
    "standard_phot_per_s = (standard_ergs_per_s / (constants.h * r_filt_freq)).decompose()\n",
    "\n",
    "count_rate_per_pixel = standard_phot_per_s / psf_area_pixels * received_fraction\n",
    "\n",
    "integration_time_including_readnoise = target_signal / standard_phot_per_s / received_fraction\n",
    "integration_time_including_readnoise"
   ]
  },
  {
   "cell_type": "code",
   "execution_count": null,
   "metadata": {},
   "outputs": [],
   "source": []
  }
 ],
 "metadata": {
  "kernelspec": {
   "display_name": "Python 3",
   "language": "python",
   "name": "python3"
  },
  "language_info": {
   "codemirror_mode": {
    "name": "ipython",
    "version": 3
   },
   "file_extension": ".py",
   "mimetype": "text/x-python",
   "name": "python",
   "nbconvert_exporter": "python",
   "pygments_lexer": "ipython3",
   "version": "3.9.2"
  }
 },
 "nbformat": 4,
 "nbformat_minor": 4
}
